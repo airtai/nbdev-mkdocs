{
 "cells": [
  {
   "cell_type": "code",
   "execution_count": null,
   "id": "b3481907",
   "metadata": {},
   "outputs": [],
   "source": [
    "# | default_exp fixture"
   ]
  },
  {
   "cell_type": "code",
   "execution_count": null,
   "id": "1e933f1b",
   "metadata": {},
   "outputs": [
    {
     "name": "stderr",
     "output_type": "stream",
     "text": [
      "/Users/harishm/.pyenv/versions/3.10.4/lib/python3.10/site-packages/pandas/compat/__init__.py:124: UserWarning: Could not import the lzma module. Your installed Python is incomplete. Attempting to use lzma compression will result in a RuntimeError.\n",
      "  warnings.warn(msg)\n"
     ]
    }
   ],
   "source": [
    "# | export\n",
    "\n",
    "from typing import *\n",
    "from tempfile import TemporaryDirectory\n",
    "\n",
    "from nbdev.doclinks import NbdevLookup\n",
    "from fastcore.basics import patch\n",
    "\n",
    "from nbdev_mkdocs.mkdocs import prepare"
   ]
  },
  {
   "cell_type": "code",
   "execution_count": null,
   "id": "757bd783",
   "metadata": {},
   "outputs": [],
   "source": [
    "# | export\n",
    "\n",
    "\n",
    "class Car:\n",
    "    \"\"\"A class representing a car.\n",
    "\n",
    "    Attributes:\n",
    "        make: The make of the car.\n",
    "        model: The model of the car.\n",
    "        year: The year the car was made.\n",
    "        color: The color of the car.\n",
    "    \"\"\"\n",
    "    SOME_ATTRIBUTE = \"Some class attribute\"\n",
    "\n",
    "    def __init__(self, make: str, model: str, year: int, color: str):\n",
    "        \"\"\"Initialize a new car.\n",
    "\n",
    "        Args:\n",
    "            make: The make of the car.\n",
    "            model: The model of the car.\n",
    "            year: The year the car was made.\n",
    "            color: The color of the car.\n",
    "        \"\"\"\n",
    "        self.make = make\n",
    "        self.model = model\n",
    "        self.year = year\n",
    "        self.color = color\n",
    "        self.is_running = False\n",
    "        \n",
    "    def __len__(self):\n",
    "        \"\"\"len function\"\"\"\n",
    "        return 5\n",
    "\n",
    "    def start(self):\n",
    "        \"\"\"Start the car.\"\"\"\n",
    "        self.is_running = True\n",
    "\n",
    "    def stop(self):\n",
    "        \"\"\"Stop the car.\"\"\"\n",
    "        self.is_running = False\n",
    "\n",
    "    def drive(\n",
    "        self,\n",
    "        distance: float,\n",
    "        speed: Optional[float] = None,\n",
    "        passengers: Optional[int] = None,\n",
    "    ) -> float:\n",
    "        \"\"\"Drive the car a certain distance at an optional speed with an optional number of passengers and\n",
    "        return the distance driven.\n",
    "\n",
    "        Args:\n",
    "            distance: The distance to drive in kilometers.\n",
    "            speed: The speed to drive at in kilometers per hour. Defaults to None.\n",
    "            passengers: The number of passengers in the car. Defaults to None.\n",
    "\n",
    "        Returns:\n",
    "            The distance driven in kilometers.\n",
    "        \"\"\"\n",
    "        if not self.is_running:\n",
    "            raise ValueError(\"Cannot drive a stopped car.\")\n",
    "\n",
    "        if speed:\n",
    "            print(f\"Driving at {speed} km/h.\")\n",
    "\n",
    "        if passengers:\n",
    "            print(f\"Driving with {passengers} passengers.\")\n",
    "\n",
    "        return distance\n",
    "    \n",
    "    def random_method(self, nb_lookup: NbdevLookup, d:TemporaryDirectory, p: prepare): \n",
    "        \"\"\"random_method\n",
    "\n",
    "        Args:\n",
    "            nb_lookup: nb_lookup\n",
    "            d: TemporaryDirectory\n",
    "            p: prepare\n",
    "        \"\"\"\n",
    "        return f\"random_method.\"\n",
    "    \n",
    "    def patched_method_in_same_file(self, s: str) -> prepare:\n",
    "        raise NotImplementedError()\n",
    "        \n",
    "    def patched_method_from_a_different_file(self, s: str) -> str:\n",
    "        raise NotImplementedError()\n",
    "\n",
    "    @staticmethod\n",
    "    def i_am_a_static_method(name: str) -> str:\n",
    "        \"\"\"I am a static method\n",
    "        \n",
    "        Args:\n",
    "            name: Name to say hello\n",
    "            \n",
    "        Returns:\n",
    "            A string\n",
    "            \n",
    "        Example:\n",
    "\n",
    "            ```python\n",
    "\n",
    "            from  nbdev_mkdocs.docstring import run_examples_from_docstring\n",
    "\n",
    "            def f():\n",
    "                ```python\n",
    "                Example:\n",
    "                    print(\"Hello {fill in name}!\")\n",
    "                    print(\"Goodbye {fill in other_name}!\")\n",
    "                ```\n",
    "                pass\n",
    "\n",
    "\n",
    "            run_examples_from_docstring(f, name=\"John\", other_name=\"Jane\")\n",
    "            ```\n",
    "        \"\"\"\n",
    "        if not isinstance(name, str):\n",
    "            raise ValueError(\"I will accept only string\")\n",
    "        return f\"Hello, {name}\"\n",
    "    \n",
    "    @classmethod\n",
    "    def i_am_a_class_method(cls):\n",
    "        \"\"\"I am a class method\n",
    "        \n",
    "        I return \"Nothing\"\n",
    "        \"\"\"\n",
    "        return f\"Nothing\""
   ]
  },
  {
   "cell_type": "code",
   "execution_count": null,
   "id": "00e49fe4",
   "metadata": {},
   "outputs": [],
   "source": [
    "car = Car(\"Honda\", \"City\", 2021, \"red\")\n",
    "car.start()"
   ]
  },
  {
   "cell_type": "code",
   "execution_count": null,
   "id": "24cf1a20",
   "metadata": {},
   "outputs": [],
   "source": [
    "# | export\n",
    "\n",
    "@patch\n",
    "def patched_method_in_same_file(self:Car, s: str) -> prepare: \n",
    "    \"\"\"I am a patched method in the same file\n",
    "    \n",
    "    Args:\n",
    "        s: string\n",
    "    \n",
    "    Returns:\n",
    "        prepare\n",
    "    \"\"\"\n",
    "    return prepare"
   ]
  },
  {
   "cell_type": "code",
   "execution_count": null,
   "id": "ea80a7c0",
   "metadata": {},
   "outputs": [
    {
     "data": {
      "text/plain": [
       "<function nbdev_mkdocs.mkdocs.prepare(root_path: str, use_relative_doc_links: bool = False, no_test: bool = False, no_mkdocs_build: bool = False) -> None>"
      ]
     },
     "execution_count": null,
     "metadata": {},
     "output_type": "execute_result"
    }
   ],
   "source": [
    "car = Car(\"Honda\", \"City\", 2021, \"red\")\n",
    "car.patched_method_in_same_file(\"world\")"
   ]
  },
  {
   "cell_type": "code",
   "execution_count": null,
   "id": "5360e1bc",
   "metadata": {},
   "outputs": [
    {
     "data": {
      "text/plain": [
       "'Hello, world!'"
      ]
     },
     "execution_count": null,
     "metadata": {},
     "output_type": "execute_result"
    }
   ],
   "source": [
    "Car.i_am_a_static_method(\"world!\")"
   ]
  },
  {
   "cell_type": "code",
   "execution_count": null,
   "id": "560578c6",
   "metadata": {},
   "outputs": [
    {
     "data": {
      "text/plain": [
       "'Nothing'"
      ]
     },
     "execution_count": null,
     "metadata": {},
     "output_type": "execute_result"
    }
   ],
   "source": [
    "Car.i_am_a_class_method()"
   ]
  },
  {
   "cell_type": "code",
   "execution_count": null,
   "id": "f9be85c4",
   "metadata": {},
   "outputs": [],
   "source": []
  }
 ],
 "metadata": {
  "kernelspec": {
   "display_name": "python3",
   "language": "python",
   "name": "python3"
  }
 },
 "nbformat": 4,
 "nbformat_minor": 5
}
