{
 "cells": [
  {
   "cell_type": "markdown",
   "id": "489aad76",
   "metadata": {},
   "source": [
    "# core\n",
    "\n",
    "> Fill in a module description here"
   ]
  },
  {
   "cell_type": "code",
   "execution_count": null,
   "id": "420c71e2",
   "metadata": {},
   "outputs": [],
   "source": [
    "#| default_exp test_sym_links"
   ]
  },
  {
   "cell_type": "code",
   "execution_count": null,
   "id": "0eabaf9f",
   "metadata": {},
   "outputs": [],
   "source": [
    "#| export\n",
    "\n",
    "from fastcore.utils import patch"
   ]
  },
  {
   "cell_type": "code",
   "execution_count": null,
   "id": "06bc2923",
   "metadata": {},
   "outputs": [],
   "source": [
    "#| export\n",
    "def foo(): \n",
    "    \"\"\"foo\"\"\"\n",
    "    pass"
   ]
  },
  {
   "cell_type": "code",
   "execution_count": null,
   "id": "46c7a1a2",
   "metadata": {},
   "outputs": [],
   "source": [
    "#| export\n",
    "class HelloSayer:\n",
    "    \"\"\"Say hello to `to` using `say_hello`\"\"\"\n",
    "    def __init__(self, name): self.name = name\n",
    "        \n",
    "    @staticmethod\n",
    "    def static_method():\n",
    "        \"\"\"Do the saying\"\"\"\n",
    "        return \"Hello from static_method\"\n",
    "    \n",
    "    @classmethod\n",
    "    def class_method(cls):\n",
    "        \"\"\"Do the saying\"\"\"\n",
    "        return \"Hello from class_method\""
   ]
  },
  {
   "cell_type": "code",
   "execution_count": null,
   "id": "015dfab4",
   "metadata": {},
   "outputs": [],
   "source": [
    "#| export\n",
    "@patch\n",
    "def instance_method(self: HelloSayer):\n",
    "    \"\"\"Do the saying\"\"\"\n",
    "    return f\"Hello {self.name} from instance_method\""
   ]
  },
  {
   "cell_type": "code",
   "execution_count": null,
   "id": "fb15e51c",
   "metadata": {},
   "outputs": [],
   "source": [
    "assert HelloSayer.static_method() == \"Hello from static_method\", HelloSayer.static_method()\n",
    "\n",
    "hs = HelloSayer(\"world\")\n",
    "assert hs.instance_method() == \"Hello world from instance_method\", hs.instance_method()\n",
    "assert HelloSayer.class_method() == \"Hello from class_method\", HelloSayer.class_method()"
   ]
  }
 ],
 "metadata": {
  "kernelspec": {
   "display_name": "python3",
   "language": "python",
   "name": "python3"
  }
 },
 "nbformat": 4,
 "nbformat_minor": 5
}
