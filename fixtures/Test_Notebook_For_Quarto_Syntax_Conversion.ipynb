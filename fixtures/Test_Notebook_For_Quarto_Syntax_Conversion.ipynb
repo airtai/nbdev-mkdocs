{
 "cells": [
  {
   "cell_type": "markdown",
   "id": "8ee6e33a",
   "metadata": {},
   "source": [
    "This notebook is used to test the conversion of Quarto to Material for MkDocs syntax. It serves as a fixture to verify the syntax, including callouts, Mermaid charts, and making a section hidden, which differ between Quarto and Material for MkDocs."
   ]
  },
  {
   "cell_type": "markdown",
   "id": "58c93178",
   "metadata": {},
   "source": [
    "# Callouts"
   ]
  },
  {
   "cell_type": "markdown",
   "id": "d0a10ffc",
   "metadata": {},
   "source": [
    ":::{.callout-note}\n",
    "Note that there are five types of callouts, including:\n",
    "`note`, `warning`, `important`, `tip`, and `caution`.\n",
    ":::"
   ]
  },
  {
   "cell_type": "markdown",
   "id": "22014eb3",
   "metadata": {},
   "source": [
    "::: {.callout-tip}\n",
    "## Tip with Title\n",
    "\n",
    "This is an example of a callout with a title.\n",
    ":::"
   ]
  },
  {
   "cell_type": "markdown",
   "id": "870e17d7",
   "metadata": {},
   "source": [
    "::: {.callout-tip title=\"Tip with Title\"}\n",
    "This is a callout with a title.\n",
    ":::"
   ]
  },
  {
   "cell_type": "markdown",
   "id": "87f34d1a",
   "metadata": {},
   "source": [
    "::: {.callout-caution collapse=\"true\"}\n",
    "## Expand To Learn About Collapse\n",
    "\n",
    "This is an example of a 'folded' caution callout that can be expanded by the user. You can use `collapse=\"true\"` to collapse it by default or `collapse=\"false\"` to make a collapsible callout that is expanded by default.\n",
    ":::"
   ]
  },
  {
   "cell_type": "markdown",
   "id": "4a8ac79c",
   "metadata": {},
   "source": [
    "::: {.callout-caution collapse=\"false\"}\n",
    "## Expand To Learn About Collapse\n",
    "\n",
    "This is an example of a 'folded' caution callout that can be expanded by the user. You can use `collapse=\"true\"` to collapse it by default or `collapse=\"false\"` to make a collapsible callout that is expanded by default.\n",
    ":::"
   ]
  },
  {
   "cell_type": "markdown",
   "id": "034f6dbb",
   "metadata": {},
   "source": [
    "::: {.callout-note icon=false}\n",
    "\n",
    "Using callouts is an effective way to highlight content that your reader give special consideration or attention.\n",
    "\n",
    ":::"
   ]
  },
  {
   "cell_type": "markdown",
   "id": "8f79c54d",
   "metadata": {},
   "source": [
    "::: {.callout-note appearance=\"minimal\"}\n",
    "\n",
    "Using callouts is an effective way to highlight content that your reader give special consideration or attention.\n",
    "\n",
    ":::"
   ]
  },
  {
   "cell_type": "markdown",
   "id": "ec9209a4",
   "metadata": {},
   "source": [
    "## Mermaid Charts and visibility"
   ]
  },
  {
   "cell_type": "markdown",
   "id": "0a820438",
   "metadata": {},
   "source": [
    "::: {.content-visible when-format=\"markdown\"}\n",
    "\n",
    "Will only appear in markdown.\n",
    "\n",
    ":::\n",
    "\n",
    "```{mermaid}\n",
    "flowchart LR\n",
    "    A[Hard edge] --> B(Round edge)\n",
    "    B --> C{Decision}\n",
    "    C --> D[Result one]\n",
    "    C --> E[Result two]\n",
    "```"
   ]
  },
  {
   "cell_type": "markdown",
   "id": "ebd24225",
   "metadata": {},
   "source": [
    "::: {.content-visible when-format=\"html\"}\n",
    "\n",
    "Will only appear in html.\n",
    "\n",
    ":::"
   ]
  }
 ],
 "metadata": {
  "kernelspec": {
   "display_name": "Python 3 (ipykernel)",
   "language": "python",
   "name": "python3"
  },
  "language_info": {
   "codemirror_mode": {
    "name": "ipython",
    "version": 3
   },
   "file_extension": ".py",
   "mimetype": "text/x-python",
   "name": "python",
   "nbconvert_exporter": "python",
   "pygments_lexer": "ipython3",
   "version": "3.11.2"
  }
 },
 "nbformat": 4,
 "nbformat_minor": 5
}
