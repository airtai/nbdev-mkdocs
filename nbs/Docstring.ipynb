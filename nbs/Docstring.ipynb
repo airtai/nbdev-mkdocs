{
 "cells": [
  {
   "cell_type": "code",
   "execution_count": null,
   "id": "357a583a",
   "metadata": {},
   "outputs": [],
   "source": [
    "#| default_exp docstring"
   ]
  },
  {
   "cell_type": "markdown",
   "id": "fb79c6b3",
   "metadata": {},
   "source": [
    "# Docstring helpers"
   ]
  },
  {
   "cell_type": "code",
   "execution_count": null,
   "id": "737685d5",
   "metadata": {},
   "outputs": [],
   "source": [
    "#| export\n",
    "\n",
    "from typing import *\n",
    "import sys\n",
    "import os\n",
    "\n",
    "import re\n",
    "\n",
    "import textwrap\n",
    "from subprocess import run, CalledProcessError  # nosec: B404\n",
    "from tempfile import TemporaryDirectory\n",
    "from pathlib import Path\n",
    "\n",
    "from rich import print\n",
    "from rich.console import Group, Console\n",
    "from rich.panel import Panel"
   ]
  },
  {
   "cell_type": "code",
   "execution_count": null,
   "id": "155c46ec",
   "metadata": {},
   "outputs": [],
   "source": [
    "import pytest\n",
    "import numpy as np"
   ]
  },
  {
   "cell_type": "code",
   "execution_count": null,
   "id": "ec2e640b",
   "metadata": {},
   "outputs": [],
   "source": [
    "def f(i: str, *, a: int = 0):\n",
    "    \"\"\"Very cool function\n",
    "\n",
    "    **f** is a very cool function\n",
    "\n",
    "    Args:\n",
    "        i: something\n",
    "        a: something else\n",
    "\n",
    "    Example:\n",
    "        The following snippet prints out greetings for two names:\n",
    "        ```python\n",
    "        print(\"hello {fill in name_1}\")\n",
    "        print(\"goodbye {fill in name_2}\")\n",
    "        ```\n",
    "\n",
    "\n",
    "    Example:\n",
    "        Yet another example\n",
    "        ```python\n",
    "        password = {fill in password}\n",
    "        print(f\"this is your password: {password}\")\n",
    "\n",
    "        \n",
    "        from  nbdev_mkdocs.docstring import run_examples_from_docstring\n",
    "\n",
    "        print(\"Logging in...\")\n",
    "        ```\n",
    "\n",
    "    \"\"\"\n",
    "    raise NotImplemented()"
   ]
  },
  {
   "cell_type": "code",
   "execution_count": null,
   "id": "4cf8245d",
   "metadata": {},
   "outputs": [],
   "source": []
  },
  {
   "cell_type": "code",
   "execution_count": null,
   "id": "bd52480f",
   "metadata": {},
   "outputs": [],
   "source": [
    "#| export\n",
    "\n",
    "\n",
    "def _extract_examples_from_docstring(o: Any) -> List[str]:\n",
    "    try:\n",
    "        import griffe\n",
    "    except:\n",
    "        raise Exception(\n",
    "            \"This function should only be used for testing where griffe package is installed.\"\n",
    "        )\n",
    "\n",
    "    if o.__doc__ is None:\n",
    "        raise ValueError(f\"{o.__name__}.__doc__ = {o.__doc__}\")\n",
    "    sections = griffe.docstrings.parse(\n",
    "        griffe.dataclasses.Docstring(o.__doc__), griffe.docstrings.Parser.google\n",
    "    )\n",
    "    \n",
    "    def find_python_code(s: str) -> str:\n",
    "        code = [x[0] for x in re.findall(\"```\\s*python((\\n|.|\\\\n])+)```\", s)]\n",
    "        #         print(f\"{code=}\")\n",
    "        if len(code) == 0:\n",
    "            raise ValueError(f\"No python code found in {s}\")\n",
    "        return \"\\n\\n\".join(code)\n",
    "\n",
    "    examples = [\n",
    "        find_python_code(section.value.description)  # type: ignore\n",
    "        for section in sections\n",
    "        if section.kind.value == \"admonition\" and section.value.annotation == \"example\"  # type: ignore\n",
    "    ]\n",
    "\n",
    "    return examples"
   ]
  },
  {
   "cell_type": "code",
   "execution_count": null,
   "id": "15c79989",
   "metadata": {},
   "outputs": [
    {
     "data": {
      "text/plain": [
       "['\\nfrom airt.helpers import print_header\\n\\nprint(\"hello world\")\\n',\n",
       " '\\nfrom nbdev_mkdocs.package_data import get_root_data_path\\n\\nreq_path = get_root_data_path() / \"requirements.txt\"\\nprint(f\"Path is: {req_path.resolve()}\")\\nassert req_path.exists()\\n']"
      ]
     },
     "execution_count": null,
     "metadata": {},
     "output_type": "execute_result"
    }
   ],
   "source": [
    "def g():\n",
    "    \"\"\"Function\n",
    "\n",
    "    Example:\n",
    "        ```python\n",
    "        from airt.helpers import print_header\n",
    "\n",
    "        print(\"hello world\")\n",
    "        ```\n",
    "        \n",
    "    Example:\n",
    "        ``` python\n",
    "        from nbdev_mkdocs.package_data import get_root_data_path\n",
    "\n",
    "        req_path = get_root_data_path() / \"requirements.txt\"\n",
    "        print(f\"Path is: {req_path.resolve()}\")\n",
    "        assert req_path.exists()\n",
    "        ```\n",
    "    \"\"\"\n",
    "\n",
    "\n",
    "_extract_examples_from_docstring(g)"
   ]
  },
  {
   "cell_type": "code",
   "execution_count": null,
   "id": "3fa48194",
   "metadata": {},
   "outputs": [
    {
     "name": "stderr",
     "output_type": "stream",
     "text": [
      "<module>:5: No type or annotation for parameter 'i'\n",
      "<module>:6: No type or annotation for parameter 'a'\n"
     ]
    },
    {
     "data": {
      "text/plain": [
       "['\\nprint(\"hello {fill in name_1}\")\\nprint(\"goodbye {fill in name_2}\")\\n',\n",
       " '\\npassword = {fill in password}\\nprint(f\"this is your password: {password}\")\\n\\n\\nfrom  nbdev_mkdocs.docstring import run_examples_from_docstring\\n\\nprint(\"Logging in...\")\\n']"
      ]
     },
     "execution_count": null,
     "metadata": {},
     "output_type": "execute_result"
    }
   ],
   "source": [
    "_extract_examples_from_docstring(f)"
   ]
  },
  {
   "cell_type": "code",
   "execution_count": null,
   "id": "9eef0f90",
   "metadata": {},
   "outputs": [
    {
     "name": "stderr",
     "output_type": "stream",
     "text": [
      "<module>:5: No type or annotation for parameter 'i'\n",
      "<module>:6: No type or annotation for parameter 'a'\n"
     ]
    },
    {
     "data": {
      "text/html": [
       "<pre style=\"white-space:pre;overflow-x:auto;line-height:normal;font-family:Menlo,'DejaVu Sans Mono',consolas,'Courier New',monospace\">\n",
       "<span style=\"color: #800080; text-decoration-color: #800080; font-weight: bold\">print</span><span style=\"font-weight: bold\">(</span><span style=\"color: #008000; text-decoration-color: #008000\">\"hello {fill in name_1}\"</span><span style=\"font-weight: bold\">)</span>\n",
       "<span style=\"color: #800080; text-decoration-color: #800080; font-weight: bold\">print</span><span style=\"font-weight: bold\">(</span><span style=\"color: #008000; text-decoration-color: #008000\">\"goodbye {fill in name_2}\"</span><span style=\"font-weight: bold\">)</span>\n",
       "\n",
       "</pre>\n"
      ],
      "text/plain": [
       "\n",
       "\u001b[1;35mprint\u001b[0m\u001b[1m(\u001b[0m\u001b[32m\"hello \u001b[0m\u001b[32m{\u001b[0m\u001b[32mfill in name_1\u001b[0m\u001b[32m}\u001b[0m\u001b[32m\"\u001b[0m\u001b[1m)\u001b[0m\n",
       "\u001b[1;35mprint\u001b[0m\u001b[1m(\u001b[0m\u001b[32m\"goodbye \u001b[0m\u001b[32m{\u001b[0m\u001b[32mfill in name_2\u001b[0m\u001b[32m}\u001b[0m\u001b[32m\"\u001b[0m\u001b[1m)\u001b[0m\n",
       "\n"
      ]
     },
     "metadata": {},
     "output_type": "display_data"
    },
    {
     "data": {
      "text/html": [
       "<pre style=\"white-space:pre;overflow-x:auto;line-height:normal;font-family:Menlo,'DejaVu Sans Mono',consolas,'Courier New',monospace\">\n",
       "password = <span style=\"font-weight: bold\">{</span>fill in password<span style=\"font-weight: bold\">}</span>\n",
       "<span style=\"color: #800080; text-decoration-color: #800080; font-weight: bold\">print</span><span style=\"font-weight: bold\">(</span>f\"this is your password: <span style=\"font-weight: bold\">{</span>password<span style=\"font-weight: bold\">}</span>\"<span style=\"font-weight: bold\">)</span>\n",
       "\n",
       "\n",
       "from  nbdev_mkdocs.docstring import run_examples_from_docstring\n",
       "\n",
       "<span style=\"color: #800080; text-decoration-color: #800080; font-weight: bold\">print</span><span style=\"font-weight: bold\">(</span><span style=\"color: #008000; text-decoration-color: #008000\">\"Logging in...\"</span><span style=\"font-weight: bold\">)</span>\n",
       "\n",
       "</pre>\n"
      ],
      "text/plain": [
       "\n",
       "password = \u001b[1m{\u001b[0mfill in password\u001b[1m}\u001b[0m\n",
       "\u001b[1;35mprint\u001b[0m\u001b[1m(\u001b[0mf\"this is your password: \u001b[1m{\u001b[0mpassword\u001b[1m}\u001b[0m\"\u001b[1m)\u001b[0m\n",
       "\n",
       "\n",
       "from  nbdev_mkdocs.docstring import run_examples_from_docstring\n",
       "\n",
       "\u001b[1;35mprint\u001b[0m\u001b[1m(\u001b[0m\u001b[32m\"Logging in...\"\u001b[0m\u001b[1m)\u001b[0m\n",
       "\n"
      ]
     },
     "metadata": {},
     "output_type": "display_data"
    }
   ],
   "source": [
    "expected = [\n",
    "    textwrap.dedent(\n",
    "        \"\"\"\n",
    "            print(\"hello {fill in name_1}\")\n",
    "            print(\"goodbye {fill in name_2}\")\n",
    "        \"\"\"\n",
    "    ),\n",
    "    textwrap.dedent(\n",
    "        \"\"\"\n",
    "            password = {fill in password}\n",
    "            print(f\"this is your password: {password}\")\n",
    "\n",
    "\n",
    "            from  nbdev_mkdocs.docstring import run_examples_from_docstring\n",
    "            \n",
    "            print(\"Logging in...\")\n",
    "        \"\"\"\n",
    "    ),\n",
    "]\n",
    "\n",
    "examples = _extract_examples_from_docstring(f)\n",
    "for example in examples:\n",
    "    print(example)\n",
    "\n",
    "np.testing.assert_array_equal(examples, expected)"
   ]
  },
  {
   "cell_type": "code",
   "execution_count": null,
   "id": "d4b02283",
   "metadata": {},
   "outputs": [
    {
     "data": {
      "text/plain": [
       "True"
      ]
     },
     "execution_count": null,
     "metadata": {},
     "output_type": "execute_result"
    }
   ],
   "source": [
    "examples[0] == expected[0]"
   ]
  },
  {
   "cell_type": "code",
   "execution_count": null,
   "id": "944848c9",
   "metadata": {},
   "outputs": [],
   "source": []
  },
  {
   "cell_type": "code",
   "execution_count": null,
   "id": "b3ef854b",
   "metadata": {},
   "outputs": [],
   "source": []
  },
  {
   "cell_type": "code",
   "execution_count": null,
   "id": "619e42a9",
   "metadata": {},
   "outputs": [],
   "source": [
    "#| export\n",
    "\n",
    "\n",
    "def _get_keywords(examples: List[str]) -> List[str]:\n",
    "    keywords: List[str] = sum(\n",
    "        [\n",
    "            [x[9:-1] for x in re.findall(\"{fill in \\w+}\", example)]\n",
    "            for example in examples\n",
    "        ],\n",
    "        start=[],\n",
    "    )\n",
    "\n",
    "    return keywords"
   ]
  },
  {
   "cell_type": "code",
   "execution_count": null,
   "id": "09a3813b",
   "metadata": {},
   "outputs": [],
   "source": [
    "expected = [\"name_1\", \"name_2\", \"password\"]\n",
    "\n",
    "keywords = _get_keywords(examples)\n",
    "\n",
    "np.testing.assert_array_equal(keywords, expected)"
   ]
  },
  {
   "cell_type": "code",
   "execution_count": null,
   "id": "ff91f2ee",
   "metadata": {},
   "outputs": [],
   "source": [
    "#| export\n",
    "\n",
    "\n",
    "def _replace_keywords(examples: List[str], **kwargs) -> List[str]:\n",
    "    keywords = _get_keywords(examples)\n",
    "\n",
    "    if set(keywords) > set(kwargs.keys()):\n",
    "        raise ValueError(f\"{set(keywords)} > {set(kwargs.keys())}\")\n",
    "\n",
    "    for keyword in keywords:\n",
    "        examples = [\n",
    "            example.replace(\"{fill in \" + keyword + \"}\", kwargs[keyword])\n",
    "            for example in examples\n",
    "        ]\n",
    "\n",
    "    return examples"
   ]
  },
  {
   "cell_type": "code",
   "execution_count": null,
   "id": "c14196eb",
   "metadata": {},
   "outputs": [
    {
     "data": {
      "text/html": [
       "<pre style=\"white-space:pre;overflow-x:auto;line-height:normal;font-family:Menlo,'DejaVu Sans Mono',consolas,'Courier New',monospace\">\n",
       "<span style=\"color: #800080; text-decoration-color: #800080; font-weight: bold\">print</span><span style=\"font-weight: bold\">(</span><span style=\"color: #008000; text-decoration-color: #008000\">\"hello davor\"</span><span style=\"font-weight: bold\">)</span>\n",
       "<span style=\"color: #800080; text-decoration-color: #800080; font-weight: bold\">print</span><span style=\"font-weight: bold\">(</span><span style=\"color: #008000; text-decoration-color: #008000\">\"goodbye kumaran\"</span><span style=\"font-weight: bold\">)</span>\n",
       "\n",
       "</pre>\n"
      ],
      "text/plain": [
       "\n",
       "\u001b[1;35mprint\u001b[0m\u001b[1m(\u001b[0m\u001b[32m\"hello davor\"\u001b[0m\u001b[1m)\u001b[0m\n",
       "\u001b[1;35mprint\u001b[0m\u001b[1m(\u001b[0m\u001b[32m\"goodbye kumaran\"\u001b[0m\u001b[1m)\u001b[0m\n",
       "\n"
      ]
     },
     "metadata": {},
     "output_type": "display_data"
    },
    {
     "data": {
      "text/html": [
       "<pre style=\"white-space:pre;overflow-x:auto;line-height:normal;font-family:Menlo,'DejaVu Sans Mono',consolas,'Courier New',monospace\">\n",
       "password = <span style=\"color: #008000; text-decoration-color: #008000\">'not_a_password'</span>\n",
       "<span style=\"color: #800080; text-decoration-color: #800080; font-weight: bold\">print</span><span style=\"font-weight: bold\">(</span>f\"this is your password: <span style=\"font-weight: bold\">{</span>password<span style=\"font-weight: bold\">}</span>\"<span style=\"font-weight: bold\">)</span>\n",
       "\n",
       "\n",
       "from  nbdev_mkdocs.docstring import run_examples_from_docstring\n",
       "\n",
       "<span style=\"color: #800080; text-decoration-color: #800080; font-weight: bold\">print</span><span style=\"font-weight: bold\">(</span><span style=\"color: #008000; text-decoration-color: #008000\">\"Logging in...\"</span><span style=\"font-weight: bold\">)</span>\n",
       "\n",
       "</pre>\n"
      ],
      "text/plain": [
       "\n",
       "password = \u001b[32m'not_a_password'\u001b[0m\n",
       "\u001b[1;35mprint\u001b[0m\u001b[1m(\u001b[0mf\"this is your password: \u001b[1m{\u001b[0mpassword\u001b[1m}\u001b[0m\"\u001b[1m)\u001b[0m\n",
       "\n",
       "\n",
       "from  nbdev_mkdocs.docstring import run_examples_from_docstring\n",
       "\n",
       "\u001b[1;35mprint\u001b[0m\u001b[1m(\u001b[0m\u001b[32m\"Logging in...\"\u001b[0m\u001b[1m)\u001b[0m\n",
       "\n"
      ]
     },
     "metadata": {},
     "output_type": "display_data"
    }
   ],
   "source": [
    "expected = [\n",
    "    textwrap.dedent(\n",
    "        \"\"\"\n",
    "            print(\"hello davor\")\n",
    "            print(\"goodbye kumaran\")\n",
    "        \"\"\"\n",
    "    ),\n",
    "    textwrap.dedent(\n",
    "        \"\"\"\n",
    "            password = 'not_a_password'\n",
    "            print(f\"this is your password: {password}\")\n",
    "            \n",
    "\n",
    "            from  nbdev_mkdocs.docstring import run_examples_from_docstring\n",
    "\n",
    "            print(\"Logging in...\")\n",
    "        \"\"\"\n",
    "    ),\n",
    "]\n",
    "\n",
    "actual = _replace_keywords(\n",
    "    examples, name_1=\"davor\", name_2=\"kumaran\", password=\"'not_a_password'\"\n",
    ")\n",
    "for x in actual:\n",
    "    print(x)\n",
    "\n",
    "np.testing.assert_array_equal(actual, expected)"
   ]
  },
  {
   "cell_type": "code",
   "execution_count": null,
   "id": "c4d2277d",
   "metadata": {},
   "outputs": [],
   "source": [
    "#| export\n",
    "\n",
    "\n",
    "def _format_output(\n",
    "    s: str,\n",
    "    *,\n",
    "    title: str,\n",
    "    supress: bool = False,\n",
    "    sub_dict: Optional[Dict[str, str]] = None,\n",
    "):\n",
    "    if sub_dict:\n",
    "        for pattern, replacement in sub_dict.items():\n",
    "            s = re.sub(pattern, replacement, s)\n",
    "    if supress:\n",
    "        return Panel(\"\", title=f\"{title} supressed\")\n",
    "    else:\n",
    "        return Panel(s, title=title)"
   ]
  },
  {
   "cell_type": "code",
   "execution_count": null,
   "id": "10065e37",
   "metadata": {},
   "outputs": [
    {
     "data": {
      "text/html": [
       "<pre style=\"white-space:pre;overflow-x:auto;line-height:normal;font-family:Menlo,'DejaVu Sans Mono',consolas,'Courier New',monospace\">╭──────────────────────────────────────────── Test: _format_output() ─────────────────────────────────────────────╮\n",
       "│                                                                                                                 │\n",
       "│ ╭────────────────────────────────────────────────── output ───────────────────────────────────────────────────╮ │\n",
       "│ │ hello world and one more time world                                                                         │ │\n",
       "│ ╰─────────────────────────────────────────────────────────────────────────────────────────────────────────────╯ │\n",
       "│ ╭────────────────────────────────────────────────── output ───────────────────────────────────────────────────╮ │\n",
       "│ │ hello ***** and one more time *****                                                                         │ │\n",
       "│ ╰─────────────────────────────────────────────────────────────────────────────────────────────────────────────╯ │\n",
       "│ ╭───────────────────────────────────────────── output supressed ──────────────────────────────────────────────╮ │\n",
       "│ │                                                                                                             │ │\n",
       "│ ╰─────────────────────────────────────────────────────────────────────────────────────────────────────────────╯ │\n",
       "╰─────────────────────────────────────────────────────────────────────────────────────────────────────────────────╯\n",
       "</pre>\n"
      ],
      "text/plain": [
       "╭──────────────────────────────────────────── Test: _format_output() ─────────────────────────────────────────────╮\n",
       "│                                                                                                                 │\n",
       "│ ╭────────────────────────────────────────────────── output ───────────────────────────────────────────────────╮ │\n",
       "│ │ hello world and one more time world                                                                         │ │\n",
       "│ ╰─────────────────────────────────────────────────────────────────────────────────────────────────────────────╯ │\n",
       "│ ╭────────────────────────────────────────────────── output ───────────────────────────────────────────────────╮ │\n",
       "│ │ hello ***** and one more time *****                                                                         │ │\n",
       "│ ╰─────────────────────────────────────────────────────────────────────────────────────────────────────────────╯ │\n",
       "│ ╭───────────────────────────────────────────── output supressed ──────────────────────────────────────────────╮ │\n",
       "│ │                                                                                                             │ │\n",
       "│ ╰─────────────────────────────────────────────────────────────────────────────────────────────────────────────╯ │\n",
       "╰─────────────────────────────────────────────────────────────────────────────────────────────────────────────────╯\n"
      ]
     },
     "execution_count": null,
     "metadata": {},
     "output_type": "execute_result"
    }
   ],
   "source": [
    "Panel(\n",
    "    Group(\n",
    "        \"\",\n",
    "        _format_output(\"hello world and one more time world\", title=\"output\"),\n",
    "        _format_output(\n",
    "            \"hello world and one more time world\",\n",
    "            title=\"output\",\n",
    "            sub_dict={\"world\": \"*****\"},\n",
    "        ),\n",
    "        _format_output(\n",
    "            \"hello world and one more time world\",\n",
    "            title=\"output\",\n",
    "            sub_dict={\"world\": \"*****\"},\n",
    "            supress=True,\n",
    "        ),\n",
    "    ),\n",
    "    title=\"Test: _format_output()\"\n",
    ")"
   ]
  },
  {
   "cell_type": "code",
   "execution_count": null,
   "id": "ba129799",
   "metadata": {},
   "outputs": [],
   "source": [
    "#| export\n",
    "\n",
    "\n",
    "def run_examples_from_docstring(\n",
    "    o: Any,\n",
    "    *,\n",
    "    supress_stdout: bool = False,\n",
    "    supress_stderr: bool = False,\n",
    "    sub_dict: Optional[Dict[str, str]] = None,\n",
    "    **kwargs\n",
    "):\n",
    "    \"\"\"Runs example from a docstring\n",
    "\n",
    "    Parses docstring of an objects looking for examples. The examples are then saved into files and executed\n",
    "    in a separate process.\n",
    "\n",
    "    Note:\n",
    "        Execution context is not the same as the one in the notebook because we want examples to work from\n",
    "        user code. Make sure you compiled the library prior to executing the examples, otherwise you might\n",
    "        be running them agains an old version of the library.\n",
    "\n",
    "    Args:\n",
    "        o: an object, typically a function or a class, for which docstring is being parsed for examples\n",
    "        supress_stdout: omit stdout from output, typically due to security considerations\n",
    "        supress_stderr: omit stderr from output, typically due to security considerations\n",
    "        sub_dict: a dictionary mapping regexp patterns into replacement strings used to mask stdout and\n",
    "            stderr, typically used to mask sensitive information such as passwords\n",
    "\n",
    "        **kwargs: arguments use to replace \"{fill in **param**}\" in docstring with the actual values when running examples\n",
    "\n",
    "    Raises:\n",
    "        ValueError: if some params are missing from the **kwargs**\n",
    "        RuntimeException: if example fails\n",
    "\n",
    "    Example:\n",
    "        ```python\n",
    "        from  nbdev_mkdocs.docstring import run_examples_from_docstring\n",
    "\n",
    "        def f():\n",
    "            ```python\n",
    "            Example:\n",
    "                print(\"Hello {fill in name}!\")\n",
    "                print(\"Goodbye {fill in other_name}!\")\n",
    "            ```\n",
    "            pass\n",
    "\n",
    "\n",
    "        run_examples_from_docstring(f, name=\"John\", other_name=\"Jane\")\n",
    "        ```\n",
    "    \"\"\"\n",
    "    examples = _extract_examples_from_docstring(o)\n",
    "    if len(examples) == 0:\n",
    "        raise ValueError(f\"No examples found in:\\n{o.__doc__}\")\n",
    "        \n",
    "    executable_examples = _replace_keywords(examples, **kwargs)\n",
    "    for example, executable_example in zip(examples, executable_examples):\n",
    "        with TemporaryDirectory() as d:\n",
    "            cmd_path = (Path(d) / \"example.py\").absolute()\n",
    "            with open(cmd_path, \"w\") as f:\n",
    "                f.write(executable_example)\n",
    "            process = run(  # nosec: B603\n",
    "                [sys.executable, str(cmd_path)], capture_output=True, text=True\n",
    "            )\n",
    "            panel_group = Group(\n",
    "                \"Example:\\n\" + textwrap.indent(example, \" \" * 4),\n",
    "                _format_output(process.stdout, title=\"stdout\", supress=supress_stdout, sub_dict=sub_dict),\n",
    "                _format_output(process.stderr, title=\"stderr\", supress=supress_stderr, sub_dict=sub_dict),\n",
    "            )\n",
    "            print(Panel(panel_group))\n",
    "            if process.returncode != 0:\n",
    "                raise RuntimeError(process.stderr)"
   ]
  },
  {
   "cell_type": "code",
   "execution_count": null,
   "id": "f12eddeb",
   "metadata": {},
   "outputs": [
    {
     "data": {
      "text/html": [
       "<pre style=\"white-space:pre;overflow-x:auto;line-height:normal;font-family:Menlo,'DejaVu Sans Mono',consolas,'Courier New',monospace\">Runs example from a docstring\n",
       "\n",
       "    Parses docstring of an objects looking for examples. The examples are then saved into files and executed\n",
       "    in a separate process.\n",
       "\n",
       "    Note:\n",
       "        Execution context is not the same as the one in the notebook because we want examples to work from\n",
       "        user code. Make sure you compiled the library prior to executing the examples, otherwise you might\n",
       "        be running them agains an old version of the library.\n",
       "\n",
       "    Args:\n",
       "        o: an object, typically a function or a class, for which docstring is being parsed for examples\n",
       "        supress_stdout: omit stdout from output, typically due to security considerations\n",
       "        supress_stderr: omit stderr from output, typically due to security considerations\n",
       "        sub_dict: a dictionary mapping regexp patterns into replacement strings used to mask stdout and\n",
       "            stderr, typically used to mask sensitive information such as passwords\n",
       "\n",
       "        **kwargs: arguments use to replace <span style=\"color: #008000; text-decoration-color: #008000\">\"{fill in **param**}\"</span> in docstring with the actual values when running \n",
       "examples\n",
       "\n",
       "    Raises:\n",
       "        ValueError: if some params are missing from the **kwargs**\n",
       "        RuntimeException: if example fails\n",
       "\n",
       "    Example:\n",
       "        ```python\n",
       "        from  nbdev_mkdocs.docstring import run_examples_from_docstring\n",
       "\n",
       "        def <span style=\"color: #800080; text-decoration-color: #800080; font-weight: bold\">f</span><span style=\"font-weight: bold\">()</span>:\n",
       "            ```python\n",
       "            Example:\n",
       "                <span style=\"color: #800080; text-decoration-color: #800080; font-weight: bold\">print</span><span style=\"font-weight: bold\">(</span><span style=\"color: #008000; text-decoration-color: #008000\">\"Hello {fill in name}!\"</span><span style=\"font-weight: bold\">)</span>\n",
       "                <span style=\"color: #800080; text-decoration-color: #800080; font-weight: bold\">print</span><span style=\"font-weight: bold\">(</span><span style=\"color: #008000; text-decoration-color: #008000\">\"Goodbye {fill in other_name}!\"</span><span style=\"font-weight: bold\">)</span>\n",
       "            ```\n",
       "            pass\n",
       "\n",
       "\n",
       "        <span style=\"color: #800080; text-decoration-color: #800080; font-weight: bold\">run_examples_from_docstring</span><span style=\"font-weight: bold\">(</span>f, <span style=\"color: #808000; text-decoration-color: #808000\">name</span>=<span style=\"color: #008000; text-decoration-color: #008000\">\"John\"</span>, <span style=\"color: #808000; text-decoration-color: #808000\">other_name</span>=<span style=\"color: #008000; text-decoration-color: #008000\">\"Jane\"</span><span style=\"font-weight: bold\">)</span>\n",
       "        ```\n",
       "    \n",
       "</pre>\n"
      ],
      "text/plain": [
       "Runs example from a docstring\n",
       "\n",
       "    Parses docstring of an objects looking for examples. The examples are then saved into files and executed\n",
       "    in a separate process.\n",
       "\n",
       "    Note:\n",
       "        Execution context is not the same as the one in the notebook because we want examples to work from\n",
       "        user code. Make sure you compiled the library prior to executing the examples, otherwise you might\n",
       "        be running them agains an old version of the library.\n",
       "\n",
       "    Args:\n",
       "        o: an object, typically a function or a class, for which docstring is being parsed for examples\n",
       "        supress_stdout: omit stdout from output, typically due to security considerations\n",
       "        supress_stderr: omit stderr from output, typically due to security considerations\n",
       "        sub_dict: a dictionary mapping regexp patterns into replacement strings used to mask stdout and\n",
       "            stderr, typically used to mask sensitive information such as passwords\n",
       "\n",
       "        **kwargs: arguments use to replace \u001b[32m\"\u001b[0m\u001b[32m{\u001b[0m\u001b[32mfill in **param**\u001b[0m\u001b[32m}\u001b[0m\u001b[32m\"\u001b[0m in docstring with the actual values when running \n",
       "examples\n",
       "\n",
       "    Raises:\n",
       "        ValueError: if some params are missing from the **kwargs**\n",
       "        RuntimeException: if example fails\n",
       "\n",
       "    Example:\n",
       "        ```python\n",
       "        from  nbdev_mkdocs.docstring import run_examples_from_docstring\n",
       "\n",
       "        def \u001b[1;35mf\u001b[0m\u001b[1m(\u001b[0m\u001b[1m)\u001b[0m:\n",
       "            ```python\n",
       "            Example:\n",
       "                \u001b[1;35mprint\u001b[0m\u001b[1m(\u001b[0m\u001b[32m\"Hello \u001b[0m\u001b[32m{\u001b[0m\u001b[32mfill in name\u001b[0m\u001b[32m}\u001b[0m\u001b[32m!\"\u001b[0m\u001b[1m)\u001b[0m\n",
       "                \u001b[1;35mprint\u001b[0m\u001b[1m(\u001b[0m\u001b[32m\"Goodbye \u001b[0m\u001b[32m{\u001b[0m\u001b[32mfill in other_name\u001b[0m\u001b[32m}\u001b[0m\u001b[32m!\"\u001b[0m\u001b[1m)\u001b[0m\n",
       "            ```\n",
       "            pass\n",
       "\n",
       "\n",
       "        \u001b[1;35mrun_examples_from_docstring\u001b[0m\u001b[1m(\u001b[0mf, \u001b[33mname\u001b[0m=\u001b[32m\"John\"\u001b[0m, \u001b[33mother_name\u001b[0m=\u001b[32m\"Jane\"\u001b[0m\u001b[1m)\u001b[0m\n",
       "        ```\n",
       "    \n"
      ]
     },
     "metadata": {},
     "output_type": "display_data"
    }
   ],
   "source": [
    "print(run_examples_from_docstring.__doc__)"
   ]
  },
  {
   "cell_type": "code",
   "execution_count": null,
   "id": "088db5d8",
   "metadata": {},
   "outputs": [],
   "source": []
  },
  {
   "cell_type": "code",
   "execution_count": null,
   "id": "990fa4db",
   "metadata": {},
   "outputs": [
    {
     "name": "stderr",
     "output_type": "stream",
     "text": [
      "<module>:11: No type or annotation for parameter 'o'\n",
      "<module>:12: No type or annotation for parameter 'supress_stdout'\n",
      "<module>:13: No type or annotation for parameter 'supress_stderr'\n",
      "<module>:14: No type or annotation for parameter 'sub_dict'\n",
      "<module>:17: No type or annotation for parameter '**kwargs'\n",
      "Failed to parse annotation from 'Name' node: 'NoneType' object has no attribute 'resolve'\n",
      "Failed to parse annotation from 'Name' node: 'NoneType' object has no attribute 'resolve'\n"
     ]
    },
    {
     "data": {
      "text/html": [
       "<pre style=\"white-space:pre;overflow-x:auto;line-height:normal;font-family:Menlo,'DejaVu Sans Mono',consolas,'Courier New',monospace\">╭──────────────────────────────────────────────────────────────╮\n",
       "│                                                              │\n",
       "│ from  nbdev_mkdocs.docstring import                          │\n",
       "│ run_examples_from_docstring                                  │\n",
       "│                                                              │\n",
       "│ def f():                                                     │\n",
       "│     ```python                                                │\n",
       "│     Example:                                                 │\n",
       "│         print(\"Hello {fill in name}!\")                       │\n",
       "│         print(\"Goodbye {fill in other_name}!\")               │\n",
       "│     ```                                                      │\n",
       "│     pass                                                     │\n",
       "│                                                              │\n",
       "│                                                              │\n",
       "│ run_examples_from_docstring(f, name=\"John\",                  │\n",
       "│ other_name=\"Jane\")                                           │\n",
       "│                                                              │\n",
       "╰──────────────────────────────────────────────────────────────╯\n",
       "</pre>\n"
      ],
      "text/plain": [
       "╭──────────────────────────────────────────────────────────────╮\n",
       "│                                                              │\n",
       "│ from  nbdev_mkdocs.docstring import                          │\n",
       "│ run_examples_from_docstring                                  │\n",
       "│                                                              │\n",
       "│ def f():                                                     │\n",
       "│     ```python                                                │\n",
       "│     Example:                                                 │\n",
       "│         print(\"Hello {fill in name}!\")                       │\n",
       "│         print(\"Goodbye {fill in other_name}!\")               │\n",
       "│     ```                                                      │\n",
       "│     pass                                                     │\n",
       "│                                                              │\n",
       "│                                                              │\n",
       "│ run_examples_from_docstring(f, name=\"John\",                  │\n",
       "│ other_name=\"Jane\")                                           │\n",
       "│                                                              │\n",
       "╰──────────────────────────────────────────────────────────────╯\n"
      ]
     },
     "metadata": {},
     "output_type": "display_data"
    }
   ],
   "source": [
    "from nbdev_mkdocs.docstring import run_examples_from_docstring\n",
    "\n",
    "examples = _extract_examples_from_docstring(run_examples_from_docstring)\n",
    "console = Console(width=64)\n",
    "console.print(Panel(examples[0], width=64))"
   ]
  },
  {
   "cell_type": "code",
   "execution_count": null,
   "id": "a610bf8f",
   "metadata": {},
   "outputs": [],
   "source": []
  },
  {
   "cell_type": "code",
   "execution_count": null,
   "id": "0dafe405",
   "metadata": {},
   "outputs": [
    {
     "name": "stderr",
     "output_type": "stream",
     "text": [
      "<module>:5: No type or annotation for parameter 'i'\n",
      "<module>:6: No type or annotation for parameter 'a'\n"
     ]
    },
    {
     "data": {
      "text/html": [
       "<pre style=\"white-space:pre;overflow-x:auto;line-height:normal;font-family:Menlo,'DejaVu Sans Mono',consolas,'Courier New',monospace\">╭─────────────────────────────────────────────────────────────────────────────────────────────────────────────────╮\n",
       "│ Example:                                                                                                        │\n",
       "│                                                                                                                 │\n",
       "│     print(\"hello {fill in name_1}\")                                                                             │\n",
       "│     print(\"goodbye {fill in name_2}\")                                                                           │\n",
       "│                                                                                                                 │\n",
       "│ ╭────────────────────────────────────────────────── stdout ───────────────────────────────────────────────────╮ │\n",
       "│ │ hello davor                                                                                                 │ │\n",
       "│ │ goodbye all                                                                                                 │ │\n",
       "│ │                                                                                                             │ │\n",
       "│ ╰─────────────────────────────────────────────────────────────────────────────────────────────────────────────╯ │\n",
       "│ ╭───────────────────────────────────────────── stderr supressed ──────────────────────────────────────────────╮ │\n",
       "│ │                                                                                                             │ │\n",
       "│ ╰─────────────────────────────────────────────────────────────────────────────────────────────────────────────╯ │\n",
       "╰─────────────────────────────────────────────────────────────────────────────────────────────────────────────────╯\n",
       "</pre>\n"
      ],
      "text/plain": [
       "╭─────────────────────────────────────────────────────────────────────────────────────────────────────────────────╮\n",
       "│ Example:                                                                                                        │\n",
       "│                                                                                                                 │\n",
       "│     print(\"hello {fill in name_1}\")                                                                             │\n",
       "│     print(\"goodbye {fill in name_2}\")                                                                           │\n",
       "│                                                                                                                 │\n",
       "│ ╭────────────────────────────────────────────────── stdout ───────────────────────────────────────────────────╮ │\n",
       "│ │ hello davor                                                                                                 │ │\n",
       "│ │ goodbye all                                                                                                 │ │\n",
       "│ │                                                                                                             │ │\n",
       "│ ╰─────────────────────────────────────────────────────────────────────────────────────────────────────────────╯ │\n",
       "│ ╭───────────────────────────────────────────── stderr supressed ──────────────────────────────────────────────╮ │\n",
       "│ │                                                                                                             │ │\n",
       "│ ╰─────────────────────────────────────────────────────────────────────────────────────────────────────────────╯ │\n",
       "╰─────────────────────────────────────────────────────────────────────────────────────────────────────────────────╯\n"
      ]
     },
     "metadata": {},
     "output_type": "display_data"
    },
    {
     "data": {
      "text/html": [
       "<pre style=\"white-space:pre;overflow-x:auto;line-height:normal;font-family:Menlo,'DejaVu Sans Mono',consolas,'Courier New',monospace\">╭─────────────────────────────────────────────────────────────────────────────────────────────────────────────────╮\n",
       "│ Example:                                                                                                        │\n",
       "│                                                                                                                 │\n",
       "│     password = {fill in password}                                                                               │\n",
       "│     print(f\"this is your password: {password}\")                                                                 │\n",
       "│                                                                                                                 │\n",
       "│                                                                                                                 │\n",
       "│     from  nbdev_mkdocs.docstring import run_examples_from_docstring                                             │\n",
       "│                                                                                                                 │\n",
       "│     print(\"Logging in...\")                                                                                      │\n",
       "│                                                                                                                 │\n",
       "│ ╭────────────────────────────────────────────────── stdout ───────────────────────────────────────────────────╮ │\n",
       "│ │ this is your password: ************                                                                         │ │\n",
       "│ │ Logging in...                                                                                               │ │\n",
       "│ │                                                                                                             │ │\n",
       "│ ╰─────────────────────────────────────────────────────────────────────────────────────────────────────────────╯ │\n",
       "│ ╭───────────────────────────────────────────── stderr supressed ──────────────────────────────────────────────╮ │\n",
       "│ │                                                                                                             │ │\n",
       "│ ╰─────────────────────────────────────────────────────────────────────────────────────────────────────────────╯ │\n",
       "╰─────────────────────────────────────────────────────────────────────────────────────────────────────────────────╯\n",
       "</pre>\n"
      ],
      "text/plain": [
       "╭─────────────────────────────────────────────────────────────────────────────────────────────────────────────────╮\n",
       "│ Example:                                                                                                        │\n",
       "│                                                                                                                 │\n",
       "│     password = {fill in password}                                                                               │\n",
       "│     print(f\"this is your password: {password}\")                                                                 │\n",
       "│                                                                                                                 │\n",
       "│                                                                                                                 │\n",
       "│     from  nbdev_mkdocs.docstring import run_examples_from_docstring                                             │\n",
       "│                                                                                                                 │\n",
       "│     print(\"Logging in...\")                                                                                      │\n",
       "│                                                                                                                 │\n",
       "│ ╭────────────────────────────────────────────────── stdout ───────────────────────────────────────────────────╮ │\n",
       "│ │ this is your password: ************                                                                         │ │\n",
       "│ │ Logging in...                                                                                               │ │\n",
       "│ │                                                                                                             │ │\n",
       "│ ╰─────────────────────────────────────────────────────────────────────────────────────────────────────────────╯ │\n",
       "│ ╭───────────────────────────────────────────── stderr supressed ──────────────────────────────────────────────╮ │\n",
       "│ │                                                                                                             │ │\n",
       "│ ╰─────────────────────────────────────────────────────────────────────────────────────────────────────────────╯ │\n",
       "╰─────────────────────────────────────────────────────────────────────────────────────────────────────────────────╯\n"
      ]
     },
     "metadata": {},
     "output_type": "display_data"
    }
   ],
   "source": [
    "run_examples_from_docstring(\n",
    "    f, name_1=\"davor\", name_2=\"all\", password='\"zeko\"', supress_stderr=True, sub_dict={\"zeko\": \"*\"*12}\n",
    ")"
   ]
  },
  {
   "cell_type": "code",
   "execution_count": null,
   "id": "48bb52c0",
   "metadata": {},
   "outputs": [
    {
     "name": "stderr",
     "output_type": "stream",
     "text": [
      "<module>:5: No type or annotation for parameter 'i'\n",
      "<module>:6: No type or annotation for parameter 'a'\n"
     ]
    },
    {
     "data": {
      "text/plain": [
       "ValueError(\"{'password', 'name_2', 'name_1'} > {'name_1'}\")"
      ]
     },
     "execution_count": null,
     "metadata": {},
     "output_type": "execute_result"
    }
   ],
   "source": [
    "with pytest.raises(ValueError) as e:\n",
    "    run_examples_from_docstring(f, name_1=\"davor\")\n",
    "\n",
    "e.value"
   ]
  },
  {
   "cell_type": "code",
   "execution_count": null,
   "id": "d1fcbd15",
   "metadata": {},
   "outputs": [],
   "source": [
    "class C:\n",
    "    \"\"\"Cool class with broken example\n",
    "\n",
    "    Example:\n",
    "        ```python\n",
    "        from nbdev_mkdocs.docstring import run_examples_from_docstring\n",
    "        \n",
    "        raise NotImplementedError(\"expected to fail\")\n",
    "        ```\n",
    "    \"\"\"\n",
    "\n",
    "    pass"
   ]
  },
  {
   "cell_type": "code",
   "execution_count": null,
   "id": "af3097e0",
   "metadata": {},
   "outputs": [
    {
     "data": {
      "text/html": [
       "<pre style=\"white-space:pre;overflow-x:auto;line-height:normal;font-family:Menlo,'DejaVu Sans Mono',consolas,'Courier New',monospace\">╭─────────────────────────────────────────────────────────────────────────────────────────────────────────────────╮\n",
       "│ Example:                                                                                                        │\n",
       "│                                                                                                                 │\n",
       "│     from nbdev_mkdocs.docstring import run_examples_from_docstring                                              │\n",
       "│                                                                                                                 │\n",
       "│     raise NotImplementedError(\"expected to fail\")                                                               │\n",
       "│                                                                                                                 │\n",
       "│ ╭────────────────────────────────────────────────── stdout ───────────────────────────────────────────────────╮ │\n",
       "│ │                                                                                                             │ │\n",
       "│ ╰─────────────────────────────────────────────────────────────────────────────────────────────────────────────╯ │\n",
       "│ ╭────────────────────────────────────────────────── stderr ───────────────────────────────────────────────────╮ │\n",
       "│ │ Traceback (most recent call last):                                                                          │ │\n",
       "│ │   File \"/tmp/tmppia530fd/example.py\", line 4, in &lt;module&gt;                                                   │ │\n",
       "│ │     raise NotImplementedError(\"expected to fail\")                                                           │ │\n",
       "│ │ NotImplementedError: expected to fail                                                                       │ │\n",
       "│ │                                                                                                             │ │\n",
       "│ ╰─────────────────────────────────────────────────────────────────────────────────────────────────────────────╯ │\n",
       "╰─────────────────────────────────────────────────────────────────────────────────────────────────────────────────╯\n",
       "</pre>\n"
      ],
      "text/plain": [
       "╭─────────────────────────────────────────────────────────────────────────────────────────────────────────────────╮\n",
       "│ Example:                                                                                                        │\n",
       "│                                                                                                                 │\n",
       "│     from nbdev_mkdocs.docstring import run_examples_from_docstring                                              │\n",
       "│                                                                                                                 │\n",
       "│     raise NotImplementedError(\"expected to fail\")                                                               │\n",
       "│                                                                                                                 │\n",
       "│ ╭────────────────────────────────────────────────── stdout ───────────────────────────────────────────────────╮ │\n",
       "│ │                                                                                                             │ │\n",
       "│ ╰─────────────────────────────────────────────────────────────────────────────────────────────────────────────╯ │\n",
       "│ ╭────────────────────────────────────────────────── stderr ───────────────────────────────────────────────────╮ │\n",
       "│ │ Traceback (most recent call last):                                                                          │ │\n",
       "│ │   File \"/tmp/tmppia530fd/example.py\", line 4, in <module>                                                   │ │\n",
       "│ │     raise NotImplementedError(\"expected to fail\")                                                           │ │\n",
       "│ │ NotImplementedError: expected to fail                                                                       │ │\n",
       "│ │                                                                                                             │ │\n",
       "│ ╰─────────────────────────────────────────────────────────────────────────────────────────────────────────────╯ │\n",
       "╰─────────────────────────────────────────────────────────────────────────────────────────────────────────────────╯\n"
      ]
     },
     "metadata": {},
     "output_type": "display_data"
    },
    {
     "data": {
      "text/plain": [
       "RuntimeError('Traceback (most recent call last):\\n  File \"/tmp/tmppia530fd/example.py\", line 4, in <module>\\n    raise NotImplementedError(\"expected to fail\")\\nNotImplementedError: expected to fail\\n')"
      ]
     },
     "execution_count": null,
     "metadata": {},
     "output_type": "execute_result"
    }
   ],
   "source": [
    "with pytest.raises(RuntimeError) as e:\n",
    "    run_examples_from_docstring(C)\n",
    "e.value"
   ]
  },
  {
   "cell_type": "code",
   "execution_count": null,
   "id": "a6235d67",
   "metadata": {},
   "outputs": [
    {
     "data": {
      "text/html": [
       "<pre style=\"white-space:pre;overflow-x:auto;line-height:normal;font-family:Menlo,'DejaVu Sans Mono',consolas,'Courier New',monospace\">Returns path to package_data in lib\n",
       "\n",
       "    Example:\n",
       "        ``` python\n",
       "        from nbdev_mkdocs.package_data import get_root_data_path\n",
       "\n",
       "        req_path = <span style=\"color: #800080; text-decoration-color: #800080; font-weight: bold\">get_root_data_path</span><span style=\"font-weight: bold\">()</span> <span style=\"color: #800080; text-decoration-color: #800080\">/</span> <span style=\"color: #008000; text-decoration-color: #008000\">\"requirements.txt\"</span>\n",
       "        <span style=\"color: #800080; text-decoration-color: #800080; font-weight: bold\">print</span><span style=\"font-weight: bold\">(</span>f\"Path is: <span style=\"font-weight: bold\">{</span><span style=\"color: #800080; text-decoration-color: #800080; font-weight: bold\">req_path.resolve</span><span style=\"font-weight: bold\">()}</span>\"<span style=\"font-weight: bold\">)</span>\n",
       "        assert <span style=\"color: #800080; text-decoration-color: #800080; font-weight: bold\">req_path.exists</span><span style=\"font-weight: bold\">()</span>\n",
       "        \n",
       "        ```\n",
       "        \n",
       "    \n",
       "</pre>\n"
      ],
      "text/plain": [
       "Returns path to package_data in lib\n",
       "\n",
       "    Example:\n",
       "        ``` python\n",
       "        from nbdev_mkdocs.package_data import get_root_data_path\n",
       "\n",
       "        req_path = \u001b[1;35mget_root_data_path\u001b[0m\u001b[1m(\u001b[0m\u001b[1m)\u001b[0m \u001b[35m/\u001b[0m \u001b[32m\"requirements.txt\"\u001b[0m\n",
       "        \u001b[1;35mprint\u001b[0m\u001b[1m(\u001b[0mf\"Path is: \u001b[1m{\u001b[0m\u001b[1;35mreq_path.resolve\u001b[0m\u001b[1m(\u001b[0m\u001b[1m)\u001b[0m\u001b[1m}\u001b[0m\"\u001b[1m)\u001b[0m\n",
       "        assert \u001b[1;35mreq_path.exists\u001b[0m\u001b[1m(\u001b[0m\u001b[1m)\u001b[0m\n",
       "        \n",
       "        ```\n",
       "        \n",
       "    \n"
      ]
     },
     "metadata": {},
     "output_type": "display_data"
    }
   ],
   "source": [
    "from nbdev_mkdocs.package_data import get_root_data_path\n",
    "\n",
    "print(get_root_data_path.__doc__)"
   ]
  },
  {
   "cell_type": "code",
   "execution_count": null,
   "id": "273f7dad",
   "metadata": {},
   "outputs": [
    {
     "data": {
      "text/plain": [
       "['\\nfrom nbdev_mkdocs.package_data import get_root_data_path\\n\\nreq_path = get_root_data_path() / \"requirements.txt\"\\nprint(f\"Path is: {req_path.resolve()}\")\\nassert req_path.exists()\\n\\n']"
      ]
     },
     "execution_count": null,
     "metadata": {},
     "output_type": "execute_result"
    }
   ],
   "source": [
    "_extract_examples_from_docstring(get_root_data_path)"
   ]
  },
  {
   "cell_type": "code",
   "execution_count": null,
   "id": "e9d96abb",
   "metadata": {},
   "outputs": [],
   "source": []
  }
 ],
 "metadata": {
  "kernelspec": {
   "display_name": "Python 3",
   "language": "python",
   "name": "python3"
  }
 },
 "nbformat": 4,
 "nbformat_minor": 5
}
