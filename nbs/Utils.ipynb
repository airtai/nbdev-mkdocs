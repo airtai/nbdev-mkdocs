{
 "cells": [
  {
   "cell_type": "code",
   "execution_count": null,
   "id": "56a6cb4a",
   "metadata": {},
   "outputs": [],
   "source": [
    "# | default_exp _helpers.utils\n"
   ]
  },
  {
   "cell_type": "code",
   "execution_count": null,
   "id": "a697536c",
   "metadata": {},
   "outputs": [],
   "source": [
    "# | export\n",
    "\n",
    "\n",
    "import os\n",
    "from typing import *\n",
    "from contextlib import contextmanager\n",
    "from pathlib import Path\n",
    "\n",
    "import nbdev\n",
    "from configparser import ConfigParser\n"
   ]
  },
  {
   "cell_type": "code",
   "execution_count": null,
   "id": "c70f326a",
   "metadata": {},
   "outputs": [],
   "source": [
    "import shutil\n",
    "from tempfile import TemporaryDirectory"
   ]
  },
  {
   "cell_type": "code",
   "execution_count": null,
   "id": "7f3f76d6",
   "metadata": {},
   "outputs": [],
   "source": [
    "# | export\n",
    "\n",
    "\n",
    "@contextmanager\n",
    "def set_cwd(cwd_path: Union[Path, str]):\n",
    "\n",
    "    cwd_path = Path(cwd_path)\n",
    "    original_cwd = os.getcwd()\n",
    "    os.chdir(cwd_path)\n",
    "\n",
    "    try:\n",
    "        nbdev.config.get_config.cache_clear()\n",
    "        yield\n",
    "    finally:\n",
    "        os.chdir(original_cwd)\n"
   ]
  },
  {
   "cell_type": "code",
   "execution_count": null,
   "id": "5ac4ecc1",
   "metadata": {},
   "outputs": [],
   "source": [
    "with TemporaryDirectory() as d:\n",
    "    with set_cwd(d):\n",
    "        assert (\n",
    "            Path(os.getcwd()) == Path(d).resolve()\n",
    "        ), f\"{os.getcwd()}, {Path(d).resolve()}\"\n"
   ]
  },
  {
   "cell_type": "code",
   "execution_count": null,
   "id": "7d9cfc40",
   "metadata": {},
   "outputs": [],
   "source": [
    "# | export\n",
    "\n",
    "\n",
    "def get_value_from_config(root_path: str, config_name: str) -> str:\n",
    "    \"\"\"Get the value from settings.ini file\"\"\"\n",
    "\n",
    "    settings_path = Path(root_path) / \"settings.ini\"\n",
    "    config = ConfigParser()\n",
    "    config.read(settings_path)\n",
    "    if not config.has_option(\"DEFAULT\", config_name):\n",
    "        return \"\"\n",
    "    return config[\"DEFAULT\"][config_name]\n"
   ]
  },
  {
   "cell_type": "code",
   "execution_count": null,
   "id": "72989ce9",
   "metadata": {},
   "outputs": [
    {
     "name": "stdout",
     "output_type": "stream",
     "text": [
      "nbdev_mkdocs\n",
      "nbdev-mkdocs\n",
      "airtai\n"
     ]
    }
   ],
   "source": [
    "with TemporaryDirectory() as d:\n",
    "    settings_path = Path(d) / \"settings.ini\"\n",
    "    shutil.copyfile(Path(\"..\") / \"settings.ini\", settings_path)\n",
    "    ret_val = get_value_from_config(d, \"lib_path\")\n",
    "    print(ret_val)\n",
    "    assert ret_val == \"nbdev_mkdocs\", ret_val\n",
    "    \n",
    "    ret_val = get_value_from_config(d, \"repo\")\n",
    "    print(ret_val)\n",
    "    assert ret_val == \"nbdev-mkdocs\", ret_val\n",
    "    \n",
    "    ret_val = get_value_from_config(d, \"user\")\n",
    "    print(ret_val)\n",
    "    assert ret_val == \"airtai\", ret_val\n"
   ]
  },
  {
   "cell_type": "code",
   "execution_count": null,
   "id": "0fdc5efd",
   "metadata": {},
   "outputs": [],
   "source": []
  }
 ],
 "metadata": {
  "kernelspec": {
   "display_name": "Python 3 (ipykernel)",
   "language": "python",
   "name": "python3"
  }
 },
 "nbformat": 4,
 "nbformat_minor": 5
}
