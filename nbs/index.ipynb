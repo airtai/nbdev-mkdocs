{
 "cells": [
  {
   "cell_type": "code",
   "execution_count": null,
   "metadata": {},
   "outputs": [],
   "source": [
    "#| hide\n",
    "from nbdev_mkdocs.docstring.helpers import run_examples_from_docstring"
   ]
  },
  {
   "cell_type": "markdown",
   "metadata": {},
   "source": [
    "# nbdev_mkdocs\n",
    "\n",
    "> Extension to nbdev for usage of Material for Mkdocs instead of Quarto"
   ]
  },
  {
   "cell_type": "markdown",
   "metadata": {},
   "source": [
    "This file will become your README and also the index of your documentation."
   ]
  },
  {
   "cell_type": "markdown",
   "metadata": {},
   "source": [
    "## Install"
   ]
  },
  {
   "cell_type": "markdown",
   "metadata": {},
   "source": [
    "```sh\n",
    "pip install nbdev_mkdocs\n",
    "```"
   ]
  },
  {
   "cell_type": "markdown",
   "metadata": {},
   "source": [
    "## How to use"
   ]
  },
  {
   "cell_type": "markdown",
   "metadata": {},
   "source": [
    "Fill me in please! Don't forget code examples:"
   ]
  },
  {
   "cell_type": "code",
   "execution_count": null,
   "metadata": {},
   "outputs": [],
   "source": [
    "def f(s: str, i: int):\n",
    "    \"\"\" A simple function\n",
    "    \n",
    "    Params:\n",
    "        s: a name\n",
    "        i: a number\n",
    "        \n",
    "    Example:\n",
    "        ```python\n",
    "        s = \"Hello World! \"\n",
    "        i = 2\n",
    "\n",
    "        print(s * i)\n",
    "        ```\n",
    "    \"\"\"\n",
    "    print((s + \" \")*i)"
   ]
  },
  {
   "cell_type": "code",
   "execution_count": null,
   "metadata": {},
   "outputs": [
    {
     "name": "stderr",
     "output_type": "stream",
     "text": [
      "<module>:3: No type or annotation for parameter 's'\n",
      "<module>:4: No type or annotation for parameter 'i'\n",
      "<module>:5: Failed to get 'name: description' pair from ''\n"
     ]
    },
    {
     "data": {
      "text/html": [
       "<pre style=\"white-space:pre;overflow-x:auto;line-height:normal;font-family:Menlo,'DejaVu Sans Mono',consolas,'Courier New',monospace\">╭─────────────────────────────────────────────────────────────────────────────────────────────────────────────────╮\n",
       "│ Example:                                                                                                        │\n",
       "│                                                                                                                 │\n",
       "│     s = \"Hello World! \"                                                                                         │\n",
       "│     i = 2                                                                                                       │\n",
       "│                                                                                                                 │\n",
       "│     print(s * i)                                                                                                │\n",
       "│                                                                                                                 │\n",
       "│ ╭────────────────────────────────────────────────── stdout ───────────────────────────────────────────────────╮ │\n",
       "│ │ Hello World! Hello World!                                                                                   │ │\n",
       "│ │                                                                                                             │ │\n",
       "│ ╰─────────────────────────────────────────────────────────────────────────────────────────────────────────────╯ │\n",
       "│ ╭───────────────────────────────────────────── stderr supressed ──────────────────────────────────────────────╮ │\n",
       "│ │                                                                                                             │ │\n",
       "│ ╰─────────────────────────────────────────────────────────────────────────────────────────────────────────────╯ │\n",
       "╰─────────────────────────────────────────────────────────────────────────────────────────────────────────────────╯\n",
       "</pre>\n"
      ],
      "text/plain": [
       "╭─────────────────────────────────────────────────────────────────────────────────────────────────────────────────╮\n",
       "│ Example:                                                                                                        │\n",
       "│                                                                                                                 │\n",
       "│     s = \"Hello World! \"                                                                                         │\n",
       "│     i = 2                                                                                                       │\n",
       "│                                                                                                                 │\n",
       "│     print(s * i)                                                                                                │\n",
       "│                                                                                                                 │\n",
       "│ ╭────────────────────────────────────────────────── stdout ───────────────────────────────────────────────────╮ │\n",
       "│ │ Hello World! Hello World!                                                                                   │ │\n",
       "│ │                                                                                                             │ │\n",
       "│ ╰─────────────────────────────────────────────────────────────────────────────────────────────────────────────╯ │\n",
       "│ ╭───────────────────────────────────────────── stderr supressed ──────────────────────────────────────────────╮ │\n",
       "│ │                                                                                                             │ │\n",
       "│ ╰─────────────────────────────────────────────────────────────────────────────────────────────────────────────╯ │\n",
       "╰─────────────────────────────────────────────────────────────────────────────────────────────────────────────────╯\n"
      ]
     },
     "metadata": {},
     "output_type": "display_data"
    }
   ],
   "source": [
    "run_examples_from_docstring(f, supress_stderr=True)"
   ]
  },
  {
   "cell_type": "code",
   "execution_count": null,
   "metadata": {},
   "outputs": [],
   "source": []
  }
 ],
 "metadata": {
  "kernelspec": {
   "display_name": "Python 3",
   "language": "python",
   "name": "python3"
  }
 },
 "nbformat": 4,
 "nbformat_minor": 4
}
