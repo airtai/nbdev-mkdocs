{
 "cells": [
  {
   "cell_type": "markdown",
   "metadata": {},
   "source": [
    "# nbdev_mkdocs\n",
    "\n",
    "> Extension to nbdev for usage of Material for Mkdocs instead of Quarto"
   ]
  },
  {
   "cell_type": "markdown",
   "metadata": {},
   "source": [
    "This file will become your README and also the index of your documentation."
   ]
  },
  {
   "cell_type": "markdown",
   "metadata": {},
   "source": [
    "## Install"
   ]
  },
  {
   "cell_type": "markdown",
   "metadata": {},
   "source": [
    "```sh\n",
    "pip install nbdev_mkdocs\n",
    "```"
   ]
  },
  {
   "cell_type": "markdown",
   "metadata": {},
   "source": [
    "## How to use"
   ]
  },
  {
   "cell_type": "code",
   "execution_count": null,
   "metadata": {},
   "outputs": [],
   "source": [
    "def f(s: str, i: int):\n",
    "    \"\"\" A simple function\n",
    "    \n",
    "    Params:\n",
    "        s: a name\n",
    "        i: a number\n",
    "        \n",
    "    Example:\n",
    "        ```python\n",
    "        s = \"Hello World! \"\n",
    "        i = 2\n",
    "\n",
    "        print(s * i)\n",
    "        ```\n",
    "    \"\"\"\n",
    "    print((s + \" \")*i)"
   ]
  },
  {
   "cell_type": "markdown",
   "metadata": {},
   "source": [
    "You can use the following code to run example from the function's documentation above:"
   ]
  },
  {
   "cell_type": "code",
   "execution_count": null,
   "metadata": {},
   "outputs": [
    {
     "name": "stderr",
     "output_type": "stream",
     "text": [
      "WARNING:griffe.docstrings.google:<module>:3: No type or annotation for parameter 's'\n",
      "WARNING:griffe.docstrings.google:<module>:4: No type or annotation for parameter 'i'\n",
      "WARNING:griffe.docstrings.google:<module>:5: Failed to get 'name: description' pair from ''\n"
     ]
    },
    {
     "data": {
      "text/html": [
       "<pre style=\"white-space:pre;overflow-x:auto;line-height:normal;font-family:Menlo,'DejaVu Sans Mono',consolas,'Courier New',monospace;font-size:.68rem\">Example:\n",
       "<span style=\"color: #00ff00; text-decoration-color: #00ff00\">───────────────────────────────────── </span>code<span style=\"color: #00ff00; text-decoration-color: #00ff00\"> ─────────────────────────────────────</span>\n",
       "\n",
       "    s = <span style=\"color: #008000; text-decoration-color: #008000\">\"Hello World! \"</span>\n",
       "    i = <span style=\"color: #008080; text-decoration-color: #008080; font-weight: bold\">2</span>\n",
       "\n",
       "    <span style=\"color: #800080; text-decoration-color: #800080; font-weight: bold\">print</span><span style=\"font-weight: bold\">(</span>s * i<span style=\"font-weight: bold\">)</span>\n",
       "\n",
       "<span style=\"color: #00ff00; text-decoration-color: #00ff00\">──────────────────────────────────── </span>stdout<span style=\"color: #00ff00; text-decoration-color: #00ff00\"> ────────────────────────────────────</span>\n",
       "Hello World! Hello World! \n",
       "\n",
       "<span style=\"color: #00ff00; text-decoration-color: #00ff00\">─────────────────────────────── </span>stderr supressed<span style=\"color: #00ff00; text-decoration-color: #00ff00\"> ───────────────────────────────</span>\n",
       "N/A\n",
       "</pre>\n"
      ],
      "text/plain": [
       "Example:\n",
       "\u001b[92m───────────────────────────────────── \u001b[0mcode\u001b[92m ─────────────────────────────────────\u001b[0m\n",
       "\n",
       "    s = \u001b[32m\"Hello World! \"\u001b[0m\n",
       "    i = \u001b[1;36m2\u001b[0m\n",
       "\n",
       "    \u001b[1;35mprint\u001b[0m\u001b[1m(\u001b[0ms * i\u001b[1m)\u001b[0m\n",
       "\n",
       "\u001b[92m──────────────────────────────────── \u001b[0mstdout\u001b[92m ────────────────────────────────────\u001b[0m\n",
       "Hello World! Hello World! \n",
       "\n",
       "\u001b[92m─────────────────────────────── \u001b[0mstderr supressed\u001b[92m ───────────────────────────────\u001b[0m\n",
       "N/A\n"
      ]
     },
     "metadata": {},
     "output_type": "display_data"
    }
   ],
   "source": [
    "from nbdev_mkdocs.docstring import run_examples_from_docstring\n",
    "\n",
    "run_examples_from_docstring(f, supress_stderr=True)"
   ]
  },
  {
   "cell_type": "code",
   "execution_count": null,
   "metadata": {},
   "outputs": [],
   "source": []
  }
 ],
 "metadata": {
  "kernelspec": {
   "display_name": "Python 3",
   "language": "python",
   "name": "python3"
  }
 },
 "nbformat": 4,
 "nbformat_minor": 4
}
