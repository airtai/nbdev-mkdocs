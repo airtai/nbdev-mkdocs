{
 "cells": [
  {
   "cell_type": "markdown",
   "metadata": {},
   "source": [
    "# Getting Started"
   ]
  },
  {
   "cell_type": "markdown",
   "metadata": {},
   "source": [
    "![PyPI](https://img.shields.io/pypi/v/nbdev-mkdocs) \n",
    "![PyPI - Downloads](https://img.shields.io/pypi/dm/nbdev-mkdocs)\n",
    "![PyPI - Python Version](https://img.shields.io/pypi/pyversions/nbdev-mkdocs) \n",
    "\n",
    "![GitHub Workflow Status](https://img.shields.io/github/actions/workflow/status/airtai/nbdev-mkdocs/test.yaml)\n",
    "\n",
    "![CodeQL](https://github.com/airtai/nbdev-mkdocs/actions/workflows/codeql.yml/badge.svg)\n",
    "![Dependency Review](https://github.com/airtai/nbdev-mkdocs/actions/workflows/dependency-review.yml/badge.svg)\n",
    "\n",
    "\n",
    "![GitHub](https://img.shields.io/github/license/airtai/nbdev-mkdocs)\n",
    "\n",
    "---"
   ]
  },
  {
   "cell_type": "markdown",
   "metadata": {},
   "source": [
    "**Material for nbdev** is a <a href=\"https://nbdev.fast.ai/\" target=\"_blank\">nbdev</a> extension that allows you to use <a href=\"https://squidfunk.github.io/mkdocs-material/\" target=\"_blank\">Material for MkDocs</a> to generate documentation for nbdev projects."
   ]
  },
  {
   "cell_type": "markdown",
   "metadata": {},
   "source": [
    "## Workflow\n",
    "\n",
    "Here's a quick comparison of Quarto and Material for nbdev development workflows:\n",
    "\n",
    "<!-- | **Quarto workflow** \t| **Material for nbdev workflow** \t|\n",
    "|---\t|---\t|\n",
    "| Install:<br>> pip install notebook nbdev<br>> nbdev_install_quarto \t| Install:<br>> pip install notebook nbdev<br>> nbdev_install_quarto<br>**> pip install nbdev-mkdocs** \t|\n",
    "| Setup:<br>> nbdev_new<br>> nbdev_install_hooks<br>> vi settings.ini<br>> pip install -e '.[dev]' \t| Setup:<br>> nbdev_new<br>> nbdev_install_hooks<br>> vi settings.ini<br>> pip install -e '.[dev]'<br>**> nbdev_mkdocs new**<br>**> vi mkdocs/mkdocs.yml** \t|\n",
    "| Development:<br># Edit files<br>> nbdev_preview \t| Development:<br># Edit files<br>**> nbdev_mkdocs preview**<br> \t|\n",
    "| Commit changes:<br>> nbdev_prepare<br>> git commit -am “Commit message”<br>> git push \t| Commit changes:<br>**> nbdev_mkdocs prepare**<br>> git commit -am “Commit message”<br>> git push \t| -->"
   ]
  },
  {
   "cell_type": "markdown",
   "metadata": {},
   "source": [
    "<table>\n",
    "\n",
    "<thead>\n",
    "<tr>\n",
    "<th><strong>Quarto workflow</strong></th> \n",
    "<th><strong>Material for nbdev workflow</strong></th>\n",
    "</tr>\n",
    "</thead>\n",
    "<tbody>\n",
    "<tr>\n",
    "<td>\n",
    "\n",
    "Install:\n",
    "```shell\n",
    "$ pip install notebook nbdev\n",
    "$ nbdev_install_quarto\n",
    "\n",
    "```\n",
    "\n",
    "</td>\n",
    "<td>\n",
    "\n",
    "Install:\n",
    "```shell\n",
    "$ pip install notebook nbdev\n",
    "$ nbdev_install_quarto\n",
    "$ pip install nbdev-mkdocs\n",
    "```\n",
    "\n",
    "</td>\n",
    "</tr>\n",
    "\n",
    "<tr>\n",
    "<td>\n",
    "\n",
    "Setup:\n",
    "```shell\n",
    "$ nbdev_new\n",
    "$ nbdev_install_hooks\n",
    "$ vi settings.ini\n",
    "$ pip install -e '.[dev]'\n",
    "```\n",
    "\n",
    "</td>\n",
    "<td>\n",
    "\n",
    "Setup:\n",
    "```shell\n",
    "$ nbdev_new\n",
    "$ nbdev_install_hooks\n",
    "$ vi settings.ini\n",
    "$ pip install -e '.[dev]'\n",
    "$ nbdev_mkdocs new\n",
    "$ vi mkdocs/mkdocs.yml\n",
    "```\n",
    "\n",
    "</td>\n",
    "</tr>\n",
    "\n",
    "<tr>\n",
    "<td>\n",
    "\n",
    "Development:\n",
    "```shell\n",
    "# Edit files\n",
    "$ nbdev_preview\n",
    "```\n",
    "\n",
    "</td>\n",
    "<td>\n",
    "\n",
    "Development:\n",
    "```shell\n",
    "# Edit files\n",
    "$ nbdev_mkdocs preview\n",
    "```\n",
    "\n",
    "</td>\n",
    "</tr>\n",
    "\n",
    "<tr>\n",
    "<td>\n",
    "\n",
    "Commit changes:\n",
    "```shell\n",
    "$ nbdev_prepare\n",
    "$ git commit -am “Commit message”\n",
    "$ git push\n",
    "```\n",
    "\n",
    "</td>\n",
    "<td>\n",
    "\n",
    "Commit changes:\n",
    "```shell\n",
    "$ nbdev_mkdocs prepare\n",
    "$ git commit -am “Commit message”\n",
    "$ git push\n",
    "```\n",
    "\n",
    "</td>\n",
    "</tr>\n",
    "\n",
    "\n",
    "\n",
    "</tbody>\n",
    "</table>"
   ]
  },
  {
   "cell_type": "markdown",
   "metadata": {},
   "source": [
    "## Quick start"
   ]
  },
  {
   "cell_type": "markdown",
   "metadata": {},
   "source": [
    "The following quick start guide will walk you through installing and configuring nbdev-mkdocs for an existing nbdev project. It also assumes you've already initialized your project with nbdev and installed  all of the required libraries.\n",
    "\n",
    "For detailed installation instructions and configuration options, please see the <a href=\"https://nbdev-mkdocs.airt.ai/guides/Guide_01_End_To_End_Walkthrough/\">End-To-End Walkthrough</a>.\n",
    "\n",
    "### Install\n",
    "\n",
    "nbdev-mkdocs is published as a Python package and can be installed with pip:\n",
    "\n",
    "```shell\n",
    "pip install nbdev-mkdocs\n",
    "```\n",
    "Note that `nbdev-mkdocs` must be installed in the same Python environment as nbdev.\n",
    "\n",
    "If the installation was successful, you should now have the **nbdev-mkdocs** installed on your system. Run the below command from the terminal to see the full list of available commands:\n",
    "\n",
    "``` shell\n",
    "nbdev_mkdocs --help\n",
    "```"
   ]
  },
  {
   "cell_type": "code",
   "execution_count": null,
   "metadata": {},
   "outputs": [
    {
     "name": "stdout",
     "output_type": "stream",
     "text": [
      "\u001b[1m                                                                                \u001b[0m\r\n",
      "\u001b[1m \u001b[0m\u001b[1;33mUsage: \u001b[0m\u001b[1mnbdev_mkdocs [OPTIONS] COMMAND [ARGS]...\u001b[0m\u001b[1m                               \u001b[0m\u001b[1m \u001b[0m\r\n",
      "\u001b[1m                                                                                \u001b[0m\r\n",
      "\u001b[2m╭─\u001b[0m\u001b[2m Options \u001b[0m\u001b[2m───────────────────────────────────────────────────────────────────\u001b[0m\u001b[2m─╮\u001b[0m\r\n",
      "\u001b[2m│\u001b[0m \u001b[1;36m-\u001b[0m\u001b[1;36m-install\u001b[0m\u001b[1;36m-completion\u001b[0m          Install completion for the current shell.      \u001b[2m│\u001b[0m\r\n",
      "\u001b[2m│\u001b[0m \u001b[1;36m-\u001b[0m\u001b[1;36m-show\u001b[0m\u001b[1;36m-completion\u001b[0m             Show completion for the current shell, to copy \u001b[2m│\u001b[0m\r\n",
      "\u001b[2m│\u001b[0m                               it or customize the installation.              \u001b[2m│\u001b[0m\r\n",
      "\u001b[2m│\u001b[0m \u001b[1;36m-\u001b[0m\u001b[1;36m-help\u001b[0m                        Show this message and exit.                    \u001b[2m│\u001b[0m\r\n",
      "\u001b[2m╰──────────────────────────────────────────────────────────────────────────────╯\u001b[0m\r\n",
      "\u001b[2m╭─\u001b[0m\u001b[2m Commands \u001b[0m\u001b[2m──────────────────────────────────────────────────────────────────\u001b[0m\u001b[2m─╮\u001b[0m\r\n",
      "\u001b[2m│\u001b[0m \u001b[1;36mdocs        \u001b[0m\u001b[1;36m \u001b[0m Prepares files in **mkdocs/docs** and then runs **mkdocs       \u001b[2m│\u001b[0m\r\n",
      "\u001b[2m│\u001b[0m \u001b[1;36m             \u001b[0m build** command on them                                        \u001b[2m│\u001b[0m\r\n",
      "\u001b[2m│\u001b[0m \u001b[1;36mdocstring   \u001b[0m\u001b[1;36m \u001b[0m Command for adding docstrings to classes and methods that      \u001b[2m│\u001b[0m\r\n",
      "\u001b[2m│\u001b[0m \u001b[1;36m             \u001b[0m don't have one using docstring-gen library.                    \u001b[2m│\u001b[0m\r\n",
      "\u001b[2m│\u001b[0m \u001b[1;36mnew         \u001b[0m\u001b[1;36m \u001b[0m Creates files in **mkdocs** subdirectory needed for other      \u001b[2m│\u001b[0m\r\n",
      "\u001b[2m│\u001b[0m \u001b[1;36m             \u001b[0m **nbdev_mkdocs** subcommands                                   \u001b[2m│\u001b[0m\r\n",
      "\u001b[2m│\u001b[0m \u001b[1;36mprepare     \u001b[0m\u001b[1;36m \u001b[0m Runs tests and prepares files in **mkdocs/docs** and then runs \u001b[2m│\u001b[0m\r\n",
      "\u001b[2m│\u001b[0m \u001b[1;36m             \u001b[0m **mkdocs build** command on them                               \u001b[2m│\u001b[0m\r\n",
      "\u001b[2m│\u001b[0m \u001b[1;36mpreview     \u001b[0m\u001b[1;36m \u001b[0m Prepares files in **mkdocs/docs** and then runs **mkdocs       \u001b[2m│\u001b[0m\r\n",
      "\u001b[2m│\u001b[0m \u001b[1;36m             \u001b[0m serve** command on them                                        \u001b[2m│\u001b[0m\r\n",
      "\u001b[2m│\u001b[0m \u001b[1;36msocial-image\u001b[0m\u001b[1;36m \u001b[0m Command for generating a custom social share image.            \u001b[2m│\u001b[0m\r\n",
      "\u001b[2m╰──────────────────────────────────────────────────────────────────────────────╯\u001b[0m\r\n",
      "\r\n"
     ]
    }
   ],
   "source": [
    "#| echo: false\n",
    "\n",
    "!nbdev_mkdocs --help\n"
   ]
  },
  {
   "cell_type": "markdown",
   "metadata": {},
   "source": [
    "### Setup\n",
    "\n",
    "After installing nbdev-mkdocs, bootstrap your project documentation by executing the following command from the project's root directory:\n",
    "\n",
    "```shell\n",
    "nbdev_mkdocs new\n",
    "```\n",
    "Using information from the project's settings.ini file, the above command creates files and directories required to build the documentation and saves it in the **mkdocs** subdirectory.\n",
    "\n",
    "Note: You should only run the **nbdev_mkdocs new** command once for the project to initialise the files required for building Material for MkDocs documentation."
   ]
  },
  {
   "cell_type": "markdown",
   "metadata": {},
   "source": [
    "### Preview changes\n",
    "\n",
    "nbdev_mkdocs lets you preview your changes as you write your documentation. Execute the following command from the project root directory to start a local server, and preview your documentation:\n",
    "\n",
    "**Note**: If you haven't already installed your library locally, run `pip install -e '.[dev]'` command before running the `nbdev_mkdocs prepare` command.\n",
    "\n",
    "\n",
    "```shell\n",
    "nbdev_mkdocs preview\n",
    "```"
   ]
  },
  {
   "cell_type": "markdown",
   "metadata": {},
   "source": [
    "### Prepare changes\n",
    "\n",
    "We recommend running the `nbdev_mkdocs prepare` command in the terminal before committing to Git, which exports the library, tests and cleans notebooks, and generates the README file if necessary.\n",
    "\n",
    "```shell\n",
    "nbdev_mkdocs prepare\n",
    "```\n",
    "\n",
    "Finally, double-check your settings.ini file to ensure that it has all of the correct information. Then commit and push your additions to GitHub:\n",
    "\n",
    "```shell\n",
    "git commit -am'Commit Message'\n",
    "git push\n",
    "```"
   ]
  },
  {
   "cell_type": "markdown",
   "metadata": {},
   "source": [
    "## Copyright\n",
    "\n",
    "Copyright © 2022 onwards airt technologies ltd, Inc."
   ]
  },
  {
   "cell_type": "markdown",
   "metadata": {},
   "source": [
    "## License\n",
    "\n",
    "This project is licensed under the terms of the [Apache License 2.0](https://github.com/airtai/nbdev-mkdocs/blob/main/LICENSE)"
   ]
  }
 ],
 "metadata": {
  "kernelspec": {
   "display_name": "Python 3 (ipykernel)",
   "language": "python",
   "name": "python3"
  }
 },
 "nbformat": 4,
 "nbformat_minor": 4
}
