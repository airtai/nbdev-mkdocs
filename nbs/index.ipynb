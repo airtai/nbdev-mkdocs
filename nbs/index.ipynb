{
 "cells": [
  {
   "cell_type": "markdown",
   "metadata": {},
   "source": [
    "# Getting Started"
   ]
  },
  {
   "cell_type": "markdown",
   "metadata": {},
   "source": [
    "**nbdev_mkdocs** is a nbdev extension that allows you to generate documentation from notebooks using Material for Mkdocs instead of Quarto."
   ]
  },
  {
   "cell_type": "markdown",
   "metadata": {},
   "source": [
    "## Quick start"
   ]
  },
  {
   "cell_type": "markdown",
   "metadata": {},
   "source": [
    "The following quick start guide will walk you through installing and configuring nbdev_mkdocs for an existing nbdev project. It also assumes you've already initialized your project with nbdev and installed  all of the required libraries.\n",
    "\n",
    "For detailed installation instructions, configuration options, and an End-To-End Walkthrough, please see the [documentation](https://nbdev-mkdocs.airt.ai/).\n",
    "\n",
    "nbdev_mkdocs is published as a Python package and can be installed with pip:\n",
    "\n",
    "```shell\n",
    "pip install nbdev_mkdocs\n",
    "```\n",
    "Note that `nbdev_mkdocs` must be installed into the same Python environment that you used to install nbdev.\n",
    "\n",
    "If the installation was successful, you should now have the **nbdev_mkdocs** installed on your system. Run the below command from the terminal to see the full list of available commands:\n",
    "\n",
    "``` shell\n",
    "nbdev_mkdocs --help\n",
    "```"
   ]
  },
  {
   "cell_type": "code",
   "execution_count": null,
   "metadata": {},
   "outputs": [
    {
     "name": "stdout",
     "output_type": "stream",
     "text": [
      "\u001b[1m                                                                                \u001b[0m\n",
      "\u001b[1m \u001b[0m\u001b[1;33mUsage: \u001b[0m\u001b[1mnbdev_mkdocs [OPTIONS] COMMAND [ARGS]...\u001b[0m\u001b[1m                               \u001b[0m\u001b[1m \u001b[0m\n",
      "\u001b[1m                                                                                \u001b[0m\n",
      "\u001b[2m╭─\u001b[0m\u001b[2m Options \u001b[0m\u001b[2m───────────────────────────────────────────────────────────────────\u001b[0m\u001b[2m─╮\u001b[0m\n",
      "\u001b[2m│\u001b[0m \u001b[1;36m-\u001b[0m\u001b[1;36m-install\u001b[0m\u001b[1;36m-completion\u001b[0m          Install completion for the current shell.      \u001b[2m│\u001b[0m\n",
      "\u001b[2m│\u001b[0m \u001b[1;36m-\u001b[0m\u001b[1;36m-show\u001b[0m\u001b[1;36m-completion\u001b[0m             Show completion for the current shell, to copy \u001b[2m│\u001b[0m\n",
      "\u001b[2m│\u001b[0m                               it or customize the installation.              \u001b[2m│\u001b[0m\n",
      "\u001b[2m│\u001b[0m \u001b[1;36m-\u001b[0m\u001b[1;36m-help\u001b[0m                        Show this message and exit.                    \u001b[2m│\u001b[0m\n",
      "\u001b[2m╰──────────────────────────────────────────────────────────────────────────────╯\u001b[0m\n",
      "\u001b[2m╭─\u001b[0m\u001b[2m Commands \u001b[0m\u001b[2m──────────────────────────────────────────────────────────────────\u001b[0m\u001b[2m─╮\u001b[0m\n",
      "\u001b[2m│\u001b[0m \u001b[1;36mnew    \u001b[0m\u001b[1;36m \u001b[0m Creates files in **mkdocs** subdirectory needed for other           \u001b[2m│\u001b[0m\n",
      "\u001b[2m│\u001b[0m \u001b[1;36m        \u001b[0m **nbdev_mkdocs** subcommands                                        \u001b[2m│\u001b[0m\n",
      "\u001b[2m│\u001b[0m \u001b[1;36mprepare\u001b[0m\u001b[1;36m \u001b[0m Prepares files in **mkdocs/docs** and then runs **mkdocs build**    \u001b[2m│\u001b[0m\n",
      "\u001b[2m│\u001b[0m \u001b[1;36m        \u001b[0m command on them                                                     \u001b[2m│\u001b[0m\n",
      "\u001b[2m│\u001b[0m \u001b[1;36mpreview\u001b[0m\u001b[1;36m \u001b[0m Prepares files in **mkdocs/docs** and then runs **mkdocs serve**    \u001b[2m│\u001b[0m\n",
      "\u001b[2m│\u001b[0m \u001b[1;36m        \u001b[0m command on them                                                     \u001b[2m│\u001b[0m\n",
      "\u001b[2m╰──────────────────────────────────────────────────────────────────────────────╯\u001b[0m\n",
      "\n"
     ]
    }
   ],
   "source": [
    "#| echo: false\n",
    "\n",
    "!nbdev_mkdocs --help"
   ]
  },
  {
   "cell_type": "markdown",
   "metadata": {},
   "source": [
    "### Setup\n",
    "\n",
    "After installing nbdev_mkdocs, bootstrap your project documentation by executing the following command from the project's root directory:\n",
    "\n",
    "```python\n",
    "nbdev_mkdocs new\n",
    "```\n",
    "Using information from the project's settings.ini file, the above command creates files and directories required to build the documentation and saves it in the **mkdocs** subdirectory."
   ]
  },
  {
   "cell_type": "markdown",
   "metadata": {},
   "source": [
    "### Build and prepare\n",
    "\n",
    "If you haven't already, please run the following commands from the project's root directory to generate and install Python modules from the notebooks locally:\n",
    "```python\n",
    "nbdev_export && pip install '.[dev]'\n",
    "```\n",
    "\n",
    "To build the documentation, execute the following command from the project's root directory:\n",
    "\n",
    "```python\n",
    "nbdev_mkdocs prepare\n",
    "```\n",
    "Running the above command will:\n",
    "\n",
    "- Generate the markdown files from the notebooks and saves them to the **mkdocs/docs/** directory.\n",
    "- Builds the documentation from the generated markdown files and saves the resulting files to the **mkdocs/site** directory.\n",
    "    "
   ]
  },
  {
   "cell_type": "markdown",
   "metadata": {},
   "source": [
    "### Preview\n",
    "\n",
    "After the documentation has been successfully built, run the following command to start a local server and preview the documentation.\n",
    "\n",
    "```python\n",
    "nbdev_mkdocs preview\n",
    "```"
   ]
  },
  {
   "cell_type": "markdown",
   "metadata": {},
   "source": [
    "## Copyright\n",
    "\n",
    "Copyright © 2022 onwards airt.ai, Inc. Licensed under the Apache License, Version 2.0."
   ]
  }
 ],
 "metadata": {
  "kernelspec": {
   "display_name": "Python 3 (ipykernel)",
   "language": "python",
   "name": "python3"
  }
 },
 "nbformat": 4,
 "nbformat_minor": 4
}
