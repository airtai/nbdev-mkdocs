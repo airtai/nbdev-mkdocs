{
 "cells": [
  {
   "cell_type": "code",
   "execution_count": null,
   "id": "a520a022",
   "metadata": {},
   "outputs": [],
   "source": [
    "# | default_exp cli"
   ]
  },
  {
   "cell_type": "code",
   "execution_count": null,
   "id": "3f5a4483",
   "metadata": {},
   "outputs": [],
   "source": [
    "# | export\n",
    "\n",
    "from typing import *\n",
    "from pathlib import Path\n",
    "\n",
    "import typer\n",
    "\n",
    "import nbdev_mkdocs\n",
    "import nbdev_mkdocs.mkdocs"
   ]
  },
  {
   "cell_type": "code",
   "execution_count": null,
   "id": "347594e0",
   "metadata": {},
   "outputs": [],
   "source": [
    "from typer.testing import CliRunner\n",
    "\n",
    "runner = CliRunner()"
   ]
  },
  {
   "cell_type": "code",
   "execution_count": null,
   "id": "8880cb2e",
   "metadata": {},
   "outputs": [],
   "source": [
    "# | export\n",
    "\n",
    "_app = typer.Typer(help=\"\")\n",
    "\n",
    "\n",
    "@_app.command(\n",
    "    help=\"Creates files in **mkdocs** subdirectory needed for other **nbdev_mkdocs** subcommands\",\n",
    ")\n",
    "def new(root_path: str = typer.Option(\".\", help=\"\")):\n",
    "    \"\"\"CLI command for creating files for nbdev_mkdocs command\"\"\"\n",
    "    try:\n",
    "        nbdev_mkdocs.mkdocs.new(root_path=root_path)\n",
    "    except Exception as e:\n",
    "        typer.secho(\"Unexpected internal error :/\", err=True, fg=typer.colors.RED)\n",
    "        raise typer.Exit(1)\n",
    "\n",
    "\n",
    "@_app.command(\n",
    "    help=\"Prepares files in **mkdocs/docs** and then runs **mkdocs build** command on them \",\n",
    ")\n",
    "def prepare(root_path: str = typer.Option(\".\", help=\"\")):\n",
    "    \"\"\"CLI command for creating files for nbdev_mkdocs command\"\"\"\n",
    "    try:\n",
    "        nbdev_mkdocs.mkdocs.prepare(root_path=root_path)\n",
    "    except Exception as e:\n",
    "        typer.secho(\"Unexpected internal error :/\", err=True, fg=typer.colors.RED)\n",
    "        raise typer.Exit(1)\n",
    "\n",
    "@_app.command(\n",
    "    help=\"Prepares files in **mkdocs/docs** and then runs **mkdocs serve** command on them \",\n",
    ")\n",
    "def preview(root_path: str = typer.Option(\".\", help=\"\")):\n",
    "    \"\"\"CLI command for creating files for nbdev_mkdocs command\"\"\"\n",
    "    try:\n",
    "        nbdev_mkdocs.mkdocs.preview(root_path=root_path, port=4000)\n",
    "    except Exception as e:\n",
    "        typer.secho(\"Unexpected internal error :/\", err=True, fg=typer.colors.RED)\n",
    "        raise typer.Exit(1)\n"
   ]
  },
  {
   "cell_type": "code",
   "execution_count": null,
   "id": "b8003cf0",
   "metadata": {},
   "outputs": [
    {
     "data": {
      "text/html": [
       "<pre style=\"white-space:pre;overflow-x:auto;line-height:normal;font-family:Menlo,'DejaVu Sans Mono',consolas,'Courier New',monospace\"><span style=\"font-weight: bold\">                                                                                                                   </span>\n",
       "<span style=\"font-weight: bold\"> </span><span style=\"color: #808000; text-decoration-color: #808000; font-weight: bold\">Usage: </span><span style=\"font-weight: bold\">root [OPTIONS] COMMAND [ARGS]...                                                                           </span>\n",
       "<span style=\"font-weight: bold\">                                                                                                                   </span>\n",
       "</pre>\n"
      ],
      "text/plain": [
       "\u001b[1m                                                                                                                   \u001b[0m\n",
       "\u001b[1m \u001b[0m\u001b[1;33mUsage: \u001b[0m\u001b[1mroot [OPTIONS] COMMAND [ARGS]...\u001b[0m\u001b[1m                                                                          \u001b[0m\u001b[1m \u001b[0m\n",
       "\u001b[1m                                                                                                                   \u001b[0m\n"
      ]
     },
     "metadata": {},
     "output_type": "display_data"
    },
    {
     "data": {
      "text/html": [
       "<pre style=\"white-space:pre;overflow-x:auto;line-height:normal;font-family:Menlo,'DejaVu Sans Mono',consolas,'Courier New',monospace\"><span style=\"color: #7f7f7f; text-decoration-color: #7f7f7f\">╭─ Options ───────────────────────────────────────────────────────────────────────────────────────────────────────╮</span>\n",
       "<span style=\"color: #7f7f7f; text-decoration-color: #7f7f7f\">│</span> <span style=\"color: #008080; text-decoration-color: #008080; font-weight: bold\">--install-completion</span>          Install completion for the current shell.                                         <span style=\"color: #7f7f7f; text-decoration-color: #7f7f7f\">│</span>\n",
       "<span style=\"color: #7f7f7f; text-decoration-color: #7f7f7f\">│</span> <span style=\"color: #008080; text-decoration-color: #008080; font-weight: bold\">--show-completion</span>             Show completion for the current shell, to copy it or customize the installation.  <span style=\"color: #7f7f7f; text-decoration-color: #7f7f7f\">│</span>\n",
       "<span style=\"color: #7f7f7f; text-decoration-color: #7f7f7f\">│</span> <span style=\"color: #008080; text-decoration-color: #008080; font-weight: bold\">--help</span>                        Show this message and exit.                                                       <span style=\"color: #7f7f7f; text-decoration-color: #7f7f7f\">│</span>\n",
       "<span style=\"color: #7f7f7f; text-decoration-color: #7f7f7f\">╰─────────────────────────────────────────────────────────────────────────────────────────────────────────────────╯</span>\n",
       "</pre>\n"
      ],
      "text/plain": [
       "\u001b[2m╭─\u001b[0m\u001b[2m Options \u001b[0m\u001b[2m──────────────────────────────────────────────────────────────────────────────────────────────────────\u001b[0m\u001b[2m─╮\u001b[0m\n",
       "\u001b[2m│\u001b[0m \u001b[1;36m-\u001b[0m\u001b[1;36m-install\u001b[0m\u001b[1;36m-completion\u001b[0m          Install completion for the current shell.                                         \u001b[2m│\u001b[0m\n",
       "\u001b[2m│\u001b[0m \u001b[1;36m-\u001b[0m\u001b[1;36m-show\u001b[0m\u001b[1;36m-completion\u001b[0m             Show completion for the current shell, to copy it or customize the installation.  \u001b[2m│\u001b[0m\n",
       "\u001b[2m│\u001b[0m \u001b[1;36m-\u001b[0m\u001b[1;36m-help\u001b[0m                        Show this message and exit.                                                       \u001b[2m│\u001b[0m\n",
       "\u001b[2m╰─────────────────────────────────────────────────────────────────────────────────────────────────────────────────╯\u001b[0m\n"
      ]
     },
     "metadata": {},
     "output_type": "display_data"
    },
    {
     "data": {
      "text/html": [
       "<pre style=\"white-space:pre;overflow-x:auto;line-height:normal;font-family:Menlo,'DejaVu Sans Mono',consolas,'Courier New',monospace\"><span style=\"color: #7f7f7f; text-decoration-color: #7f7f7f\">╭─ Commands ──────────────────────────────────────────────────────────────────────────────────────────────────────╮</span>\n",
       "<span style=\"color: #7f7f7f; text-decoration-color: #7f7f7f\">│</span> <span style=\"color: #008080; text-decoration-color: #008080; font-weight: bold\">new       </span> Creates files in **mkdocs** subdirectory needed for other **nbdev_mkdocs** subcommands               <span style=\"color: #7f7f7f; text-decoration-color: #7f7f7f\">│</span>\n",
       "<span style=\"color: #7f7f7f; text-decoration-color: #7f7f7f\">│</span> <span style=\"color: #008080; text-decoration-color: #008080; font-weight: bold\">prepare   </span> Prepares files in **mkdocs/docs** and then runs **mkdocs build** command on them                     <span style=\"color: #7f7f7f; text-decoration-color: #7f7f7f\">│</span>\n",
       "<span style=\"color: #7f7f7f; text-decoration-color: #7f7f7f\">╰─────────────────────────────────────────────────────────────────────────────────────────────────────────────────╯</span>\n",
       "</pre>\n"
      ],
      "text/plain": [
       "\u001b[2m╭─\u001b[0m\u001b[2m Commands \u001b[0m\u001b[2m─────────────────────────────────────────────────────────────────────────────────────────────────────\u001b[0m\u001b[2m─╮\u001b[0m\n",
       "\u001b[2m│\u001b[0m \u001b[1;36mnew      \u001b[0m\u001b[1;36m \u001b[0m Creates files in **mkdocs** subdirectory needed for other **nbdev_mkdocs** subcommands               \u001b[2m│\u001b[0m\n",
       "\u001b[2m│\u001b[0m \u001b[1;36mprepare  \u001b[0m\u001b[1;36m \u001b[0m Prepares files in **mkdocs/docs** and then runs **mkdocs build** command on them                     \u001b[2m│\u001b[0m\n",
       "\u001b[2m╰─────────────────────────────────────────────────────────────────────────────────────────────────────────────────╯\u001b[0m\n"
      ]
     },
     "metadata": {},
     "output_type": "display_data"
    }
   ],
   "source": [
    "result = runner.invoke(_app, [\"--help\"])"
   ]
  },
  {
   "cell_type": "code",
   "execution_count": null,
   "id": "fbeaec45",
   "metadata": {},
   "outputs": [
    {
     "data": {
      "text/html": [
       "<pre style=\"white-space:pre;overflow-x:auto;line-height:normal;font-family:Menlo,'DejaVu Sans Mono',consolas,'Courier New',monospace\"><span style=\"font-weight: bold\">                                                                                                                   </span>\n",
       "<span style=\"font-weight: bold\"> </span><span style=\"color: #808000; text-decoration-color: #808000; font-weight: bold\">Usage: </span><span style=\"font-weight: bold\">root new [OPTIONS]                                                                                         </span>\n",
       "<span style=\"font-weight: bold\">                                                                                                                   </span>\n",
       "</pre>\n"
      ],
      "text/plain": [
       "\u001b[1m                                                                                                                   \u001b[0m\n",
       "\u001b[1m \u001b[0m\u001b[1;33mUsage: \u001b[0m\u001b[1mroot new [OPTIONS]\u001b[0m\u001b[1m                                                                                        \u001b[0m\u001b[1m \u001b[0m\n",
       "\u001b[1m                                                                                                                   \u001b[0m\n"
      ]
     },
     "metadata": {},
     "output_type": "display_data"
    },
    {
     "data": {
      "text/html": [
       "<pre style=\"white-space:pre;overflow-x:auto;line-height:normal;font-family:Menlo,'DejaVu Sans Mono',consolas,'Courier New',monospace\"> Creates files in **mkdocs** subdirectory needed for other **nbdev_mkdocs** subcommands                            \n",
       "                                                                                                                   \n",
       "</pre>\n"
      ],
      "text/plain": [
       " Creates files in **mkdocs** subdirectory needed for other **nbdev_mkdocs** subcommands                            \n",
       "                                                                                                                   \n"
      ]
     },
     "metadata": {},
     "output_type": "display_data"
    },
    {
     "data": {
      "text/html": [
       "<pre style=\"white-space:pre;overflow-x:auto;line-height:normal;font-family:Menlo,'DejaVu Sans Mono',consolas,'Courier New',monospace\"><span style=\"color: #7f7f7f; text-decoration-color: #7f7f7f\">╭─ Options ───────────────────────────────────────────────────────────────────────────────────────────────────────╮</span>\n",
       "<span style=\"color: #7f7f7f; text-decoration-color: #7f7f7f\">│</span> <span style=\"color: #008080; text-decoration-color: #008080; font-weight: bold\">--root-path</span>        <span style=\"color: #808000; text-decoration-color: #808000; font-weight: bold\">TEXT</span>  <span style=\"color: #7f7f7f; text-decoration-color: #7f7f7f\">[default: .]</span>                                                                           <span style=\"color: #7f7f7f; text-decoration-color: #7f7f7f\">│</span>\n",
       "<span style=\"color: #7f7f7f; text-decoration-color: #7f7f7f\">│</span> <span style=\"color: #008080; text-decoration-color: #008080; font-weight: bold\">--help</span>             <span style=\"color: #808000; text-decoration-color: #808000; font-weight: bold\">    </span>  Show this message and exit.                                                            <span style=\"color: #7f7f7f; text-decoration-color: #7f7f7f\">│</span>\n",
       "<span style=\"color: #7f7f7f; text-decoration-color: #7f7f7f\">╰─────────────────────────────────────────────────────────────────────────────────────────────────────────────────╯</span>\n",
       "</pre>\n"
      ],
      "text/plain": [
       "\u001b[2m╭─\u001b[0m\u001b[2m Options \u001b[0m\u001b[2m──────────────────────────────────────────────────────────────────────────────────────────────────────\u001b[0m\u001b[2m─╮\u001b[0m\n",
       "\u001b[2m│\u001b[0m \u001b[1;36m-\u001b[0m\u001b[1;36m-root\u001b[0m\u001b[1;36m-path\u001b[0m        \u001b[1;33mTEXT\u001b[0m  \u001b[2m[default: .]\u001b[0m                                                                           \u001b[2m│\u001b[0m\n",
       "\u001b[2m│\u001b[0m \u001b[1;36m-\u001b[0m\u001b[1;36m-help\u001b[0m             \u001b[1;33m    \u001b[0m  Show this message and exit.                                                            \u001b[2m│\u001b[0m\n",
       "\u001b[2m╰─────────────────────────────────────────────────────────────────────────────────────────────────────────────────╯\u001b[0m\n"
      ]
     },
     "metadata": {},
     "output_type": "display_data"
    }
   ],
   "source": [
    "result = runner.invoke(_app, [\"new\", \"--help\"])"
   ]
  },
  {
   "cell_type": "code",
   "execution_count": null,
   "id": "228d2a6f",
   "metadata": {},
   "outputs": [],
   "source": [
    "result = runner.invoke(_app, [\"new\", \"--root-path=../setting.ini\"])"
   ]
  },
  {
   "cell_type": "code",
   "execution_count": null,
   "id": "c079e0bb",
   "metadata": {},
   "outputs": [],
   "source": [
    "# result = runner.invoke(_app, [\"prepare\", \"--root-path=../setting.ini\"])\n",
    "\n",
    "# assert result.exit_code == 1\n",
    "# assert result.output == 'Unexpected internal error :/\\n'"
   ]
  },
  {
   "cell_type": "code",
   "execution_count": null,
   "id": "aba2c065",
   "metadata": {},
   "outputs": [],
   "source": []
  },
  {
   "cell_type": "code",
   "execution_count": null,
   "id": "61f78028",
   "metadata": {},
   "outputs": [],
   "source": []
  }
 ],
 "metadata": {
  "kernelspec": {
   "display_name": "Python 3",
   "language": "python",
   "name": "python3"
  }
 },
 "nbformat": 4,
 "nbformat_minor": 5
}
