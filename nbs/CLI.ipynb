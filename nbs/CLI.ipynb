{
 "cells": [
  {
   "cell_type": "code",
   "execution_count": null,
   "id": "a520a022",
   "metadata": {},
   "outputs": [],
   "source": [
    "# | default_exp _cli\n"
   ]
  },
  {
   "cell_type": "code",
   "execution_count": null,
   "id": "3f5a4483",
   "metadata": {},
   "outputs": [],
   "source": [
    "# | export\n",
    "\n",
    "from typing import *\n",
    "from pathlib import Path\n",
    "from asyncio import run as aiorun\n",
    "\n",
    "import typer\n",
    "\n",
    "import nbdev_mkdocs\n",
    "import nbdev_mkdocs.mkdocs\n"
   ]
  },
  {
   "cell_type": "code",
   "execution_count": null,
   "id": "347594e0",
   "metadata": {},
   "outputs": [],
   "source": [
    "from typer.testing import CliRunner\n",
    "\n",
    "runner = CliRunner()\n"
   ]
  },
  {
   "cell_type": "code",
   "execution_count": null,
   "id": "8880cb2e",
   "metadata": {},
   "outputs": [],
   "source": [
    "# | export\n",
    "\n",
    "_app = typer.Typer(help=\"\")\n",
    "\n",
    "\n",
    "@_app.command(\n",
    "    help=\"Creates files in **mkdocs** subdirectory needed for other **nbdev_mkdocs** subcommands\",\n",
    ")\n",
    "def new(root_path: str = typer.Option(\".\", help=\"\")):\n",
    "    \"\"\"CLI command for creating files for nbdev_mkdocs command\"\"\"\n",
    "    try:\n",
    "        nbdev_mkdocs.mkdocs.new(root_path=root_path)\n",
    "    except Exception as e:\n",
    "        typer.secho(f\"Unexpected internal error: {e}\", err=True, fg=typer.colors.RED)\n",
    "        raise typer.Exit(1)\n",
    "\n",
    "\n",
    "@_app.command(\n",
    "    help=\"Runs tests and prepares files in **mkdocs/docs** and then runs **mkdocs build** command on them \",\n",
    ")\n",
    "def prepare(root_path: str = typer.Option(\".\", help=\"\")):\n",
    "    \"\"\"CLI command for running tests and creating files for nbdev_mkdocs command\"\"\"\n",
    "    try:\n",
    "        nbdev_mkdocs.mkdocs.prepare(root_path=root_path)\n",
    "    except Exception as e:\n",
    "        typer.secho(f\"Unexpected internal error: {e}\", err=True, fg=typer.colors.RED)\n",
    "        raise typer.Exit(1)\n",
    "\n",
    "\n",
    "@_app.command(\n",
    "    help=\"Prepares files in **mkdocs/docs** and then runs **mkdocs serve** command on them \",\n",
    ")\n",
    "def preview(\n",
    "    root_path: str = typer.Option(\n",
    "        \".\", help=\"path under which mkdocs directory will be created\"\n",
    "    ),\n",
    "    port: int = typer.Option(4000, help=\"port to use\"),\n",
    "):\n",
    "    \"\"\"CLI command for creating files for nbdev_mkdocs command\"\"\"\n",
    "    try:\n",
    "        nbdev_mkdocs.mkdocs.preview(root_path=root_path, port=port)\n",
    "    except Exception as e:\n",
    "        typer.secho(f\"Unexpected internal error: {e}\", err=True, fg=typer.colors.RED)\n",
    "        raise typer.Exit(1)\n",
    "\n",
    "\n",
    "@_app.command(\n",
    "    help=\"Prepares files in **mkdocs/docs** and then runs **mkdocs build** command on them \",\n",
    ")\n",
    "def docs(root_path: str = typer.Option(\".\", help=\"Project's root path.\")):\n",
    "    \"\"\"CLI command for creating files for nbdev_mkdocs command\"\"\"\n",
    "    try:\n",
    "        nbdev_mkdocs.mkdocs.nbdev_mkdocs_docs(\n",
    "            root_path=root_path, refresh_quarto_settings=True\n",
    "        )\n",
    "    except Exception as e:\n",
    "        typer.secho(f\"Unexpected internal error: {e}\", err=True, fg=typer.colors.RED)\n",
    "        raise typer.Exit(1)\n",
    "\n",
    "\n",
    "@_app.command(\n",
    "    help=\"Generate a custom social share image\",\n",
    ")\n",
    "def generate_social_image(\n",
    "    root_path: str = typer.Option(\".\", help=\"Project's root path.\"),\n",
    "    generator: nbdev_mkdocs.social_image_generator._IMG_Generator = typer.Option(\n",
    "        \"file\",\n",
    "        help=\"Generator to use to create the social image. Valid options are: 'file' and 'dall_e'. Choose 'file' if you want to use an existing image from your local machine in the social share image.\",\n",
    "    ),\n",
    "    prompt: Optional[str] = typer.Option(\n",
    "        \"Cute animal wearing hoodie sitting in high chair in purple room, browsing computer, 3d render\",\n",
    "        help=\"The prompt to use for generating the image.\",\n",
    "    ),\n",
    "    image_path: Optional[str] = typer.Option(\n",
    "        None,\n",
    "        help=\"Image file path to use in the social share image. If None, then the default image will be used.\",\n",
    "    ),\n",
    "):\n",
    "    \"\"\"CLI command for generating a custom social share image\"\"\"\n",
    "\n",
    "    async def _generate_social_image(root_path, generator, prompt, image_path):\n",
    "        try:\n",
    "            await nbdev_mkdocs.social_image_generator.generate_social_image(\n",
    "                root_path=root_path,\n",
    "                generator=generator,\n",
    "                prompt=prompt,\n",
    "                image_path=image_path,\n",
    "            )\n",
    "        except Exception as e:\n",
    "            typer.secho(\n",
    "                f\"Unexpected internal error: {e}\", err=True, fg=typer.colors.RED\n",
    "            )\n",
    "            raise typer.Exit(1)\n",
    "\n",
    "    aiorun(_generate_social_image(root_path, generator, prompt, image_path))\n"
   ]
  },
  {
   "cell_type": "code",
   "execution_count": null,
   "id": "b8003cf0",
   "metadata": {},
   "outputs": [
    {
     "data": {
      "text/html": [
       "<pre style=\"white-space:pre;overflow-x:auto;line-height:normal;font-family:Menlo,'DejaVu Sans Mono',consolas,'Courier New',monospace\"><span style=\"font-weight: bold\">                                                                                                                   </span>\n",
       "<span style=\"font-weight: bold\"> </span><span style=\"color: #808000; text-decoration-color: #808000; font-weight: bold\">Usage: </span><span style=\"font-weight: bold\">root [OPTIONS] COMMAND [ARGS]...                                                                           </span>\n",
       "<span style=\"font-weight: bold\">                                                                                                                   </span>\n",
       "</pre>\n"
      ],
      "text/plain": [
       "\u001b[1m                                                                                                                   \u001b[0m\n",
       "\u001b[1m \u001b[0m\u001b[1;33mUsage: \u001b[0m\u001b[1mroot [OPTIONS] COMMAND [ARGS]...\u001b[0m\u001b[1m                                                                          \u001b[0m\u001b[1m \u001b[0m\n",
       "\u001b[1m                                                                                                                   \u001b[0m\n"
      ]
     },
     "metadata": {},
     "output_type": "display_data"
    },
    {
     "data": {
      "text/html": [
       "<pre style=\"white-space:pre;overflow-x:auto;line-height:normal;font-family:Menlo,'DejaVu Sans Mono',consolas,'Courier New',monospace\"><span style=\"color: #7f7f7f; text-decoration-color: #7f7f7f\">╭─ Options ───────────────────────────────────────────────────────────────────────────────────────────────────────╮</span>\n",
       "<span style=\"color: #7f7f7f; text-decoration-color: #7f7f7f\">│</span> <span style=\"color: #008080; text-decoration-color: #008080; font-weight: bold\">--install-completion</span>          Install completion for the current shell.                                         <span style=\"color: #7f7f7f; text-decoration-color: #7f7f7f\">│</span>\n",
       "<span style=\"color: #7f7f7f; text-decoration-color: #7f7f7f\">│</span> <span style=\"color: #008080; text-decoration-color: #008080; font-weight: bold\">--show-completion</span>             Show completion for the current shell, to copy it or customize the installation.  <span style=\"color: #7f7f7f; text-decoration-color: #7f7f7f\">│</span>\n",
       "<span style=\"color: #7f7f7f; text-decoration-color: #7f7f7f\">│</span> <span style=\"color: #008080; text-decoration-color: #008080; font-weight: bold\">--help</span>                        Show this message and exit.                                                       <span style=\"color: #7f7f7f; text-decoration-color: #7f7f7f\">│</span>\n",
       "<span style=\"color: #7f7f7f; text-decoration-color: #7f7f7f\">╰─────────────────────────────────────────────────────────────────────────────────────────────────────────────────╯</span>\n",
       "</pre>\n"
      ],
      "text/plain": [
       "\u001b[2m╭─\u001b[0m\u001b[2m Options \u001b[0m\u001b[2m──────────────────────────────────────────────────────────────────────────────────────────────────────\u001b[0m\u001b[2m─╮\u001b[0m\n",
       "\u001b[2m│\u001b[0m \u001b[1;36m-\u001b[0m\u001b[1;36m-install\u001b[0m\u001b[1;36m-completion\u001b[0m          Install completion for the current shell.                                         \u001b[2m│\u001b[0m\n",
       "\u001b[2m│\u001b[0m \u001b[1;36m-\u001b[0m\u001b[1;36m-show\u001b[0m\u001b[1;36m-completion\u001b[0m             Show completion for the current shell, to copy it or customize the installation.  \u001b[2m│\u001b[0m\n",
       "\u001b[2m│\u001b[0m \u001b[1;36m-\u001b[0m\u001b[1;36m-help\u001b[0m                        Show this message and exit.                                                       \u001b[2m│\u001b[0m\n",
       "\u001b[2m╰─────────────────────────────────────────────────────────────────────────────────────────────────────────────────╯\u001b[0m\n"
      ]
     },
     "metadata": {},
     "output_type": "display_data"
    },
    {
     "data": {
      "text/html": [
       "<pre style=\"white-space:pre;overflow-x:auto;line-height:normal;font-family:Menlo,'DejaVu Sans Mono',consolas,'Courier New',monospace\"><span style=\"color: #7f7f7f; text-decoration-color: #7f7f7f\">╭─ Commands ──────────────────────────────────────────────────────────────────────────────────────────────────────╮</span>\n",
       "<span style=\"color: #7f7f7f; text-decoration-color: #7f7f7f\">│</span> <span style=\"color: #008080; text-decoration-color: #008080; font-weight: bold\">docs                  </span> Prepares files in **mkdocs/docs** and then runs **mkdocs build** command on them         <span style=\"color: #7f7f7f; text-decoration-color: #7f7f7f\">│</span>\n",
       "<span style=\"color: #7f7f7f; text-decoration-color: #7f7f7f\">│</span> <span style=\"color: #008080; text-decoration-color: #008080; font-weight: bold\">generate-social-image </span> Generate a custom image for social card                                                  <span style=\"color: #7f7f7f; text-decoration-color: #7f7f7f\">│</span>\n",
       "<span style=\"color: #7f7f7f; text-decoration-color: #7f7f7f\">│</span> <span style=\"color: #008080; text-decoration-color: #008080; font-weight: bold\">new                   </span> Creates files in **mkdocs** subdirectory needed for other **nbdev_mkdocs** subcommands   <span style=\"color: #7f7f7f; text-decoration-color: #7f7f7f\">│</span>\n",
       "<span style=\"color: #7f7f7f; text-decoration-color: #7f7f7f\">│</span> <span style=\"color: #008080; text-decoration-color: #008080; font-weight: bold\">prepare               </span> Runs tests and prepares files in **mkdocs/docs** and then runs **mkdocs build** command  <span style=\"color: #7f7f7f; text-decoration-color: #7f7f7f\">│</span>\n",
       "<span style=\"color: #7f7f7f; text-decoration-color: #7f7f7f\">│</span> <span style=\"color: #008080; text-decoration-color: #008080; font-weight: bold\">                      </span> on them                                                                                  <span style=\"color: #7f7f7f; text-decoration-color: #7f7f7f\">│</span>\n",
       "<span style=\"color: #7f7f7f; text-decoration-color: #7f7f7f\">│</span> <span style=\"color: #008080; text-decoration-color: #008080; font-weight: bold\">preview               </span> Prepares files in **mkdocs/docs** and then runs **mkdocs serve** command on them         <span style=\"color: #7f7f7f; text-decoration-color: #7f7f7f\">│</span>\n",
       "<span style=\"color: #7f7f7f; text-decoration-color: #7f7f7f\">╰─────────────────────────────────────────────────────────────────────────────────────────────────────────────────╯</span>\n",
       "</pre>\n"
      ],
      "text/plain": [
       "\u001b[2m╭─\u001b[0m\u001b[2m Commands \u001b[0m\u001b[2m─────────────────────────────────────────────────────────────────────────────────────────────────────\u001b[0m\u001b[2m─╮\u001b[0m\n",
       "\u001b[2m│\u001b[0m \u001b[1;36mdocs                 \u001b[0m\u001b[1;36m \u001b[0m Prepares files in **mkdocs/docs** and then runs **mkdocs build** command on them         \u001b[2m│\u001b[0m\n",
       "\u001b[2m│\u001b[0m \u001b[1;36mgenerate-social-image\u001b[0m\u001b[1;36m \u001b[0m Generate a custom image for social card                                                  \u001b[2m│\u001b[0m\n",
       "\u001b[2m│\u001b[0m \u001b[1;36mnew                  \u001b[0m\u001b[1;36m \u001b[0m Creates files in **mkdocs** subdirectory needed for other **nbdev_mkdocs** subcommands   \u001b[2m│\u001b[0m\n",
       "\u001b[2m│\u001b[0m \u001b[1;36mprepare              \u001b[0m\u001b[1;36m \u001b[0m Runs tests and prepares files in **mkdocs/docs** and then runs **mkdocs build** command  \u001b[2m│\u001b[0m\n",
       "\u001b[2m│\u001b[0m \u001b[1;36m                      \u001b[0m on them                                                                                  \u001b[2m│\u001b[0m\n",
       "\u001b[2m│\u001b[0m \u001b[1;36mpreview              \u001b[0m\u001b[1;36m \u001b[0m Prepares files in **mkdocs/docs** and then runs **mkdocs serve** command on them         \u001b[2m│\u001b[0m\n",
       "\u001b[2m╰─────────────────────────────────────────────────────────────────────────────────────────────────────────────────╯\u001b[0m\n"
      ]
     },
     "metadata": {},
     "output_type": "display_data"
    }
   ],
   "source": [
    "result = runner.invoke(_app, [\"--help\"])\n"
   ]
  },
  {
   "cell_type": "code",
   "execution_count": null,
   "id": "fbeaec45",
   "metadata": {},
   "outputs": [
    {
     "data": {
      "text/html": [
       "<pre style=\"white-space:pre;overflow-x:auto;line-height:normal;font-family:Menlo,'DejaVu Sans Mono',consolas,'Courier New',monospace\"><span style=\"font-weight: bold\">                                                                                                                   </span>\n",
       "<span style=\"font-weight: bold\"> </span><span style=\"color: #808000; text-decoration-color: #808000; font-weight: bold\">Usage: </span><span style=\"font-weight: bold\">root new [OPTIONS]                                                                                         </span>\n",
       "<span style=\"font-weight: bold\">                                                                                                                   </span>\n",
       "</pre>\n"
      ],
      "text/plain": [
       "\u001b[1m                                                                                                                   \u001b[0m\n",
       "\u001b[1m \u001b[0m\u001b[1;33mUsage: \u001b[0m\u001b[1mroot new [OPTIONS]\u001b[0m\u001b[1m                                                                                        \u001b[0m\u001b[1m \u001b[0m\n",
       "\u001b[1m                                                                                                                   \u001b[0m\n"
      ]
     },
     "metadata": {},
     "output_type": "display_data"
    },
    {
     "data": {
      "text/html": [
       "<pre style=\"white-space:pre;overflow-x:auto;line-height:normal;font-family:Menlo,'DejaVu Sans Mono',consolas,'Courier New',monospace\"> Creates files in **mkdocs** subdirectory needed for other **nbdev_mkdocs** subcommands                            \n",
       "                                                                                                                   \n",
       "</pre>\n"
      ],
      "text/plain": [
       " Creates files in **mkdocs** subdirectory needed for other **nbdev_mkdocs** subcommands                            \n",
       "                                                                                                                   \n"
      ]
     },
     "metadata": {},
     "output_type": "display_data"
    },
    {
     "data": {
      "text/html": [
       "<pre style=\"white-space:pre;overflow-x:auto;line-height:normal;font-family:Menlo,'DejaVu Sans Mono',consolas,'Courier New',monospace\"><span style=\"color: #7f7f7f; text-decoration-color: #7f7f7f\">╭─ Options ───────────────────────────────────────────────────────────────────────────────────────────────────────╮</span>\n",
       "<span style=\"color: #7f7f7f; text-decoration-color: #7f7f7f\">│</span> <span style=\"color: #008080; text-decoration-color: #008080; font-weight: bold\">--root-path</span>        <span style=\"color: #808000; text-decoration-color: #808000; font-weight: bold\">TEXT</span>  <span style=\"color: #7f7f7f; text-decoration-color: #7f7f7f\">[default: .]</span>                                                                           <span style=\"color: #7f7f7f; text-decoration-color: #7f7f7f\">│</span>\n",
       "<span style=\"color: #7f7f7f; text-decoration-color: #7f7f7f\">│</span> <span style=\"color: #008080; text-decoration-color: #008080; font-weight: bold\">--help</span>             <span style=\"color: #808000; text-decoration-color: #808000; font-weight: bold\">    </span>  Show this message and exit.                                                            <span style=\"color: #7f7f7f; text-decoration-color: #7f7f7f\">│</span>\n",
       "<span style=\"color: #7f7f7f; text-decoration-color: #7f7f7f\">╰─────────────────────────────────────────────────────────────────────────────────────────────────────────────────╯</span>\n",
       "</pre>\n"
      ],
      "text/plain": [
       "\u001b[2m╭─\u001b[0m\u001b[2m Options \u001b[0m\u001b[2m──────────────────────────────────────────────────────────────────────────────────────────────────────\u001b[0m\u001b[2m─╮\u001b[0m\n",
       "\u001b[2m│\u001b[0m \u001b[1;36m-\u001b[0m\u001b[1;36m-root\u001b[0m\u001b[1;36m-path\u001b[0m        \u001b[1;33mTEXT\u001b[0m  \u001b[2m[default: .]\u001b[0m                                                                           \u001b[2m│\u001b[0m\n",
       "\u001b[2m│\u001b[0m \u001b[1;36m-\u001b[0m\u001b[1;36m-help\u001b[0m             \u001b[1;33m    \u001b[0m  Show this message and exit.                                                            \u001b[2m│\u001b[0m\n",
       "\u001b[2m╰─────────────────────────────────────────────────────────────────────────────────────────────────────────────────╯\u001b[0m\n"
      ]
     },
     "metadata": {},
     "output_type": "display_data"
    }
   ],
   "source": [
    "result = runner.invoke(_app, [\"new\", \"--help\"])\n"
   ]
  },
  {
   "cell_type": "code",
   "execution_count": null,
   "id": "228d2a6f",
   "metadata": {},
   "outputs": [],
   "source": [
    "result = runner.invoke(_app, [\"new\", \"--root-path=../setting.ini\"])\n"
   ]
  },
  {
   "cell_type": "code",
   "execution_count": null,
   "id": "c079e0bb",
   "metadata": {},
   "outputs": [],
   "source": [
    "# result = runner.invoke(_app, [\"prepare\", \"--root-path=../setting.ini\"])\n",
    "\n",
    "# assert result.exit_code == 1\n",
    "# assert result.output == 'Unexpected internal error :/\\n'\n"
   ]
  }
 ],
 "metadata": {
  "kernelspec": {
   "display_name": "Python 3 (ipykernel)",
   "language": "python",
   "name": "python3"
  }
 },
 "nbformat": 4,
 "nbformat_minor": 5
}
