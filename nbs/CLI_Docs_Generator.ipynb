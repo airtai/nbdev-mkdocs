{
 "cells": [
  {
   "cell_type": "code",
   "execution_count": null,
   "id": "9d0dcae3",
   "metadata": {},
   "outputs": [],
   "source": [
    "# | default_exp _components.cli_docs_generator"
   ]
  },
  {
   "cell_type": "code",
   "execution_count": null,
   "id": "6482301e",
   "metadata": {},
   "outputs": [],
   "source": [
    "# | export\n",
    "\n",
    "from typing import *\n",
    "\n",
    "from nbdev.quarto import nbdev_readme\n",
    "from nbdev.config import get_config\n",
    "from nbdev.doclinks import NbdevLookup\n",
    "\n",
    "from nbdev_mkdocs._helpers.doc_links_utils import fix_sym_links"
   ]
  },
  {
   "cell_type": "code",
   "execution_count": null,
   "id": "70fa0abe",
   "metadata": {},
   "outputs": [],
   "source": [
    "\n",
    "import shutil\n",
    "from pathlib import Path\n",
    "from unittest.mock import patch, MagicMock\n",
    "from contextlib import contextmanager\n",
    "from tempfile import TemporaryDirectory\n",
    "\n",
    "from fastcore.foundation import Config"
   ]
  },
  {
   "cell_type": "code",
   "execution_count": null,
   "id": "3ef2a96d",
   "metadata": {},
   "outputs": [
    {
     "name": "stdout",
     "output_type": "stream",
     "text": [
      "This is a link to a symbol [`prepare`](https://airtai.github.io/nbdev-mkdocs/mkdocs.html#prepare)\n"
     ]
    }
   ],
   "source": [
    "@contextmanager\n",
    "def mock_nbdev_readme(mock_contents, d):\n",
    "    with patch('__main__.nbdev_readme') as mock_nbdev_readme:\n",
    "        mock_nbdev_readme.__wrapped__ = MagicMock()\n",
    "        with open((Path(d) / \"README.md\"), \"w\", encoding=\"utf-8\") as f:\n",
    "            f.write(mock_contents)\n",
    "        yield\n",
    "        \n",
    "        \n",
    "\n",
    "_mock_nbdev_readme_return_value = \"\"\"This is a link to a symbol [`prepare`](https://airtai.github.io/nbdev-mkdocs/mkdocs.html#prepare)\"\"\"\n",
    "with TemporaryDirectory() as d:\n",
    "    with mock_nbdev_readme(_mock_nbdev_readme_return_value, d):\n",
    "        nbdev_readme.__wrapped__()\n",
    "        \n",
    "        with open((Path(d) / \"README.md\"), \"r\", encoding=\"utf-8\") as f:\n",
    "            contents = f.read()\n",
    "        \n",
    "        print(contents)\n",
    "        assert contents == _mock_nbdev_readme_return_value"
   ]
  },
  {
   "cell_type": "code",
   "execution_count": null,
   "id": "ac8da600",
   "metadata": {},
   "outputs": [
    {
     "name": "stdout",
     "output_type": "stream",
     "text": [
      "/tmp/tmpna2i1g2b\n"
     ]
    }
   ],
   "source": [
    "@contextmanager\n",
    "def mock_get_config(d, cfg):\n",
    "    with patch(\"__main__.get_config\") as mock_get_config:\n",
    "        mock_get_config.return_value = cfg\n",
    "        yield\n",
    "\n",
    "with TemporaryDirectory() as d:\n",
    "    _d = dict(\n",
    "        config_path=Path(d),\n",
    "        doc_host=\"https://airtai.github.io\",\n",
    "        lib_path=Path(d) / \"nbdev_mkdocs\",\n",
    "        doc_baseurl=\"/nbdev-mkdocs\",\n",
    "        docs_versioning=\"minor\",\n",
    "        version=\"0.7.0rc0\",\n",
    "        lib_name=\"nbdev-mkdocs\",\n",
    "    )\n",
    "\n",
    "    _types = dict(config_path=Path, doc_host=str, lib_path=Path, doc_baseurl=str, docs_versioning=str, version=str, lib_name=str)\n",
    "    cfg = Config(str(Path(d)), \"test_settings.ini\", create=_d, save=False, types=_types)\n",
    "    with mock_get_config(d, cfg):\n",
    "        cfg = get_config()\n",
    "\n",
    "        print(cfg.config_path)\n",
    "        assert cfg.config_path == Path(d)\n",
    "        assert cfg.doc_host == 'https://airtai.github.io'\n",
    "        assert cfg.lib_path.name == 'nbdev_mkdocs'"
   ]
  },
  {
   "cell_type": "code",
   "execution_count": null,
   "id": "dbfb735e",
   "metadata": {},
   "outputs": [],
   "source": [
    "# | export\n",
    "\n",
    "\n",
    "def update_readme() -> None:\n",
    "    \"\"\"Update the readme file and fix the symbol links\"\"\"\n",
    "    cfg = get_config()\n",
    "    readme_path = cfg.config_path / \"README.md\"\n",
    "    nbdev_readme.__wrapped__()\n",
    "\n",
    "    with open(readme_path, \"r\", encoding=\"utf-8\") as f:\n",
    "        contents = f.read()\n",
    "\n",
    "    contents = fix_sym_links(\n",
    "        s=contents,\n",
    "        nbdev_lookup=NbdevLookup(incl_libs=cfg.lib_name.replace(\"_\", \"-\")),\n",
    "        docs_versioning=cfg.get(\"docs_versioning\", \"\"),\n",
    "        lib_version=cfg.version,\n",
    "        use_relative_doc_links=False,\n",
    "        use_latest_doc_version=True,\n",
    "    )\n",
    "\n",
    "    with open(readme_path, \"w\", encoding=\"utf-8\") as f:\n",
    "        f.write(contents)"
   ]
  },
  {
   "cell_type": "code",
   "execution_count": null,
   "id": "d52f9415",
   "metadata": {},
   "outputs": [
    {
     "name": "stdout",
     "output_type": "stream",
     "text": [
      "This is a link to a symbol [`prepare`](https://airtai.github.io/nbdev-mkdocs/latest/api/nbdev_mkdocs/mkdocs/prepare/#nbdev_mkdocs.mkdocs.prepare)\n",
      "This is a link to a symbol [`prepare`](https://airtai.github.io/nbdev-mkdocs/latest/api/nbdev_mkdocs/mkdocs/prepare/#nbdev_mkdocs.mkdocs.prepare)\n",
      "This is a link to a symbol [`prepare`](https://airtai.github.io/nbdev-mkdocs/api/nbdev_mkdocs/mkdocs/prepare/#nbdev_mkdocs.mkdocs.prepare)\n",
      "This is a link to a symbol [`prepare`](https://airtai.github.io/nbdev-mkdocs/api/nbdev_mkdocs/mkdocs/prepare/#nbdev_mkdocs.mkdocs.prepare)\n"
     ]
    }
   ],
   "source": [
    "fixture = \"\"\"This is a link to a symbol [`prepare`](https://airtai.github.io/nbdev-mkdocs/mkdocs.html#prepare)\"\"\"\n",
    "expected = {\n",
    "    \"minor\": \"This is a link to a symbol [`prepare`](https://airtai.github.io/nbdev-mkdocs/latest/api/nbdev_mkdocs/mkdocs/prepare/#nbdev_mkdocs.mkdocs.prepare)\",\n",
    "    \"patch\": \"This is a link to a symbol [`prepare`](https://airtai.github.io/nbdev-mkdocs/latest/api/nbdev_mkdocs/mkdocs/prepare/#nbdev_mkdocs.mkdocs.prepare)\",\n",
    "    \"None\": \"This is a link to a symbol [`prepare`](https://airtai.github.io/nbdev-mkdocs/api/nbdev_mkdocs/mkdocs/prepare/#nbdev_mkdocs.mkdocs.prepare)\"\n",
    "}\n",
    "\n",
    "for docs_versioning in [\"minor\", \"patch\", \"None\", \"\"]:\n",
    "    with TemporaryDirectory() as d:\n",
    "        readme_path = Path(d) / \"README.md\"\n",
    "        _d = dict(\n",
    "            config_path=Path(d),\n",
    "            doc_host=\"https://airtai.github.io\",\n",
    "            lib_path=Path(d) / \"nbdev_mkdocs\",\n",
    "            doc_baseurl=\"/nbdev-mkdocs\",\n",
    "            docs_versioning=docs_versioning,\n",
    "            version=\"0.1.0\",\n",
    "            lib_name=\"nbdev-mkdocs\",\n",
    "        )\n",
    "\n",
    "        _types = dict(config_path=Path, doc_host=str, lib_path=Path, doc_baseurl=str, docs_versioning=str, version=str, lib_name=str)\n",
    "        cfg = Config(str(Path(d)), \"test_settings.ini\", create=_d, save=False, types=_types)\n",
    "        with mock_get_config(d, cfg):\n",
    "            with mock_nbdev_readme(fixture, d):\n",
    "                update_readme()\n",
    "\n",
    "            with open(readme_path, \"r\", encoding=\"utf-8\") as f:\n",
    "                actual = f.read()\n",
    "            print(actual)\n",
    "            if docs_versioning == \"\":\n",
    "                assert actual == expected[\"None\"]\n",
    "            else:\n",
    "                assert actual == expected[docs_versioning], f\"actual={actual}, expected={expected[doc_version]}\""
   ]
  },
  {
   "cell_type": "code",
   "execution_count": null,
   "id": "5fb1f459",
   "metadata": {},
   "outputs": [
    {
     "name": "stdout",
     "output_type": "stream",
     "text": [
      "This is a link to a symbol [`prepare`](https://airtai.github.io/nbdev-mkdocs/api/nbdev_mkdocs/mkdocs/prepare/#nbdev_mkdocs.mkdocs.prepare)\n"
     ]
    }
   ],
   "source": [
    "fixture = \"\"\"This is a link to a symbol [`prepare`](https://airtai.github.io/nbdev-mkdocs/mkdocs.html#prepare)\"\"\"\n",
    "expected = \"This is a link to a symbol [`prepare`](https://airtai.github.io/nbdev-mkdocs/api/nbdev_mkdocs/mkdocs/prepare/#nbdev_mkdocs.mkdocs.prepare)\"\n",
    "\n",
    "with TemporaryDirectory() as d:\n",
    "    readme_path = Path(d) / \"README.md\"\n",
    "    _d = dict(\n",
    "        config_path=Path(d),\n",
    "        doc_host=\"https://airtai.github.io\",\n",
    "        lib_path=Path(d) / \"nbdev_mkdocs\",\n",
    "        doc_baseurl=\"/nbdev-mkdocs\",\n",
    "        version=\"0.1.0\",\n",
    "        lib_name=\"nbdev-mkdocs\",\n",
    "    )\n",
    "\n",
    "    _types = dict(config_path=Path, doc_host=str, lib_path=Path, doc_baseurl=str, version=str, lib_name=str)\n",
    "    cfg = Config(str(Path(d)), \"test_settings.ini\", create=_d, save=False, types=_types)\n",
    "    with mock_get_config(d, cfg):\n",
    "        with mock_nbdev_readme(fixture, d):\n",
    "            update_readme()\n",
    "\n",
    "        with open(readme_path, \"r\", encoding=\"utf-8\") as f:\n",
    "            actual = f.read()\n",
    "        print(actual)\n",
    "        assert actual == expected"
   ]
  }
 ],
 "metadata": {
  "kernelspec": {
   "display_name": "python3",
   "language": "python",
   "name": "python3"
  }
 },
 "nbformat": 4,
 "nbformat_minor": 5
}
