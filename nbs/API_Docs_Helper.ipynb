{
 "cells": [
  {
   "cell_type": "code",
   "execution_count": null,
   "id": "9f1b1a2e",
   "metadata": {},
   "outputs": [],
   "source": [
    "# | default_exp _helpers.api_docs_helper"
   ]
  },
  {
   "cell_type": "code",
   "execution_count": null,
   "id": "ef6a5c98",
   "metadata": {},
   "outputs": [],
   "source": [
    "# | export\n",
    "\n",
    "from typing import *\n",
    "import re\n",
    "import types\n",
    "from inspect import Signature, getmembers, isclass, isfunction, signature, getsource, getsourcefile\n",
    "import textwrap\n",
    "\n",
    "from griffe.dataclasses import Docstring\n",
    "from griffe.docstrings.parsers import Parser, parse\n",
    "from griffe.docstrings.dataclasses import (\n",
    "    DocstringSectionAdmonition,\n",
    "    DocstringSectionText,\n",
    "    DocstringSectionParameters,\n",
    "    DocstringSectionReturns,\n",
    "    DocstringSectionRaises,\n",
    "    DocstringSectionExamples,\n",
    "    DocstringSectionYields,\n",
    "    DocstringRaise,\n",
    "    DocstringParameter\n",
    ")\n",
    "\n",
    "from nbdev.config import get_config"
   ]
  },
  {
   "cell_type": "code",
   "execution_count": null,
   "id": "33b3ea2b",
   "metadata": {},
   "outputs": [],
   "source": [
    "from tempfile import TemporaryDirectory\n",
    "import unittest.mock\n",
    "from contextlib import contextmanager\n",
    "\n",
    "from nbdev_mkdocs.mkdocs import prepare"
   ]
  },
  {
   "cell_type": "code",
   "execution_count": null,
   "id": "c8ba9206",
   "metadata": {},
   "outputs": [],
   "source": [
    "# | export\n",
    "\n",
    "\n",
    "def _convert_union_to_optional(annotation_str: str) -> str:\n",
    "    \"\"\"Convert the 'Union[Type1, Type2, ..., NoneType]' to 'Optional[Type1, Type2, ...]' in the given annotation string\n",
    "\n",
    "    Args:\n",
    "        annotation_str: The type annotation string to convert.\n",
    "\n",
    "    Returns:\n",
    "        The converted type annotation string.\n",
    "    \"\"\"\n",
    "    pattern = r\"Union\\[(.*)?,\\s*NoneType\\s*\\]\"\n",
    "    match = re.search(pattern, annotation_str)\n",
    "    if match:\n",
    "        union_type = match.group(1)\n",
    "        optional_type = f\"Optional[{union_type}]\"\n",
    "        return re.sub(pattern, optional_type, annotation_str)\n",
    "    else:\n",
    "        return annotation_str"
   ]
  },
  {
   "cell_type": "code",
   "execution_count": null,
   "id": "6d2be28c",
   "metadata": {},
   "outputs": [
    {
     "name": "stdout",
     "output_type": "stream",
     "text": [
      "arg_1: Optional[int] = 80\n",
      "arg_1: Optional[Dict[str, str]]\n",
      "arg_1: Union[Dict[str, str], str]\n",
      "arg_1: str\n",
      "arg_1: bool = False\n",
      "prefix: str = 'to_'\n"
     ]
    }
   ],
   "source": [
    "fixtures = [\n",
    "    {\n",
    "        \"input\": \"arg_1: Union[int, NoneType] = 80\",\n",
    "        \"expected\": \"arg_1: Optional[int] = 80\",\n",
    "    },\n",
    "    {\n",
    "        \"input\": \"arg_1: Union[Dict[str, str], NoneType]\",\n",
    "        \"expected\": \"arg_1: Optional[Dict[str, str]]\",\n",
    "    },\n",
    "    {\n",
    "        \"input\": \"arg_1: Union[Dict[str, str], str]\",\n",
    "        \"expected\": \"arg_1: Union[Dict[str, str], str]\",\n",
    "    },\n",
    "    {\n",
    "        \"input\": \"arg_1: str\",\n",
    "        \"expected\": \"arg_1: str\",\n",
    "    },\n",
    "    {\n",
    "        \"input\": \"arg_1: bool = False\",\n",
    "        \"expected\": \"arg_1: bool = False\",\n",
    "    },\n",
    "    {\n",
    "        \"input\": \"prefix: str = 'to_'\",\n",
    "        \"expected\": \"prefix: str = 'to_'\",\n",
    "    },\n",
    "]\n",
    "\n",
    "for fixture in fixtures:\n",
    "    actual = _convert_union_to_optional(fixture[\"input\"])\n",
    "    print(actual)\n",
    "    assert actual == fixture[\"expected\"]"
   ]
  },
  {
   "cell_type": "code",
   "execution_count": null,
   "id": "cc163ff3",
   "metadata": {},
   "outputs": [],
   "source": [
    "# | export\n",
    "\n",
    "\n",
    "def _get_arg_list_with_signature(_signature: Signature, return_as_list: bool = False) -> Union[str, List[str]]:\n",
    "    \"\"\"Converts a function's signature into a string representation of its argument list.\n",
    "\n",
    "    Args:\n",
    "        _signature (signature): The signature object for the function to convert.\n",
    "\n",
    "    Returns:\n",
    "        str: A string representation of the function's argument list.\n",
    "    \"\"\"\n",
    "    arg_list = []\n",
    "    for param in _signature.parameters.values():\n",
    "        arg_list.append(_convert_union_to_optional(str(param)))\n",
    "\n",
    "    return arg_list if return_as_list else \", \".join(arg_list)"
   ]
  },
  {
   "cell_type": "code",
   "execution_count": null,
   "id": "5c2a554d",
   "metadata": {},
   "outputs": [
    {
     "name": "stdout",
     "output_type": "stream",
     "text": [
      "arg_1: str, arg_2, arg_3: Union[Dict[str, str], str], arg_4: Optional[int] = 80\n"
     ]
    }
   ],
   "source": [
    "def fixture_function(\n",
    "    arg_1: str, arg_2, arg_3: Union[Dict[str, str], str], arg_4: Optional[int] = 80\n",
    ") -> str:\n",
    "    pass\n",
    "\n",
    "\n",
    "_signature = signature(fixture_function)\n",
    "\n",
    "expected = (\n",
    "    \"arg_1: str, arg_2, arg_3: Union[Dict[str, str], str], arg_4: Optional[int] = 80\"\n",
    ")\n",
    "actual = _get_arg_list_with_signature(_signature)\n",
    "\n",
    "print(actual)\n",
    "assert actual == expected"
   ]
  },
  {
   "cell_type": "code",
   "execution_count": null,
   "id": "6ef17be5",
   "metadata": {},
   "outputs": [
    {
     "name": "stdout",
     "output_type": "stream",
     "text": [
      "['arg_1: str', 'arg_2', 'arg_3: Union[Dict[str, str], str]', 'arg_4: Optional[int] = 80']\n"
     ]
    }
   ],
   "source": [
    "def fixture_function(\n",
    "    arg_1: str, arg_2, arg_3: Union[Dict[str, str], str], arg_4: Optional[int] = 80\n",
    ") -> str:\n",
    "    pass\n",
    "\n",
    "\n",
    "_signature = signature(fixture_function)\n",
    "\n",
    "expected = [\n",
    "    \"arg_1: str\",\n",
    "    \"arg_2\",\n",
    "    \"arg_3: Union[Dict[str, str], str]\",\n",
    "    \"arg_4: Optional[int] = 80\",\n",
    "]\n",
    "actual = _get_arg_list_with_signature(_signature, True)\n",
    "\n",
    "print(actual)\n",
    "assert actual == expected"
   ]
  },
  {
   "cell_type": "code",
   "execution_count": null,
   "id": "3dd21125",
   "metadata": {},
   "outputs": [
    {
     "name": "stdout",
     "output_type": "stream",
     "text": [
      "arg_1: str, arg_2\n"
     ]
    }
   ],
   "source": [
    "def fixture_function(arg_1: str, arg_2) -> None:\n",
    "    pass\n",
    "\n",
    "\n",
    "_signature = signature(fixture_function)\n",
    "\n",
    "expected = \"arg_1: str, arg_2\"\n",
    "actual = _get_arg_list_with_signature(_signature)\n",
    "\n",
    "print(actual)\n",
    "assert actual == expected"
   ]
  },
  {
   "cell_type": "code",
   "execution_count": null,
   "id": "f7c08bae",
   "metadata": {},
   "outputs": [],
   "source": [
    "# | export\n",
    "\n",
    "def _get_return_annotation(sig: Signature, symbol_definition: str) -> str:\n",
    "    if sig.return_annotation and \"inspect._empty\" not in str(\n",
    "        sig.return_annotation\n",
    "    ):\n",
    "        if isinstance(sig.return_annotation, type):\n",
    "            symbol_definition = symbol_definition + f\" -> {sig.return_annotation.__name__}\\n\"\n",
    "        else:\n",
    "            symbol_definition = symbol_definition + f\" -> {sig.return_annotation}\\n\"\n",
    "            symbol_definition = symbol_definition.replace(\"typing.\", \"\")\n",
    "\n",
    "    else:\n",
    "        symbol_definition = symbol_definition + \" -> None\\n\"\n",
    "    return symbol_definition"
   ]
  },
  {
   "cell_type": "code",
   "execution_count": null,
   "id": "9f01080a",
   "metadata": {},
   "outputs": [
    {
     "name": "stdout",
     "output_type": "stream",
     "text": [
      " -> str\n",
      "\n"
     ]
    }
   ],
   "source": [
    "def fixture_function() -> str:\n",
    "    pass\n",
    "\n",
    "sig = signature(fixture_function)\n",
    "symbol_definition = \"\"\n",
    "actual = _get_return_annotation(sig, symbol_definition)\n",
    "expected = \" -> str\\n\"\n",
    "print(actual)\n",
    "\n",
    "assert actual == expected"
   ]
  },
  {
   "cell_type": "code",
   "execution_count": null,
   "id": "d86abba9",
   "metadata": {},
   "outputs": [
    {
     "name": "stdout",
     "output_type": "stream",
     "text": [
      " -> List[str]\n",
      "\n"
     ]
    }
   ],
   "source": [
    "def fixture_function() -> List[str]:\n",
    "    pass\n",
    "\n",
    "sig = signature(fixture_function)\n",
    "symbol_definition = \"\"\n",
    "actual = _get_return_annotation(sig, symbol_definition)\n",
    "expected = \" -> List[str]\\n\"\n",
    "print(actual)\n",
    "\n",
    "assert actual == expected"
   ]
  },
  {
   "cell_type": "code",
   "execution_count": null,
   "id": "32cccbbb",
   "metadata": {},
   "outputs": [],
   "source": [
    "# | export\n",
    "\n",
    "\n",
    "def _get_symbol_definition(symbol: Union[types.FunctionType, Type[Any]]) -> str:\n",
    "    \"\"\"Return the definition of a given symbol.\n",
    "\n",
    "    Args:\n",
    "        symbol: A function or method object to get the definition for.\n",
    "\n",
    "    Returns:\n",
    "        A string representing the function definition\n",
    "    \"\"\"\n",
    "    _signature = signature(symbol)\n",
    "    arg_list = _get_arg_list_with_signature(_signature)\n",
    "    ret_val = \"\"\n",
    "\n",
    "    if isfunction(symbol):\n",
    "        ret_val = f\"### `{symbol.__name__}`\\n\\n\"\n",
    "        ret_val = ret_val + f\"`def {symbol.__name__}({arg_list})\"\n",
    "        ret_val = _get_return_annotation(_signature, ret_val) + \"`\"\n",
    "        \n",
    "    return ret_val"
   ]
  },
  {
   "cell_type": "code",
   "execution_count": null,
   "id": "2d2d9fe4",
   "metadata": {},
   "outputs": [
    {
     "name": "stdout",
     "output_type": "stream",
     "text": [
      "### `fixture_function`\n",
      "\n",
      "`def fixture_function(arg_1: str, arg_2) -> None\n",
      "`\n"
     ]
    }
   ],
   "source": [
    "def fixture_function(arg_1: str, arg_2) -> None:\n",
    "    pass\n",
    "\n",
    "\n",
    "actual = _get_symbol_definition(fixture_function)\n",
    "expected = \"\"\"### `fixture_function`\n",
    "\n",
    "`def fixture_function(arg_1: str, arg_2) -> None\n",
    "`\"\"\"\n",
    "\n",
    "print(actual)\n",
    "assert actual == expected"
   ]
  },
  {
   "cell_type": "code",
   "execution_count": null,
   "id": "a0dda2c1",
   "metadata": {},
   "outputs": [
    {
     "name": "stdout",
     "output_type": "stream",
     "text": [
      "### `fixture_function`\n",
      "\n",
      "`def fixture_function(arg_1: str, arg_2) -> int\n",
      "`\n"
     ]
    }
   ],
   "source": [
    "def fixture_function(arg_1: str, arg_2) -> int:\n",
    "    pass\n",
    "\n",
    "\n",
    "actual = _get_symbol_definition(fixture_function)\n",
    "expected = \"\"\"### `fixture_function`\n",
    "\n",
    "`def fixture_function(arg_1: str, arg_2) -> int\n",
    "`\"\"\"\n",
    "\n",
    "print(actual)\n",
    "assert actual == expected"
   ]
  },
  {
   "cell_type": "code",
   "execution_count": null,
   "id": "849dcc9c",
   "metadata": {},
   "outputs": [
    {
     "name": "stdout",
     "output_type": "stream",
     "text": [
      "### `fixture_function`\n",
      "\n",
      "`def fixture_function(arg_1: str, arg_2) -> Tester\n",
      "`\n"
     ]
    }
   ],
   "source": [
    "def fixture_function(arg_1: str, arg_2) -> \"Tester\":\n",
    "    pass\n",
    "\n",
    "\n",
    "actual = _get_symbol_definition(fixture_function)\n",
    "expected = \"\"\"### `fixture_function`\n",
    "\n",
    "`def fixture_function(arg_1: str, arg_2) -> Tester\n",
    "`\"\"\"\n",
    "\n",
    "print(actual)\n",
    "assert actual == expected\n",
    "     "
   ]
  },
  {
   "cell_type": "code",
   "execution_count": null,
   "id": "a7116ab4",
   "metadata": {},
   "outputs": [
    {
     "name": "stdout",
     "output_type": "stream",
     "text": [
      "### `__fixture_function__`\n",
      "\n",
      "`def __fixture_function__(arg_1: str, arg_2) -> Tester\n",
      "`\n"
     ]
    }
   ],
   "source": [
    "def __fixture_function__(arg_1: str, arg_2) -> \"Tester\":\n",
    "    pass\n",
    "\n",
    "\n",
    "actual = _get_symbol_definition(__fixture_function__)\n",
    "expected = \"\"\"### `__fixture_function__`\n",
    "\n",
    "`def __fixture_function__(arg_1: str, arg_2) -> Tester\n",
    "`\"\"\"\n",
    "\n",
    "print(actual)\n",
    "assert actual == expected\n",
    "     "
   ]
  },
  {
   "cell_type": "code",
   "execution_count": null,
   "id": "69dc4520",
   "metadata": {},
   "outputs": [
    {
     "name": "stdout",
     "output_type": "stream",
     "text": [
      "### `fixture_function`\n",
      "\n",
      "`def fixture_function(arg_1: int, arg_2: str = 'default_string', arg_3: Dict[str, int] = {}, arg_4: Optional[float] = None, arg_5: Tuple[int, str, float] = (1, 'string', 2.0), arg_6: List[Union[int, str]] = [1, 'string'], arg_7: Set[int] = {1, 2, 3}, arg_8: Union[int, str] = 'string') -> None\n",
      "`\n"
     ]
    }
   ],
   "source": [
    "def fixture_function(\n",
    "    arg_1: int,\n",
    "    arg_2: str = \"default_string\",\n",
    "    arg_3: Dict[str, int] = {},\n",
    "    arg_4: Optional[float] = None,\n",
    "    arg_5: Tuple[int, str, float] = (1, \"string\", 2.0),\n",
    "    arg_6: List[Union[int, str]] = [1, \"string\"],\n",
    "    arg_7: Set[int] = {1, 2, 3},\n",
    "    arg_8: Union[int, str] = \"string\",\n",
    ") -> None:\n",
    "    pass\n",
    "\n",
    "\n",
    "actual = _get_symbol_definition(fixture_function)\n",
    "expected = \"\"\"### `fixture_function`\n",
    "\n",
    "`def fixture_function(arg_1: int, arg_2: str = 'default_string', arg_3: Dict[str, int] = {}, arg_4: Optional[float] = None, arg_5: Tuple[int, str, float] = (1, 'string', 2.0), arg_6: List[Union[int, str]] = [1, 'string'], arg_7: Set[int] = {1, 2, 3}, arg_8: Union[int, str] = 'string') -> None\n",
    "`\"\"\"\n",
    "\n",
    "print(actual)\n",
    "assert actual == expected"
   ]
  },
  {
   "cell_type": "code",
   "execution_count": null,
   "id": "5056b3ea",
   "metadata": {},
   "outputs": [],
   "source": [
    "# | export\n",
    "\n",
    "def _format_raises_section(\n",
    "    section_dict: Dict[str, Union[str, List[DocstringRaise]]]\n",
    ") -> str:\n",
    "    ret_val = \"\"\"| Type | Description |\n",
    "| --- | --- |\n",
    "\"\"\"\n",
    "\n",
    "    ret_val += \"\\n\".join(\n",
    "        [\n",
    "            f\"| `{v.as_dict()['annotation']}` | {v.as_dict()['description']} |\" # type: ignore\n",
    "            for v in section_dict[\"value\"]\n",
    "        ]\n",
    "    )\n",
    "    \n",
    "    return ret_val"
   ]
  },
  {
   "cell_type": "code",
   "execution_count": null,
   "id": "9c55c652",
   "metadata": {},
   "outputs": [
    {
     "name": "stderr",
     "output_type": "stream",
     "text": [
      "Failed to parse annotation from 'Name' node: 'NoneType' object has no attribute 'resolve'\n",
      "Failed to parse annotation from 'Name' node: 'NoneType' object has no attribute 'resolve'\n"
     ]
    },
    {
     "name": "stdout",
     "output_type": "stream",
     "text": [
      "| Type | Description |\n",
      "| --- | --- |\n",
      "| `ValueError` | If the object has no docstring |\n",
      "| `HTTPError` | If the object has no docstring |\n"
     ]
    }
   ],
   "source": [
    "def fixture_function():\n",
    "    \"\"\"Test funcion\n",
    "    \n",
    "    Raises:\n",
    "        ValueError: If the object has no docstring\n",
    "        HTTPError: If the object has no docstring\n",
    "    \"\"\"\n",
    "    pass\n",
    "\n",
    "docstring = Docstring(fixture_function.__doc__)\n",
    "section_items = parse(docstring, Parser.google)\n",
    "item_dict = section_items[1].as_dict()\n",
    "\n",
    "actual = _format_raises_section(item_dict)\n",
    "expected = \"\"\"| Type | Description |\n",
    "| --- | --- |\n",
    "| `ValueError` | If the object has no docstring |\n",
    "| `HTTPError` | If the object has no docstring |\"\"\"\n",
    "\n",
    "print(actual)\n",
    "assert actual == expected"
   ]
  },
  {
   "cell_type": "code",
   "execution_count": null,
   "id": "07edc317",
   "metadata": {},
   "outputs": [],
   "source": [
    "# | export\n",
    "\n",
    "def _format_return_section(\n",
    "    section_dict: Dict[str, Union[str, List[DocstringRaise]]],\n",
    "    symbol: Union[types.FunctionType, Type[Any]]\n",
    ") -> str:\n",
    "    ret_val = \"\"\"| Type | Description |\n",
    "| --- | --- |\n",
    "\"\"\"\n",
    "    sig = signature(symbol)\n",
    "    return_type = \"`\" + _get_return_annotation(sig, \"\").replace(\"->\", \"\").replace(\"\\n\", \"\").strip() + \"`\"\n",
    "\n",
    "    ret_val += \"\\n\".join(\n",
    "        [\n",
    "            f\"| {return_type} | {v.as_dict()['description']} |\" # type: ignore\n",
    "            for v in section_dict[\"value\"]\n",
    "        ]\n",
    "    )\n",
    "    \n",
    "    return ret_val"
   ]
  },
  {
   "cell_type": "code",
   "execution_count": null,
   "id": "bad88410",
   "metadata": {},
   "outputs": [
    {
     "name": "stderr",
     "output_type": "stream",
     "text": [
      "Failed to parse annotation from 'Name' node: 'NoneType' object has no attribute 'resolve'\n",
      "Failed to parse annotation from 'Name' node: 'NoneType' object has no attribute 'resolve'\n",
      "<module>:7: No type or annotation for returned value 1\n"
     ]
    },
    {
     "name": "stdout",
     "output_type": "stream",
     "text": [
      "| Type | Description |\n",
      "| --- | --- |\n",
      "| `str` | A string |\n"
     ]
    }
   ],
   "source": [
    "def fixture_function() -> str:\n",
    "    \"\"\"Test funcion\n",
    "    \n",
    "    Raises:\n",
    "        ValueError: If the object has no docstring\n",
    "        HTTPError: If the object has no docstring\n",
    "        \n",
    "    Returns:\n",
    "        A string\n",
    "    \"\"\"\n",
    "    pass\n",
    "\n",
    "docstring = Docstring(fixture_function.__doc__)\n",
    "section_items = parse(docstring, Parser.google)\n",
    "item_dict = section_items[2].as_dict()\n",
    "\n",
    "actual = _format_return_section(item_dict, fixture_function)\n",
    "expected = \"\"\"| Type | Description |\n",
    "| --- | --- |\n",
    "| `str` | A string |\"\"\"\n",
    "\n",
    "print(actual)\n",
    "assert actual == expected"
   ]
  },
  {
   "cell_type": "code",
   "execution_count": null,
   "id": "bec3aba7",
   "metadata": {},
   "outputs": [
    {
     "name": "stderr",
     "output_type": "stream",
     "text": [
      "Failed to parse annotation from 'Name' node: 'NoneType' object has no attribute 'resolve'\n",
      "Failed to parse annotation from 'Name' node: 'NoneType' object has no attribute 'resolve'\n",
      "<module>:7: No type or annotation for yielded value 1\n"
     ]
    },
    {
     "name": "stdout",
     "output_type": "stream",
     "text": [
      "| Type | Description |\n",
      "| --- | --- |\n",
      "| `List[str]` | A list of strings |\n"
     ]
    }
   ],
   "source": [
    "def fixture_function() -> List[str]:\n",
    "    \"\"\"Test funcion\n",
    "    \n",
    "    Raises:\n",
    "        ValueError: If the object has no docstring\n",
    "        HTTPError: If the object has no docstring\n",
    "        \n",
    "    Yields:\n",
    "        A list of strings\n",
    "    \"\"\"\n",
    "    pass\n",
    "\n",
    "docstring = Docstring(fixture_function.__doc__)\n",
    "section_items = parse(docstring, Parser.google)\n",
    "item_dict = section_items[2].as_dict()\n",
    "\n",
    "actual = _format_return_section(item_dict, fixture_function)\n",
    "expected = \"\"\"| Type | Description |\n",
    "| --- | --- |\n",
    "| `List[str]` | A list of strings |\"\"\"\n",
    "\n",
    "print(actual)\n",
    "assert actual == expected\n"
   ]
  },
  {
   "cell_type": "code",
   "execution_count": null,
   "id": "cb8abf9a",
   "metadata": {},
   "outputs": [],
   "source": [
    "# | export\n",
    "\n",
    "\n",
    "def _get_default_value(default_value: List[str], param_name: str) -> str:\n",
    "    if param_name == \"**kwargs\":\n",
    "        return \"`{}`\"\n",
    "    return \"`required`\" if len(default_value) == 0 else f\"`{default_value[0].strip()}`\"\n",
    "\n",
    "\n",
    "def _format_params_annotations(\n",
    "    params_annotation_list: List[str],\n",
    ") -> Dict[str, Dict[str, str]]:\n",
    "    ret_val = {}\n",
    "    for param in params_annotation_list:\n",
    "        if param == \"self\":\n",
    "            continue\n",
    "        param_name, annotation_with_default_value = param.split(\":\")\n",
    "        annotation, *default_value = annotation_with_default_value.split(\"=\")\n",
    "        ret_val[param_name.strip()] = {\n",
    "            \"annotation\": f\"`{annotation.strip()}`\",\n",
    "            \"default\": _get_default_value(default_value, param_name),\n",
    "        }\n",
    "    return ret_val"
   ]
  },
  {
   "cell_type": "code",
   "execution_count": null,
   "id": "715b27a1",
   "metadata": {},
   "outputs": [
    {
     "name": "stdout",
     "output_type": "stream",
     "text": [
      "{'brand': {'annotation': '`str`', 'default': '`required`'}, 'model': {'annotation': '`str`', 'default': '`required`'}, 'type': {'annotation': '`str`', 'default': '`required`'}}\n"
     ]
    }
   ],
   "source": [
    "fixture = ['self', 'brand: str', 'model: str', 'type: str']\n",
    "expected = {\n",
    "    \"brand\": {\n",
    "        \"annotation\": \"`str`\",\n",
    "        \"default\": \"`required`\"\n",
    "    },\n",
    "    \"model\": {\n",
    "        \"annotation\": \"`str`\",\n",
    "        \"default\": \"`required`\"\n",
    "    },\n",
    "    \"type\": {\n",
    "        \"annotation\": \"`str`\",\n",
    "        \"default\": \"`required`\"\n",
    "    }\n",
    "}\n",
    "\n",
    "actual = _format_params_annotations(fixture)\n",
    "print(actual)\n",
    "assert actual == expected\n"
   ]
  },
  {
   "cell_type": "code",
   "execution_count": null,
   "id": "3ac26184",
   "metadata": {},
   "outputs": [
    {
     "name": "stdout",
     "output_type": "stream",
     "text": [
      "{'o': {'annotation': '`Any`', 'default': '`required`'}, 'supress_stdout': {'annotation': '`bool`', 'default': '`False`'}, 'supress_stderr': {'annotation': '`bool`', 'default': '`False`'}, 'sub_dict': {'annotation': '`Optional[Dict[str, str]]`', 'default': '`None`'}, 'width': {'annotation': '`Optional[int]`', 'default': '`80`'}, '**kwargs': {'annotation': '`str`', 'default': '`{}`'}}\n"
     ]
    }
   ],
   "source": [
    "fixture = [\"o: Any\", \"supress_stdout: bool = False\", \"supress_stderr: bool = False\", \"sub_dict: Optional[Dict[str, str]] = None\", \"width: Optional[int] = 80\", \"**kwargs: str\"]\n",
    "expected = {\n",
    "    \"o\": {\n",
    "        \"annotation\": \"`Any`\",\n",
    "        \"default\": \"`required`\"\n",
    "    },\n",
    "    \"supress_stdout\": {\n",
    "        \"annotation\": \"`bool`\",\n",
    "        \"default\": \"`False`\"\n",
    "    },\n",
    "    \"supress_stderr\": {\n",
    "        \"annotation\": \"`bool`\",\n",
    "        \"default\": \"`False`\"\n",
    "    },\n",
    "    \"sub_dict\": {\n",
    "        \"annotation\": \"`Optional[Dict[str, str]]`\",\n",
    "        \"default\": \"`None`\"\n",
    "    },\n",
    "    \"width\": {\n",
    "        \"annotation\": \"`Optional[int]`\",\n",
    "        \"default\": \"`80`\"\n",
    "    },\n",
    "    \"**kwargs\": {\n",
    "        \"annotation\": \"`str`\",\n",
    "        \"default\": \"`{}`\"\n",
    "    }\n",
    "}\n",
    "\n",
    "actual = _format_params_annotations(fixture)\n",
    "print(actual)\n",
    "assert actual == expected\n"
   ]
  },
  {
   "cell_type": "code",
   "execution_count": null,
   "id": "dd34e35f",
   "metadata": {},
   "outputs": [
    {
     "name": "stdout",
     "output_type": "stream",
     "text": [
      "{'param_1': {'annotation': '`str`', 'default': '`required`'}, 'param_2': {'annotation': '`int`', 'default': '`required`'}, 'param_3': {'annotation': '`bool`', 'default': '`True`'}, 'param_4': {'annotation': '`Optional[str]`', 'default': '`None`'}}\n"
     ]
    }
   ],
   "source": [
    "fixture = [\"param_1: str\", \"param_2: int\", \"param_3: bool = True\", \"param_4: Optional[str] = None\"]\n",
    "expected = {\n",
    "    \"param_1\": {\n",
    "        \"annotation\": \"`str`\",\n",
    "        \"default\": \"`required`\"\n",
    "    },\n",
    "    \"param_2\": {\n",
    "        \"annotation\": \"`int`\",\n",
    "        \"default\": \"`required`\"\n",
    "    },\n",
    "    \"param_3\": {\n",
    "        \"annotation\": \"`bool`\",\n",
    "        \"default\": \"`True`\"\n",
    "    },\n",
    "    \"param_4\": {\n",
    "        \"annotation\": \"`Optional[str]`\",\n",
    "        \"default\": \"`None`\"\n",
    "    }\n",
    "}\n",
    "\n",
    "actual = _format_params_annotations(fixture)\n",
    "print(actual)\n",
    "assert actual == expected"
   ]
  },
  {
   "cell_type": "code",
   "execution_count": null,
   "id": "35a8ea22",
   "metadata": {},
   "outputs": [],
   "source": [
    "# | export\n",
    "\n",
    "\n",
    "def _format_param(\n",
    "    param: DocstringParameter, param_annotations_dict: Dict[str, Dict[str, str]]\n",
    ") -> str:\n",
    "    param_dict = param.as_dict()\n",
    "    nl = \"\\n\"\n",
    "    if param_dict['name'] in param_annotations_dict:\n",
    "        ret_val =  f\"| `{param_dict['name']}` | {param_annotations_dict[param_dict['name']]['annotation']} | {param_dict['description'].replace(nl, ' ')} | {param_annotations_dict[param_dict['name']]['default']} |\" \n",
    "    else:\n",
    "        ret_val =  f\"| `{param_dict['name']}` |  | {param_dict['description'].replace(nl, ' ')} |  |\"\n",
    "        \n",
    "    return ret_val"
   ]
  },
  {
   "cell_type": "code",
   "execution_count": null,
   "id": "4e442453",
   "metadata": {},
   "outputs": [
    {
     "name": "stderr",
     "output_type": "stream",
     "text": [
      "<module>:3: No type or annotation for parameter 'param_1'\n",
      "<module>:4: No type or annotation for parameter 'param_2'\n",
      "<module>:5: No type or annotation for parameter 'param_3'\n",
      "<module>:6: No type or annotation for parameter 'param_4'\n",
      "Failed to parse annotation from 'Name' node: 'NoneType' object has no attribute 'resolve'\n",
      "Failed to parse annotation from 'Name' node: 'NoneType' object has no attribute 'resolve'\n",
      "<module>:13: No type or annotation for yielded value 1\n"
     ]
    },
    {
     "name": "stdout",
     "output_type": "stream",
     "text": [
      "| `param_1` | `str` | string | `required` |\n",
      "| `param_2` | `int` | int | `required` |\n",
      "| `param_3` | `bool` | boolean | `True` |\n",
      "| `param_4` |  | optional string |  |\n"
     ]
    }
   ],
   "source": [
    "def fixture_function(param_1: str, param_2: int, param_3: bool = True) -> List[str]:\n",
    "    \"\"\"Test funcion\n",
    "    \n",
    "    Args:\n",
    "        param_1: string\n",
    "        param_2: int\n",
    "        param_3: boolean\n",
    "        param_4: optional string\n",
    "    \n",
    "    Raises:\n",
    "        ValueError: If the object has no docstring\n",
    "        HTTPError: If the object has no docstring\n",
    "        \n",
    "    Yields:\n",
    "        A list of strings\n",
    "    \"\"\"\n",
    "    pass\n",
    "\n",
    "sig = signature(fixture_function)\n",
    "param_annotations_str = _get_arg_list_with_signature(sig, True)\n",
    "param_annotations_dict = _format_params_annotations(param_annotations_str)\n",
    "    \n",
    "docstring = Docstring(fixture_function.__doc__)\n",
    "section_items = parse(docstring, Parser.google)\n",
    "item_dict = section_items[1].as_dict()\n",
    "actual = []\n",
    "expected = [\"| `param_1` | `str` | string | `required` |\",\n",
    "\"| `param_2` | `int` | int | `required` |\",\n",
    "\"| `param_3` | `bool` | boolean | `True` |\",\n",
    "\"| `param_4` |  | optional string |  |\"]\n",
    "\n",
    "for v in item_dict[\"value\"]:\n",
    "    actual.append(_format_param(v, param_annotations_dict))\n",
    "\n",
    "print(\"\\n\".join(actual))\n",
    "assert actual == expected"
   ]
  },
  {
   "cell_type": "code",
   "execution_count": null,
   "id": "8b75fcdf",
   "metadata": {},
   "outputs": [
    {
     "name": "stderr",
     "output_type": "stream",
     "text": [
      "<module>:3: No type or annotation for parameter 'param_1'\n",
      "<module>:4: No type or annotation for parameter 'param_2'\n",
      "<module>:5: No type or annotation for parameter 'param_3'\n",
      "<module>:6: No type or annotation for parameter 'param_4'\n",
      "Failed to parse annotation from 'Name' node: 'NoneType' object has no attribute 'resolve'\n",
      "Failed to parse annotation from 'Name' node: 'NoneType' object has no attribute 'resolve'\n",
      "<module>:14: No type or annotation for yielded value 1\n"
     ]
    },
    {
     "name": "stdout",
     "output_type": "stream",
     "text": [
      "| `param_1` | `str` | string | `required` |\n",
      "| `param_2` | `int` | int | `required` |\n",
      "| `param_3` | `bool` | boolean | `True` |\n",
      "| `param_4` | `Optional[str]` | optional string new line | `None` |\n"
     ]
    }
   ],
   "source": [
    "def fixture_function(param_1: str, param_2: int, param_3: bool = True, param_4: Optional[str] = None) -> List[str]:\n",
    "    \"\"\"Test funcion\n",
    "    \n",
    "    Args:\n",
    "        param_1: string\n",
    "        param_2: int\n",
    "        param_3: boolean\n",
    "        param_4: optional string\n",
    "            new line\n",
    "    \n",
    "    Raises:\n",
    "        ValueError: If the object has no docstring\n",
    "        HTTPError: If the object has no docstring\n",
    "        \n",
    "    Yields:\n",
    "        A list of strings\n",
    "    \"\"\"\n",
    "    pass\n",
    "\n",
    "sig = signature(fixture_function)\n",
    "param_annotations_str = _get_arg_list_with_signature(sig, True)\n",
    "param_annotations_dict = _format_params_annotations(param_annotations_str)\n",
    "    \n",
    "docstring = Docstring(fixture_function.__doc__)\n",
    "section_items = parse(docstring, Parser.google)\n",
    "item_dict = section_items[1].as_dict()\n",
    "actual = []\n",
    "expected = [\"| `param_1` | `str` | string | `required` |\",\n",
    "\"| `param_2` | `int` | int | `required` |\",\n",
    "\"| `param_3` | `bool` | boolean | `True` |\",\n",
    "\"| `param_4` | `Optional[str]` | optional string new line | `None` |\"]\n",
    "\n",
    "for v in item_dict[\"value\"]:\n",
    "    actual.append(_format_param(v, param_annotations_dict))\n",
    "\n",
    "print(\"\\n\".join(actual))\n",
    "assert actual == expected"
   ]
  },
  {
   "cell_type": "code",
   "execution_count": null,
   "id": "89c5f071",
   "metadata": {},
   "outputs": [],
   "source": [
    "# | export\n",
    "\n",
    "\n",
    "def _format_parameters_section(\n",
    "    section_dict: Dict[str, Union[str, List[DocstringParameter]]],\n",
    "    symbol: Union[types.FunctionType, Type[Any]],\n",
    ") -> str:\n",
    "    ret_val = \"\"\"| Name | Type | Description | Default |\n",
    "| --- | --- | --- | --- |\n",
    "\"\"\"\n",
    "    sig = signature(symbol)\n",
    "    param_annotations_list = _get_arg_list_with_signature(sig, True)\n",
    "    formatted_param_annotations_dict = _format_params_annotations(\n",
    "        param_annotations_list # type: ignore\n",
    "    )\n",
    "    ret_val += \"\\n\".join(\n",
    "        [\n",
    "            _format_param(v, formatted_param_annotations_dict) # type: ignore\n",
    "            for v in section_dict[\"value\"]\n",
    "        ]\n",
    "    )\n",
    "\n",
    "    return ret_val"
   ]
  },
  {
   "cell_type": "code",
   "execution_count": null,
   "id": "bdce5f54",
   "metadata": {},
   "outputs": [
    {
     "name": "stderr",
     "output_type": "stream",
     "text": [
      "<module>:3: No type or annotation for parameter 'param_1'\n",
      "<module>:4: No type or annotation for parameter 'param_2'\n",
      "<module>:5: No type or annotation for parameter 'param_3'\n",
      "<module>:6: No type or annotation for parameter 'param_4'\n",
      "Failed to parse annotation from 'Name' node: 'NoneType' object has no attribute 'resolve'\n",
      "Failed to parse annotation from 'Name' node: 'NoneType' object has no attribute 'resolve'\n",
      "<module>:13: No type or annotation for yielded value 1\n"
     ]
    },
    {
     "name": "stdout",
     "output_type": "stream",
     "text": [
      "| Name | Type | Description | Default |\n",
      "| --- | --- | --- | --- |\n",
      "| `param_1` | `str` | string | `required` |\n",
      "| `param_2` | `int` | int | `required` |\n",
      "| `param_3` | `bool` | boolean | `True` |\n",
      "| `param_4` | `Optional[str]` | optional string | `None` |\n"
     ]
    }
   ],
   "source": [
    "def fixture_function(param_1: str, param_2: int, param_3: bool = True, param_4: Optional[str] = None) -> List[str]:\n",
    "    \"\"\"Test funcion\n",
    "    \n",
    "    Args:\n",
    "        param_1: string\n",
    "        param_2: int\n",
    "        param_3: boolean\n",
    "        param_4: optional string\n",
    "    \n",
    "    Raises:\n",
    "        ValueError: If the object has no docstring\n",
    "        HTTPError: If the object has no docstring\n",
    "        \n",
    "    Yields:\n",
    "        A list of strings\n",
    "    \"\"\"\n",
    "    pass\n",
    "\n",
    "docstring = Docstring(fixture_function.__doc__)\n",
    "section_items = parse(docstring, Parser.google)\n",
    "item_dict = section_items[1].as_dict()\n",
    "\n",
    "actual = _format_parameters_section(item_dict, fixture_function)\n",
    "expected = \"\"\"| Name | Type | Description | Default |\n",
    "| --- | --- | --- | --- |\n",
    "| `param_1` | `str` | string | `required` |\n",
    "| `param_2` | `int` | int | `required` |\n",
    "| `param_3` | `bool` | boolean | `True` |\n",
    "| `param_4` | `Optional[str]` | optional string | `None` |\"\"\"\n",
    "\n",
    "print(actual)\n",
    "assert actual == expected\n"
   ]
  },
  {
   "cell_type": "code",
   "execution_count": null,
   "id": "17b5090e",
   "metadata": {},
   "outputs": [
    {
     "name": "stderr",
     "output_type": "stream",
     "text": [
      "<module>:3: No type or annotation for parameter 'param_1'\n",
      "<module>:4: No type or annotation for parameter 'param_2'\n",
      "<module>:5: No type or annotation for parameter 'param_3'\n",
      "Failed to parse annotation from 'Name' node: 'NoneType' object has no attribute 'resolve'\n",
      "Failed to parse annotation from 'Name' node: 'NoneType' object has no attribute 'resolve'\n",
      "<module>:12: No type or annotation for yielded value 1\n"
     ]
    },
    {
     "name": "stdout",
     "output_type": "stream",
     "text": [
      "| Name | Type | Description | Default |\n",
      "| --- | --- | --- | --- |\n",
      "| `param_1` | `str` | string | `required` |\n",
      "| `param_2` | `int` | int | `required` |\n",
      "| `param_3` | `bool` | boolean | `True` |\n"
     ]
    }
   ],
   "source": [
    "def fixture_function(param_1: str, param_2: int, param_3: bool = True, param_4: Optional[str] = None) -> List[str]:\n",
    "    \"\"\"Test funcion\n",
    "    \n",
    "    Args:\n",
    "        param_1: string\n",
    "        param_2: int\n",
    "        param_3: boolean\n",
    "    \n",
    "    Raises:\n",
    "        ValueError: If the object has no docstring\n",
    "        HTTPError: If the object has no docstring\n",
    "        \n",
    "    Yields:\n",
    "        A list of strings\n",
    "    \"\"\"\n",
    "    pass\n",
    "\n",
    "docstring = Docstring(fixture_function.__doc__)\n",
    "section_items = parse(docstring, Parser.google)\n",
    "item_dict = section_items[1].as_dict()\n",
    "\n",
    "actual = _format_parameters_section(item_dict, fixture_function)\n",
    "expected = \"\"\"| Name | Type | Description | Default |\n",
    "| --- | --- | --- | --- |\n",
    "| `param_1` | `str` | string | `required` |\n",
    "| `param_2` | `int` | int | `required` |\n",
    "| `param_3` | `bool` | boolean | `True` |\"\"\"\n",
    "\n",
    "print(actual)\n",
    "assert actual == expected\n"
   ]
  },
  {
   "cell_type": "code",
   "execution_count": null,
   "id": "775f1fbc",
   "metadata": {},
   "outputs": [
    {
     "name": "stderr",
     "output_type": "stream",
     "text": [
      "<module>:3: No type or annotation for parameter 'param_1'\n",
      "<module>:4: No type or annotation for parameter 'param_2'\n",
      "<module>:5: No type or annotation for parameter 'param_3'\n",
      "Failed to parse annotation from 'Name' node: 'NoneType' object has no attribute 'resolve'\n",
      "Failed to parse annotation from 'Name' node: 'NoneType' object has no attribute 'resolve'\n",
      "<module>:12: No type or annotation for yielded value 1\n"
     ]
    },
    {
     "name": "stdout",
     "output_type": "stream",
     "text": [
      "| Name | Type | Description | Default |\n",
      "| --- | --- | --- | --- |\n",
      "| `param_1` | `str` | string | `required` |\n",
      "| `param_2` | `int` | int | `required` |\n",
      "| `param_3` |  | boolean |  |\n"
     ]
    }
   ],
   "source": [
    "def fixture_function(param_1: str, param_2: int) -> List[str]:\n",
    "    \"\"\"Test funcion\n",
    "    \n",
    "    Args:\n",
    "        param_1: string\n",
    "        param_2: int\n",
    "        param_3: boolean\n",
    "    \n",
    "    Raises:\n",
    "        ValueError: If the object has no docstring\n",
    "        HTTPError: If the object has no docstring\n",
    "        \n",
    "    Yields:\n",
    "        A list of strings\n",
    "    \"\"\"\n",
    "    pass\n",
    "\n",
    "docstring = Docstring(fixture_function.__doc__)\n",
    "section_items = parse(docstring, Parser.google)\n",
    "item_dict = section_items[1].as_dict()\n",
    "\n",
    "actual = _format_parameters_section(item_dict, fixture_function)\n",
    "expected = \"\"\"| Name | Type | Description | Default |\n",
    "| --- | --- | --- | --- |\n",
    "| `param_1` | `str` | string | `required` |\n",
    "| `param_2` | `int` | int | `required` |\n",
    "| `param_3` |  | boolean |  |\"\"\"\n",
    "\n",
    "print(actual)\n",
    "assert actual == expected\n"
   ]
  },
  {
   "cell_type": "code",
   "execution_count": null,
   "id": "021a4fff",
   "metadata": {},
   "outputs": [],
   "source": [
    "# | export\n",
    "\n",
    "def _get_source_relative_filename(source_filename: Optional[str] = None) -> Optional[str]:\n",
    "    if source_filename is None:\n",
    "        return None\n",
    "    cfg = get_config()\n",
    "    lib_name = cfg[\"lib_name\"].replace(\"-\", \"_\")\n",
    "    return f\"{lib_name}{source_filename.split(lib_name)[1]}\""
   ]
  },
  {
   "cell_type": "code",
   "execution_count": null,
   "id": "1e5c1a33",
   "metadata": {},
   "outputs": [
    {
     "name": "stdout",
     "output_type": "stream",
     "text": [
      "nbdev_mkdocs/mkdocs.py\n"
     ]
    }
   ],
   "source": [
    "source_filename = getsourcefile(prepare)\n",
    "actual = _get_source_relative_filename(source_filename)\n",
    "expected = \"nbdev_mkdocs/mkdocs.py\"\n",
    "print(actual)\n",
    "assert actual == expected"
   ]
  },
  {
   "cell_type": "code",
   "execution_count": null,
   "id": "1f6e6aaf",
   "metadata": {},
   "outputs": [],
   "source": [
    "# | export\n",
    "\n",
    "def _get_source_code(symbol: Union[types.FunctionType, Type[Any]]) -> str:\n",
    "    return getsource(symbol)"
   ]
  },
  {
   "cell_type": "code",
   "execution_count": null,
   "id": "f20dabdf",
   "metadata": {},
   "outputs": [
    {
     "data": {
      "text/plain": [
       "'def fixture_function(i: str, a: str) -> str:\\n    \"\"\"This is a test function\\n    \"\"\"\\n    pass\\n'"
      ]
     },
     "metadata": {},
     "output_type": "display_data"
    }
   ],
   "source": [
    "def fixture_function(i: str, a: str) -> str:\n",
    "    \"\"\"This is a test function\n",
    "    \"\"\"\n",
    "    pass\n",
    "\n",
    "expected = 'def fixture_function(i: str, a: str) -> str:\\n    \"\"\"This is a test function\\n    \"\"\"\\n    pass\\n'\n",
    "actual = _get_source_code(fixture_function)\n",
    "display(actual)\n",
    "assert actual == expected"
   ]
  },
  {
   "cell_type": "code",
   "execution_count": null,
   "id": "3db92aca",
   "metadata": {},
   "outputs": [],
   "source": [
    "# | export\n",
    "\n",
    "\n",
    "def _docstring_to_markdown(symbol: Union[types.FunctionType, Type[Any]]) -> str:\n",
    "    \"\"\"Converts a docstring to a markdown-formatted string.\n",
    "\n",
    "    Args:\n",
    "        docstring: The docstring to convert.\n",
    "\n",
    "    Returns:\n",
    "        The markdown-formatted docstring.\n",
    "    \"\"\"\n",
    "    docstring = Docstring(symbol.__doc__)  # type: ignore\n",
    "    parsed_docstring_sections = parse(docstring, Parser.google)\n",
    "    formatted_docstring = \"\"\n",
    "    for section in parsed_docstring_sections:\n",
    "        section_dict = section.as_dict()\n",
    "        if section_dict[\"kind\"] == \"text\":\n",
    "            formatted_docstring += f\"{section.value}\\n\\n\"\n",
    "\n",
    "        elif section_dict[\"kind\"] == \"examples\":\n",
    "            section_header = f\"**{section_dict['kind'].capitalize()}**:\\n\\n\"\n",
    "            formatted_docstring += f\"{section_header}\" + \"\".join(\n",
    "                [f\"{v[1]}\\n\\n\" for v in section_dict[\"value\"]]\n",
    "            )\n",
    "\n",
    "        elif section_dict[\"kind\"] == \"returns\" or section_dict[\"kind\"] == \"yields\":\n",
    "            section_header = f\"**{section_dict['kind'].capitalize()}**:\\n\\n\"\n",
    "            formatted_docstring += (\n",
    "                f\"{section_header}\"\n",
    "                + _format_return_section(section_dict, symbol)\n",
    "                + \"\\n\\n\"\n",
    "            )\n",
    "\n",
    "        elif section_dict[\"kind\"] == \"raises\":\n",
    "            section_header = f\"**{section_dict['kind'].capitalize()}**:\\n\\n\"\n",
    "            formatted_docstring += (\n",
    "                f\"{section_header}\" + _format_raises_section(section_dict) + \"\\n\\n\"\n",
    "            )\n",
    "        elif section_dict[\"kind\"] == \"parameters\":\n",
    "            section_header = f\"**{section_dict['kind'].capitalize()}**:\\n\\n\"\n",
    "            formatted_docstring += (\n",
    "                f\"{section_header}\"\n",
    "                + _format_parameters_section(section_dict, symbol)\n",
    "                + \"\\n\\n\"\n",
    "            )\n",
    "        elif section_dict[\"kind\"] == \"admonition\":\n",
    "            value = section_dict[\"value\"]\n",
    "            annotation = value[\"annotation\"]\n",
    "            description = value[\"description\"]\n",
    "            formatted_docstring += (\n",
    "                f\"??? {annotation}\"\n",
    "                + \"\\n\\n\"\n",
    "                + f\"{textwrap.indent(description, '    ')}\\n\\n\"\n",
    "            )\n",
    "\n",
    "    source_relative_filename = _get_source_relative_filename(getsourcefile(symbol))\n",
    "    if source_relative_filename is not None:\n",
    "        source_code = _get_source_code(symbol)\n",
    "        formatted_docstring += (\n",
    "            f'??? quote \"Source code in `{source_relative_filename}`\"\\n\\n'\n",
    "            + f\"    ```python\\n{textwrap.indent(source_code, '    ')}    ```\\n\\n\"\n",
    "        )\n",
    "\n",
    "    return formatted_docstring"
   ]
  },
  {
   "cell_type": "code",
   "execution_count": null,
   "id": "e728a866",
   "metadata": {},
   "outputs": [
    {
     "name": "stdout",
     "output_type": "stream",
     "text": [
      "/Users/harishm/Dev/airt-git/nbdev-mkdocs/nbdev_mkdocs/mkdocs.py\n",
      "/Users/harishm/Dev/airt-git/nbdev-mkdocs/nbdev_mkdocs/mkdocs.py\n"
     ]
    }
   ],
   "source": [
    "# from inspect import getfile\n",
    "\n",
    "getsourcefile_mock_value = '/Users/harishm/Dev/airt-git/nbdev-mkdocs/nbdev_mkdocs/mkdocs.py'\n",
    "\n",
    "@contextmanager\n",
    "def mock_getsourcefile():\n",
    "    with unittest.mock.patch('__main__.getsourcefile') as mock_getsourcefile:\n",
    "        mock_getsourcefile.return_value = getsourcefile_mock_value\n",
    "        yield\n",
    "        \n",
    "\n",
    "def fixture_function(i: str, a: str) -> str:\n",
    "    pass\n",
    "\n",
    "# print(getfile(fixture_function))\n",
    "\n",
    "with mock_getsourcefile():\n",
    "    actual = getsourcefile(fixture_function)\n",
    "    print(actual)\n",
    "    assert actual == getsourcefile_mock_value\n",
    "    \n",
    "class Fixture:\n",
    "    pass\n",
    "\n",
    "with mock_getsourcefile():\n",
    "    actual = getsourcefile(Fixture)\n",
    "    print(actual)\n",
    "    assert actual == getsourcefile_mock_value"
   ]
  },
  {
   "cell_type": "code",
   "execution_count": null,
   "id": "09acb20a",
   "metadata": {},
   "outputs": [
    {
     "name": "stdout",
     "output_type": "stream",
     "text": [
      "class Test:\n",
      "    pass\n",
      "/Users/harishm/Dev/airt-git/nbdev-mkdocs/nbdev_mkdocs/mkdocs.py\n"
     ]
    }
   ],
   "source": [
    "getsource_mock_value = 'class Test:\\n    pass'\n",
    "mock_getsourcefile_value = '/Users/harishm/Dev/airt-git/nbdev-mkdocs/nbdev_mkdocs/mkdocs.py'\n",
    "\n",
    "@contextmanager\n",
    "def mock_getsource():\n",
    "    with unittest.mock.patch('__main__.getsource') as mock_getsource:\n",
    "#         with unittest.mock.patch('__main__.getsourcefile') as mock_getsourcefile:\n",
    "        mock_getsource.return_value = getsource_mock_value\n",
    "#             mock_getsourcefile.return_value = mock_getsourcefile_value\n",
    "        yield\n",
    "        \n",
    "\n",
    "class Fixture:\n",
    "    pass\n",
    "\n",
    "# with mock_getsourcefile():\n",
    "#     actual = getsourcefile(Fixture)\n",
    "#     print(actual)\n",
    "#     assert actual == \"/Users/harishm/Dev/airt-git/nbdev-mkdocs/nbdev_mkdocs/mkdocs.py\"\n",
    "\n",
    "    \n",
    "with mock_getsource():\n",
    "    actual = getsource(Fixture)\n",
    "    print(actual)\n",
    "    assert actual == getsource_mock_value\n",
    "    \n",
    "    with mock_getsourcefile():\n",
    "        actual = getsourcefile(Fixture)\n",
    "        print(actual)\n",
    "        assert actual == getsourcefile_mock_value\n"
   ]
  },
  {
   "cell_type": "code",
   "execution_count": null,
   "id": "d01461c1",
   "metadata": {},
   "outputs": [
    {
     "name": "stdout",
     "output_type": "stream",
     "text": [
      "/Users/harishm/Dev/airt-git/nbdev-mkdocs/nbdev_mkdocs/mkdocs.py\n"
     ]
    }
   ],
   "source": [
    "class Fixture:\n",
    "    pass\n",
    "\n",
    "with mock_getsourcefile():\n",
    "    actual = getsourcefile(Fixture)\n",
    "    print(actual)\n",
    "    assert actual == getsourcefile_mock_value"
   ]
  },
  {
   "cell_type": "code",
   "execution_count": null,
   "id": "0a8d7159",
   "metadata": {},
   "outputs": [
    {
     "name": "stderr",
     "output_type": "stream",
     "text": [
      "<module>:10: No type or annotation for parameter 'i'\n",
      "<module>:11: No type or annotation for parameter 'a'\n",
      "<module>:14: No type or annotation for returned value 1\n",
      "Failed to parse annotation from 'Name' node: 'NoneType' object has no attribute 'resolve'\n",
      "Failed to parse annotation from 'Name' node: 'NoneType' object has no attribute 'resolve'\n",
      "<module>:35: No type or annotation for yielded value 1\n"
     ]
    },
    {
     "data": {
      "text/plain": [
       "'Very cool function\\n\\n**f** is a very cool function\\n\\n??? note\\n\\n    Execution context is not the same as the one in the notebook because we want examples to work from\\n    user code. Make sure you compiled the library prior to executing the examples, otherwise you might\\n    be running them agains an old version of the library.\\n\\n**Parameters**:\\n\\n| Name | Type | Description | Default |\\n| --- | --- | --- | --- |\\n| `i` | `str` | something | `required` |\\n| `a` | `str` | something else | `required` |\\n\\n**Returns**:\\n\\n| Type | Description |\\n| --- | --- |\\n| `str` | This function returns a sample string |\\n\\n**Raises**:\\n\\n| Type | Description |\\n| --- | --- |\\n| `ValueError` | If the object has no docstring |\\n| `HTTPError` | If the object has no docstring |\\n\\n**Examples**:\\n\\nThe following snippet prints out greetings for two names:\\n```python\\nprint(\"hello {fill in name_1}\")\\nprint(\"goodbye {fill in name_2}\")\\n```\\n\\n??? example\\n\\n    The following snippet prints out greetings for two names:\\n    ```python\\n    print(\"hello {fill in name_1}\")\\n    print(\"goodbye {fill in name_2}\")\\n    ```\\n\\n**Yields**:\\n\\n| Type | Description |\\n| --- | --- |\\n| `str` | This functiron yields something |\\n\\n!!! note\\n\\n    The above docstring is autogenerated by docstring-gen library (https://github.com/airtai/docstring-gen)\\n\\n??? quote \"Source code in `nbdev_mkdocs/mkdocs.py`\"\\n\\n    ```python\\n    def fixture_function(i: str, a: str) -> str:\\n        \"\"\"Very cool function\\n\\n        **f** is a very cool function\\n    \\n        Note:\\n            Execution context is not the same as the one in the notebook because we want examples to work from\\n            user code. Make sure you compiled the library prior to executing the examples, otherwise you might\\n            be running them agains an old version of the library.\\n\\n        Args:\\n            i: something\\n            a: something else\\n        \\n        Returns:\\n            This function returns a sample string\\n\\n        Raises:\\n            ValueError: If the object has no docstring\\n            HTTPError: If the object has no docstring\\n        \\n        Examples:\\n            The following snippet prints out greetings for two names:\\n            ```python\\n            print(\"hello {fill in name_1}\")\\n            print(\"goodbye {fill in name_2}\")\\n            ```\\n        \\n        Example:\\n            The following snippet prints out greetings for two names:\\n            ```python\\n            print(\"hello {fill in name_1}\")\\n            print(\"goodbye {fill in name_2}\")\\n            ```\\n        \\n        Yields:\\n            This functiron yields something\\n\\n        !!! note\\n\\n            The above docstring is autogenerated by docstring-gen library (https://github.com/airtai/docstring-gen)\\n\\n        \"\"\"\\n        pass\\n    ```\\n\\n'"
      ]
     },
     "metadata": {},
     "output_type": "display_data"
    }
   ],
   "source": [
    "def fixture_function(i: str, a: str) -> str:\n",
    "    \"\"\"Very cool function\n",
    "\n",
    "    **f** is a very cool function\n",
    "    \n",
    "    Note:\n",
    "        Execution context is not the same as the one in the notebook because we want examples to work from\n",
    "        user code. Make sure you compiled the library prior to executing the examples, otherwise you might\n",
    "        be running them agains an old version of the library.\n",
    "\n",
    "    Args:\n",
    "        i: something\n",
    "        a: something else\n",
    "        \n",
    "    Returns:\n",
    "        This function returns a sample string\n",
    "\n",
    "    Raises:\n",
    "        ValueError: If the object has no docstring\n",
    "        HTTPError: If the object has no docstring\n",
    "        \n",
    "    Examples:\n",
    "        The following snippet prints out greetings for two names:\n",
    "        ```python\n",
    "        print(\"hello {fill in name_1}\")\n",
    "        print(\"goodbye {fill in name_2}\")\n",
    "        ```\n",
    "        \n",
    "    Example:\n",
    "        The following snippet prints out greetings for two names:\n",
    "        ```python\n",
    "        print(\"hello {fill in name_1}\")\n",
    "        print(\"goodbye {fill in name_2}\")\n",
    "        ```\n",
    "        \n",
    "    Yields:\n",
    "        This functiron yields something\n",
    "\n",
    "    !!! note\n",
    "\n",
    "        The above docstring is autogenerated by docstring-gen library (https://github.com/airtai/docstring-gen)\n",
    "\n",
    "    \"\"\"\n",
    "    pass\n",
    "\n",
    "expected = \"\"\"Very cool function\n",
    "\n",
    "**f** is a very cool function\n",
    "\n",
    "??? note\n",
    "\n",
    "    Execution context is not the same as the one in the notebook because we want examples to work from\n",
    "    user code. Make sure you compiled the library prior to executing the examples, otherwise you might\n",
    "    be running them agains an old version of the library.\n",
    "\n",
    "**Parameters**:\n",
    "\n",
    "| Name | Type | Description | Default |\n",
    "| --- | --- | --- | --- |\n",
    "| `i` | `str` | something | `required` |\n",
    "| `a` | `str` | something else | `required` |\n",
    "\n",
    "**Returns**:\n",
    "\n",
    "| Type | Description |\n",
    "| --- | --- |\n",
    "| `str` | This function returns a sample string |\n",
    "\n",
    "**Raises**:\n",
    "\n",
    "| Type | Description |\n",
    "| --- | --- |\n",
    "| `ValueError` | If the object has no docstring |\n",
    "| `HTTPError` | If the object has no docstring |\n",
    "\n",
    "**Examples**:\n",
    "\n",
    "The following snippet prints out greetings for two names:\n",
    "```python\n",
    "print(\"hello {fill in name_1}\")\n",
    "print(\"goodbye {fill in name_2}\")\n",
    "```\n",
    "\n",
    "??? example\n",
    "\n",
    "    The following snippet prints out greetings for two names:\n",
    "    ```python\n",
    "    print(\"hello {fill in name_1}\")\n",
    "    print(\"goodbye {fill in name_2}\")\n",
    "    ```\n",
    "\n",
    "**Yields**:\n",
    "\n",
    "| Type | Description |\n",
    "| --- | --- |\n",
    "| `str` | This functiron yields something |\n",
    "\n",
    "!!! note\n",
    "\n",
    "    The above docstring is autogenerated by docstring-gen library (https://github.com/airtai/docstring-gen)\n",
    "\n",
    "??? quote \"Source code in `nbdev_mkdocs/mkdocs.py`\"\n",
    "\n",
    "    ```python\n",
    "    def fixture_function(i: str, a: str) -> str:\n",
    "        \\\"\\\"\\\"Very cool function\n",
    "\n",
    "        **f** is a very cool function\n",
    "    \n",
    "        Note:\n",
    "            Execution context is not the same as the one in the notebook because we want examples to work from\n",
    "            user code. Make sure you compiled the library prior to executing the examples, otherwise you might\n",
    "            be running them agains an old version of the library.\n",
    "\n",
    "        Args:\n",
    "            i: something\n",
    "            a: something else\n",
    "        \n",
    "        Returns:\n",
    "            This function returns a sample string\n",
    "\n",
    "        Raises:\n",
    "            ValueError: If the object has no docstring\n",
    "            HTTPError: If the object has no docstring\n",
    "        \n",
    "        Examples:\n",
    "            The following snippet prints out greetings for two names:\n",
    "            ```python\n",
    "            print(\"hello {fill in name_1}\")\n",
    "            print(\"goodbye {fill in name_2}\")\n",
    "            ```\n",
    "        \n",
    "        Example:\n",
    "            The following snippet prints out greetings for two names:\n",
    "            ```python\n",
    "            print(\"hello {fill in name_1}\")\n",
    "            print(\"goodbye {fill in name_2}\")\n",
    "            ```\n",
    "        \n",
    "        Yields:\n",
    "            This functiron yields something\n",
    "\n",
    "        !!! note\n",
    "\n",
    "            The above docstring is autogenerated by docstring-gen library (https://github.com/airtai/docstring-gen)\n",
    "\n",
    "        \\\"\\\"\\\"\n",
    "        pass\n",
    "    ```\n",
    "\n",
    "\"\"\"\n",
    "\n",
    "with mock_getsourcefile():\n",
    "    actual = _docstring_to_markdown(fixture_function)\n",
    "    display(actual)\n",
    "\n",
    "assert actual == expected"
   ]
  },
  {
   "cell_type": "code",
   "execution_count": null,
   "id": "2c6e4437",
   "metadata": {},
   "outputs": [],
   "source": [
    "# | export\n",
    "\n",
    "\n",
    "def get_formatted_docstring_for_symbol(\n",
    "    symbol: Union[types.FunctionType, Type[Any]]\n",
    ") -> str:\n",
    "    \"\"\"Recursively parses and get formatted docstring of a symbol.\n",
    "\n",
    "    Args:\n",
    "        symbol: A Python class or function object to parse the docstring for.\n",
    "\n",
    "    Returns:\n",
    "        A formatted docstring of the symbol and its members.\n",
    "\n",
    "    \"\"\"\n",
    "\n",
    "    def traverse(symbol: Union[types.FunctionType, Type[Any]], contents: str) -> str:\n",
    "        \"\"\"Recursively traverse the members of a symbol and append their docstrings to the provided contents string.\n",
    "\n",
    "        Args:\n",
    "            symbol: A Python class or function object to parse the docstring for.\n",
    "            contents: The current formatted docstrings.\n",
    "\n",
    "        Returns:\n",
    "            The updated formatted docstrings.\n",
    "\n",
    "        \"\"\"\n",
    "        for x, y in getmembers(symbol):\n",
    "            if not x.startswith(\"_\") or x == \"__init__\":\n",
    "                if isfunction(y) and y.__doc__ is not None:\n",
    "                    contents += f\"{_get_symbol_definition(y)}\\n\\n{_docstring_to_markdown(y)}\"\n",
    "                elif isclass(y) and not x.startswith(\"__\") and y.__doc__ is not None:\n",
    "                    contents += f\"{_get_symbol_definition(y)}\\n\\n{_docstring_to_markdown(y)}\"\n",
    "                    contents = traverse(y, contents)\n",
    "        return contents\n",
    "\n",
    "    contents = (\n",
    "        f\"{_get_symbol_definition(symbol)}\\n\\n{_docstring_to_markdown(symbol)}\"\n",
    "        if symbol.__doc__ is not None\n",
    "        else \"\"\n",
    "    )\n",
    "    if isclass(symbol):\n",
    "        contents = traverse(symbol, contents)\n",
    "    return contents"
   ]
  },
  {
   "cell_type": "code",
   "execution_count": null,
   "id": "bc169101",
   "metadata": {},
   "outputs": [
    {
     "name": "stderr",
     "output_type": "stream",
     "text": [
      "<module>:3: No type or annotation for parameter 'arg_1'\n",
      "<module>:4: No type or annotation for parameter 'arg_2'\n",
      "<module>:5: No type or annotation for parameter 'arg_3'\n",
      "<module>:6: No type or annotation for parameter 'arg_4'\n",
      "<module>:9: No type or annotation for returned value 1\n"
     ]
    },
    {
     "data": {
      "text/plain": [
       "'### `fixture_function`\\n\\n`def fixture_function(arg_1: str, arg_2: Union[List[str], str], arg_3: Optional[int], arg_4: Optional[str] = None) -> str\\n`\\n\\nThis is a one line description for the function\\n\\n**Parameters**:\\n\\n| Name | Type | Description | Default |\\n| --- | --- | --- | --- |\\n| `arg_1` | `str` | Argument 1 | `required` |\\n| `arg_2` | `Union[List[str], str]` | Argument 2 | `required` |\\n| `arg_3` | `Optional[int]` | Argument 3 | `required` |\\n| `arg_4` | `Optional[str]` | Argument 4 | `None` |\\n\\n**Returns**:\\n\\n| Type | Description |\\n| --- | --- |\\n| `str` | The concatinated string |\\n\\n??? quote \"Source code in `nbdev_mkdocs/mkdocs.py`\"\\n\\n    ```python\\n    def fixture_function(\\n        arg_1: str,\\n        arg_2: Union[List[str], str],\\n        arg_3: Optional[int],\\n        arg_4: Optional[str] = None,\\n    ) -> str:\\n        \"\"\"This is a one line description for the function\\n\\n        Args:\\n            arg_1: Argument 1\\n            arg_2: Argument 2\\n            arg_3: Argument 3\\n            arg_4: Argument 4\\n\\n        Returns:\\n            The concatinated string\\n        \"\"\"\\n        pass\\n    ```\\n\\n'"
      ]
     },
     "metadata": {},
     "output_type": "display_data"
    }
   ],
   "source": [
    "def fixture_function(\n",
    "    arg_1: str,\n",
    "    arg_2: Union[List[str], str],\n",
    "    arg_3: Optional[int],\n",
    "    arg_4: Optional[str] = None,\n",
    ") -> str:\n",
    "    \"\"\"This is a one line description for the function\n",
    "\n",
    "    Args:\n",
    "        arg_1: Argument 1\n",
    "        arg_2: Argument 2\n",
    "        arg_3: Argument 3\n",
    "        arg_4: Argument 4\n",
    "\n",
    "    Returns:\n",
    "        The concatinated string\n",
    "    \"\"\"\n",
    "    pass\n",
    "\n",
    "\n",
    "expected = \"\"\"### `fixture_function`\n",
    "\n",
    "`def fixture_function(arg_1: str, arg_2: Union[List[str], str], arg_3: Optional[int], arg_4: Optional[str] = None) -> str\n",
    "`\n",
    "\n",
    "This is a one line description for the function\n",
    "\n",
    "**Parameters**:\n",
    "\n",
    "| Name | Type | Description | Default |\n",
    "| --- | --- | --- | --- |\n",
    "| `arg_1` | `str` | Argument 1 | `required` |\n",
    "| `arg_2` | `Union[List[str], str]` | Argument 2 | `required` |\n",
    "| `arg_3` | `Optional[int]` | Argument 3 | `required` |\n",
    "| `arg_4` | `Optional[str]` | Argument 4 | `None` |\n",
    "\n",
    "**Returns**:\n",
    "\n",
    "| Type | Description |\n",
    "| --- | --- |\n",
    "| `str` | The concatinated string |\n",
    "\n",
    "??? quote \"Source code in `nbdev_mkdocs/mkdocs.py`\"\n",
    "\n",
    "    ```python\n",
    "    def fixture_function(\n",
    "        arg_1: str,\n",
    "        arg_2: Union[List[str], str],\n",
    "        arg_3: Optional[int],\n",
    "        arg_4: Optional[str] = None,\n",
    "    ) -> str:\n",
    "        \\\"\\\"\\\"This is a one line description for the function\n",
    "\n",
    "        Args:\n",
    "            arg_1: Argument 1\n",
    "            arg_2: Argument 2\n",
    "            arg_3: Argument 3\n",
    "            arg_4: Argument 4\n",
    "\n",
    "        Returns:\n",
    "            The concatinated string\n",
    "        \\\"\\\"\\\"\n",
    "        pass\n",
    "    ```\n",
    "\n",
    "\"\"\"\n",
    "\n",
    "with mock_getsourcefile():\n",
    "    actual = get_formatted_docstring_for_symbol(fixture_function)\n",
    "    display(actual)\n",
    "\n",
    "assert actual == expected"
   ]
  },
  {
   "cell_type": "code",
   "execution_count": null,
   "id": "63008435",
   "metadata": {},
   "outputs": [
    {
     "name": "stderr",
     "output_type": "stream",
     "text": [
      "<module>:3: No type or annotation for parameter 'brand'\n",
      "<module>:4: No type or annotation for parameter 'model'\n",
      "<module>:5: No type or annotation for parameter 'type'\n",
      "<module>:3: No type or annotation for parameter 'speed'\n"
     ]
    },
    {
     "data": {
      "text/plain": [
       "'\\n\\nThis is a docstring for the class\\n\\n??? quote \"Source code in `nbdev_mkdocs/mkdocs.py`\"\\n\\n    ```python\\n    class Test:\\n        pass    ```\\n\\n### `__init__`\\n\\n`def __init__(self, brand: str, model: str, type: str) -> None\\n`\\n\\nConstructor\\n\\n**Parameters**:\\n\\n| Name | Type | Description | Default |\\n| --- | --- | --- | --- |\\n| `brand` | `str` | Name of the brand | `required` |\\n| `model` | `str` | Name of the model | `required` |\\n| `type` | `str` | Model type | `required` |\\n\\n??? quote \"Source code in `nbdev_mkdocs/mkdocs.py`\"\\n\\n    ```python\\n    class Test:\\n        pass    ```\\n\\n### `drive`\\n\\n`def drive(self, speed: int = 10) -> None\\n`\\n\\nDrive\\n\\n**Parameters**:\\n\\n| Name | Type | Description | Default |\\n| --- | --- | --- | --- |\\n| `speed` | `int` | drive speed | `10` |\\n\\n??? quote \"Source code in `nbdev_mkdocs/mkdocs.py`\"\\n\\n    ```python\\n    class Test:\\n        pass    ```\\n\\n### `fuel_up`\\n\\n`def fuel_up(self) -> None\\n`\\n\\nFuel up\\n\\n??? quote \"Source code in `nbdev_mkdocs/mkdocs.py`\"\\n\\n    ```python\\n    class Test:\\n        pass    ```\\n\\n'"
      ]
     },
     "metadata": {},
     "output_type": "display_data"
    }
   ],
   "source": [
    "class Vehicle:\n",
    "    \"\"\"This is a docstring for the class\"\"\"\n",
    "\n",
    "    def __init__(self, brand: str, model: str, type: str):\n",
    "        \"\"\"Constructor\n",
    "\n",
    "        Args:\n",
    "            brand: Name of the brand\n",
    "            model: Name of the model\n",
    "            type: Model type\n",
    "        \"\"\"\n",
    "        self.brand = brand\n",
    "        self.model = model\n",
    "        self.type = type\n",
    "        self.gas_tank_size = 14\n",
    "        self.fuel_level = 0\n",
    "        self.speed = 1\n",
    "\n",
    "    def fuel_up(self):\n",
    "        \"\"\"Fuel up\"\"\"\n",
    "        self.fuel_level = self.gas_tank_size\n",
    "        print(\"Gas tank is now full.\")\n",
    "\n",
    "    def drive(self, speed: int = 10):\n",
    "        \"\"\"Drive\n",
    "        \n",
    "        Args:\n",
    "            speed: drive speed\n",
    "        \"\"\"\n",
    "        self.speed = speed\n",
    "        print(f\"The {self.model} is now driving at {self.speed}.\")\n",
    "\n",
    "\n",
    "expected = \"\"\"\n",
    "\n",
    "This is a docstring for the class\n",
    "\n",
    "??? quote \"Source code in `nbdev_mkdocs/mkdocs.py`\"\n",
    "\n",
    "    ```python\n",
    "    class Test:\n",
    "        pass    ```\n",
    "\n",
    "### `__init__`\n",
    "\n",
    "`def __init__(self, brand: str, model: str, type: str) -> None\n",
    "`\n",
    "\n",
    "Constructor\n",
    "\n",
    "**Parameters**:\n",
    "\n",
    "| Name | Type | Description | Default |\n",
    "| --- | --- | --- | --- |\n",
    "| `brand` | `str` | Name of the brand | `required` |\n",
    "| `model` | `str` | Name of the model | `required` |\n",
    "| `type` | `str` | Model type | `required` |\n",
    "\n",
    "??? quote \"Source code in `nbdev_mkdocs/mkdocs.py`\"\n",
    "\n",
    "    ```python\n",
    "    class Test:\n",
    "        pass    ```\n",
    "\n",
    "### `drive`\n",
    "\n",
    "`def drive(self, speed: int = 10) -> None\n",
    "`\n",
    "\n",
    "Drive\n",
    "\n",
    "**Parameters**:\n",
    "\n",
    "| Name | Type | Description | Default |\n",
    "| --- | --- | --- | --- |\n",
    "| `speed` | `int` | drive speed | `10` |\n",
    "\n",
    "??? quote \"Source code in `nbdev_mkdocs/mkdocs.py`\"\n",
    "\n",
    "    ```python\n",
    "    class Test:\n",
    "        pass    ```\n",
    "\n",
    "### `fuel_up`\n",
    "\n",
    "`def fuel_up(self) -> None\n",
    "`\n",
    "\n",
    "Fuel up\n",
    "\n",
    "??? quote \"Source code in `nbdev_mkdocs/mkdocs.py`\"\n",
    "\n",
    "    ```python\n",
    "    class Test:\n",
    "        pass    ```\n",
    "\n",
    "\"\"\"\n",
    "\n",
    "\n",
    "with mock_getsourcefile():\n",
    "    with mock_getsource():\n",
    "        actual = get_formatted_docstring_for_symbol(Vehicle)\n",
    "\n",
    "display(actual)\n",
    "assert actual == expected"
   ]
  },
  {
   "cell_type": "code",
   "execution_count": null,
   "id": "0138096a",
   "metadata": {},
   "outputs": [
    {
     "data": {
      "text/plain": [
       "'\\n\\nOuter Class\\n\\n??? quote \"Source code in `nbdev_mkdocs/mkdocs.py`\"\\n\\n    ```python\\n    class Test:\\n        pass    ```\\n\\n\\n\\nInner Class\\n\\n??? quote \"Source code in `nbdev_mkdocs/mkdocs.py`\"\\n\\n    ```python\\n    class Test:\\n        pass    ```\\n\\n### `inner_display`\\n\\n`def inner_display(self, msg) -> None\\n`\\n\\nInner display\\n\\n??? quote \"Source code in `nbdev_mkdocs/mkdocs.py`\"\\n\\n    ```python\\n    class Test:\\n        pass    ```\\n\\n\\n\\nInner2 Class\\n\\n??? quote \"Source code in `nbdev_mkdocs/mkdocs.py`\"\\n\\n    ```python\\n    class Test:\\n        pass    ```\\n\\n### `inner_display_2`\\n\\n`def inner_display_2(self, msg) -> None\\n`\\n\\nInner display_2\\n\\n??? quote \"Source code in `nbdev_mkdocs/mkdocs.py`\"\\n\\n    ```python\\n    class Test:\\n        pass    ```\\n\\n### `__init__`\\n\\n`def __init__(self) -> None\\n`\\n\\nOuter class constructor\\n\\n??? quote \"Source code in `nbdev_mkdocs/mkdocs.py`\"\\n\\n    ```python\\n    class Test:\\n        pass    ```\\n\\n### `reveal`\\n\\n`def reveal(self) -> None\\n`\\n\\nReveal function\\n\\n??? quote \"Source code in `nbdev_mkdocs/mkdocs.py`\"\\n\\n    ```python\\n    class Test:\\n        pass    ```\\n\\n'"
      ]
     },
     "metadata": {},
     "output_type": "display_data"
    }
   ],
   "source": [
    "class Outer:\n",
    "    \"\"\"Outer Class\"\"\"\n",
    "\n",
    "    def __init__(self):\n",
    "        \"\"\"Outer class constructor\"\"\"\n",
    "        ## instantiating the 'Inner' class\n",
    "        self.inner = self.Inner()\n",
    "\n",
    "    def reveal(self):\n",
    "        \"\"\"Reveal function\"\"\"\n",
    "        ## calling the 'Inner' class function display\n",
    "        self.inner.inner_display(\"Calling Inner class function from Outer class\")\n",
    "\n",
    "    class Inner:\n",
    "        \"\"\"Inner Class\"\"\"\n",
    "\n",
    "        def inner_display(self, msg):\n",
    "            \"\"\"Inner display\"\"\"\n",
    "            print(msg)\n",
    "\n",
    "    class Inner2:\n",
    "        \"\"\"Inner2 Class\"\"\"\n",
    "\n",
    "        def inner_display_2(self, msg):\n",
    "            \"\"\"Inner display_2\"\"\"\n",
    "            print(msg)\n",
    "\n",
    "\n",
    "expected = \"\"\"\n",
    "\n",
    "Outer Class\n",
    "\n",
    "??? quote \"Source code in `nbdev_mkdocs/mkdocs.py`\"\n",
    "\n",
    "    ```python\n",
    "    class Test:\n",
    "        pass    ```\n",
    "\n",
    "\n",
    "\n",
    "Inner Class\n",
    "\n",
    "??? quote \"Source code in `nbdev_mkdocs/mkdocs.py`\"\n",
    "\n",
    "    ```python\n",
    "    class Test:\n",
    "        pass    ```\n",
    "\n",
    "### `inner_display`\n",
    "\n",
    "`def inner_display(self, msg) -> None\n",
    "`\n",
    "\n",
    "Inner display\n",
    "\n",
    "??? quote \"Source code in `nbdev_mkdocs/mkdocs.py`\"\n",
    "\n",
    "    ```python\n",
    "    class Test:\n",
    "        pass    ```\n",
    "\n",
    "\n",
    "\n",
    "Inner2 Class\n",
    "\n",
    "??? quote \"Source code in `nbdev_mkdocs/mkdocs.py`\"\n",
    "\n",
    "    ```python\n",
    "    class Test:\n",
    "        pass    ```\n",
    "\n",
    "### `inner_display_2`\n",
    "\n",
    "`def inner_display_2(self, msg) -> None\n",
    "`\n",
    "\n",
    "Inner display_2\n",
    "\n",
    "??? quote \"Source code in `nbdev_mkdocs/mkdocs.py`\"\n",
    "\n",
    "    ```python\n",
    "    class Test:\n",
    "        pass    ```\n",
    "\n",
    "### `__init__`\n",
    "\n",
    "`def __init__(self) -> None\n",
    "`\n",
    "\n",
    "Outer class constructor\n",
    "\n",
    "??? quote \"Source code in `nbdev_mkdocs/mkdocs.py`\"\n",
    "\n",
    "    ```python\n",
    "    class Test:\n",
    "        pass    ```\n",
    "\n",
    "### `reveal`\n",
    "\n",
    "`def reveal(self) -> None\n",
    "`\n",
    "\n",
    "Reveal function\n",
    "\n",
    "??? quote \"Source code in `nbdev_mkdocs/mkdocs.py`\"\n",
    "\n",
    "    ```python\n",
    "    class Test:\n",
    "        pass    ```\n",
    "\n",
    "\"\"\"\n",
    "\n",
    "with mock_getsourcefile():\n",
    "    with mock_getsource():\n",
    "        actual = get_formatted_docstring_for_symbol(Outer)\n",
    "\n",
    "display(actual)\n",
    "assert actual == expected"
   ]
  },
  {
   "cell_type": "code",
   "execution_count": null,
   "id": "e7f039f6",
   "metadata": {},
   "outputs": [],
   "source": []
  }
 ],
 "metadata": {
  "kernelspec": {
   "display_name": "python3",
   "language": "python",
   "name": "python3"
  }
 },
 "nbformat": 4,
 "nbformat_minor": 5
}
