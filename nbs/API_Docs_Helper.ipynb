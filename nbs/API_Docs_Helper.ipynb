{
 "cells": [
  {
   "cell_type": "code",
   "execution_count": null,
   "id": "9d0dcae3",
   "metadata": {},
   "outputs": [],
   "source": [
    "# | default_exp _helpers.api_docs_helper"
   ]
  },
  {
   "cell_type": "code",
   "execution_count": null,
   "id": "6482301e",
   "metadata": {},
   "outputs": [],
   "source": [
    "# | export\n",
    "\n",
    "from typing import *\n",
    "import types\n",
    "from pathlib import Path\n",
    "from inspect import isfunction, isclass, getmembers, getsourcefile, isroutine\n",
    "\n",
    "import griffe\n",
    "from nbdev.config import get_config"
   ]
  },
  {
   "cell_type": "code",
   "execution_count": null,
   "id": "70fa0abe",
   "metadata": {},
   "outputs": [
    {
     "name": "stderr",
     "output_type": "stream",
     "text": [
      "/Users/harishm/.pyenv/versions/3.10.4/lib/python3.10/site-packages/pandas/compat/__init__.py:124: UserWarning: Could not import the lzma module. Your installed Python is incomplete. Attempting to use lzma compression will result in a RuntimeError.\n",
      "  warnings.warn(msg)\n"
     ]
    }
   ],
   "source": [
    "from subprocess import CalledProcessError\n",
    "import unittest.mock\n",
    "from contextlib import contextmanager\n",
    "\n",
    "from nbdev.doclinks import NbdevLookup\n",
    "\n",
    "from nbdev_mkdocs.mkdocs import prepare"
   ]
  },
  {
   "cell_type": "code",
   "execution_count": null,
   "id": "e87b609d",
   "metadata": {},
   "outputs": [],
   "source": [
    "# | export\n",
    "\n",
    "\n",
    "def _get_symbol_filepath(symbol: Union[types.FunctionType, Type[Any]]) -> Path:\n",
    "    config = get_config()\n",
    "    filepath = getsourcefile(symbol)\n",
    "    return Path(filepath).relative_to( # type: ignore\n",
    "        filepath.split(f'{config[\"lib_name\"].replace(\"-\", \"_\")}/')[0] # type: ignore\n",
    "    )"
   ]
  },
  {
   "cell_type": "code",
   "execution_count": null,
   "id": "aea3e001",
   "metadata": {},
   "outputs": [],
   "source": [
    "# actual = _get_symbol_filepath(prepare)\n",
    "# expected = Path(\"nbdev_mkdocs/mkdocs.py\")\n",
    "# print(actual)\n",
    "\n",
    "# assert actual == expected"
   ]
  },
  {
   "cell_type": "code",
   "execution_count": null,
   "id": "07c56247",
   "metadata": {},
   "outputs": [],
   "source": [
    "# | export\n",
    "\n",
    "\n",
    "def _get_annotated_symbol_definition(symbol: Union[types.FunctionType, Type[Any]]) -> str:\n",
    "    try:\n",
    "        module = f\"{symbol.__module__}.{symbol.__qualname__}\"\n",
    "        parsed_module = griffe.load(module)\n",
    "        if \"raise NotImplementedError()\" in parsed_module.source:\n",
    "            raise KeyError\n",
    "        return f\"\\n\\n::: {module}\\n\"\n",
    "    except KeyError as e:\n",
    "        patched_symbol_path = _get_symbol_filepath(symbol)\n",
    "        return f\"\\n\\n::: {str(patched_symbol_path.parent)}.{str(patched_symbol_path.stem)}.{symbol.__name__}\\n\""
   ]
  },
  {
   "cell_type": "code",
   "execution_count": null,
   "id": "6be0d349",
   "metadata": {},
   "outputs": [],
   "source": [
    "_get_annotated_symbol_definition_mock_value = f'::: nbdev_mkdocs.mkdocs.prepare'\n",
    "\n",
    "@contextmanager\n",
    "def mock_get_annotated_symbol_definition():\n",
    "    with unittest.mock.patch('__main__._get_annotated_symbol_definition') as mock_get_annotated_symbol_definition:\n",
    "        mock_get_annotated_symbol_definition.return_value = _get_annotated_symbol_definition_mock_value\n",
    "        yield\n"
   ]
  },
  {
   "cell_type": "code",
   "execution_count": null,
   "id": "9e31bea5",
   "metadata": {},
   "outputs": [
    {
     "data": {
      "text/plain": [
       "'::: nbdev_mkdocs.mkdocs.prepare'"
      ]
     },
     "metadata": {},
     "output_type": "display_data"
    }
   ],
   "source": [
    "with mock_get_annotated_symbol_definition():\n",
    "    actual = _get_annotated_symbol_definition(prepare)\n",
    "\n",
    "expected = \"\"\"::: nbdev_mkdocs.mkdocs.prepare\"\"\"\n",
    "display(actual)\n",
    "assert actual == expected"
   ]
  },
  {
   "cell_type": "code",
   "execution_count": null,
   "id": "877b6ee0",
   "metadata": {},
   "outputs": [],
   "source": [
    "# | export\n",
    "\n",
    "\n",
    "def _get_attributes_to_exclude_in_docstring(\n",
    "    symbol: Union[types.FunctionType, Type[Any]]\n",
    ") -> str:\n",
    "    members_list = [\n",
    "        f'\"!^{a}$\"'\n",
    "        for a in dir(symbol)\n",
    "        if callable(getattr(symbol, a)) and (not a.startswith(\"__\") or a == \"__init__\")\n",
    "    ]\n",
    "    return f\"\"\"    options:\n",
    "      filters: [{\", \".join(members_list)}]\"\"\""
   ]
  },
  {
   "cell_type": "code",
   "execution_count": null,
   "id": "e118424b",
   "metadata": {},
   "outputs": [
    {
     "data": {
      "text/plain": [
       "'    options:\\n      filters: [\"!^__init__$\", \"!^drive$\", \"!^i_am_a_class_method$\", \"!^i_am_a_static_method$\", \"!^patched_method_in_same_file$\", \"!^start$\", \"!^stop$\"]'"
      ]
     },
     "metadata": {},
     "output_type": "display_data"
    }
   ],
   "source": [
    "class Car:\n",
    "    SOME_ATTRIBUTE = \"Some class attribute\"\n",
    "\n",
    "    def __init__(self, make: str, model: str, year: int, color: str):\n",
    "        self.make = make\n",
    "        self.model = model\n",
    "        self.year = year\n",
    "        self.color = color\n",
    "        self.is_running = False\n",
    "\n",
    "    def start(self):\n",
    "        self.is_running = True\n",
    "\n",
    "    def stop(self):\n",
    "        self.is_running = False\n",
    "\n",
    "    def drive(\n",
    "        self,\n",
    "        distance: float,\n",
    "        speed: Optional[float] = None,\n",
    "        passengers: Optional[int] = None,\n",
    "    ) -> float:\n",
    "        if not self.is_running:\n",
    "            raise ValueError(\"Cannot drive a stopped car.\")\n",
    "\n",
    "        if speed:\n",
    "            print(f\"Driving at {speed} km/h.\")\n",
    "\n",
    "        if passengers:\n",
    "            print(f\"Driving with {passengers} passengers.\")\n",
    "\n",
    "        return distance\n",
    "        \n",
    "    def patched_method_in_same_file(self, s: str) -> str:\n",
    "        raise NotImplementedError()\n",
    "\n",
    "    @staticmethod\n",
    "    def i_am_a_static_method(name: str) -> str:\n",
    "        if not isinstance(name, str):\n",
    "            raise ValueError(\"I will accept only string\")\n",
    "        return f\"Hello, {name}\"\n",
    "    \n",
    "    @classmethod\n",
    "    def i_am_a_class_method(cls):\n",
    "        return f\"Nothing\"\n",
    "        \n",
    "    \n",
    "        \n",
    "actual = _get_attributes_to_exclude_in_docstring(Car)\n",
    "expected = \"\"\"    options:\n",
    "      filters: [\"!^__init__$\", \"!^drive$\", \"!^i_am_a_class_method$\", \"!^i_am_a_static_method$\", \"!^patched_method_in_same_file$\", \"!^start$\", \"!^stop$\"]\"\"\"\n",
    "display(actual)\n",
    "assert actual == expected"
   ]
  },
  {
   "cell_type": "code",
   "execution_count": null,
   "id": "c4ebdf11",
   "metadata": {},
   "outputs": [],
   "source": [
    "# | export\n",
    "\n",
    "\n",
    "\n",
    "def get_formatted_docstring_for_symbol(\n",
    "    symbol: Union[types.FunctionType, Type[Any]]\n",
    ") -> str:\n",
    "    \"\"\"Recursively parses and get formatted docstring of a symbol.\n",
    "\n",
    "    Args:\n",
    "        symbol: A Python class or function object to parse the docstring for.\n",
    "\n",
    "    Returns:\n",
    "        A formatted docstring of the symbol and its members.\n",
    "\n",
    "    \"\"\"\n",
    "\n",
    "    def traverse(symbol: Union[types.FunctionType, Type[Any]], contents: str) -> str:\n",
    "        \"\"\"Recursively traverse the members of a symbol and append their docstrings to the provided contents string.\n",
    "\n",
    "        Args:\n",
    "            symbol: A Python class or function object to parse the docstring for.\n",
    "            contents: The current formatted docstrings.\n",
    "\n",
    "        Returns:\n",
    "            The updated formatted docstrings.\n",
    "\n",
    "        \"\"\"\n",
    "        for x, y in getmembers(symbol):\n",
    "            if not x.startswith(\"_\") or x == \"__init__\":\n",
    "                if isfunction(y) and y.__doc__ is not None:\n",
    "                    contents += f\"{_get_annotated_symbol_definition(y)}\\n\\n\"\n",
    "                elif isclass(y) and not x.startswith(\"__\") and y.__doc__ is not None:\n",
    "                    contents += \"\\n\" + _get_attributes_to_exclude_in_docstring(y) + \"\\n\\n\"\n",
    "                    contents = traverse(y, contents)\n",
    "        return contents\n",
    "\n",
    "    if symbol.__doc__ is None:\n",
    "        return \"\"\n",
    "    \n",
    "    contents = _get_annotated_symbol_definition(symbol)\n",
    "    if isclass(symbol):\n",
    "        contents += _get_attributes_to_exclude_in_docstring(symbol) + \"\\n\\n\"\n",
    "        contents = traverse(symbol, contents)\n",
    "    return contents"
   ]
  },
  {
   "cell_type": "code",
   "execution_count": null,
   "id": "62a663db",
   "metadata": {},
   "outputs": [
    {
     "data": {
      "text/plain": [
       "'::: nbdev_mkdocs.mkdocs.prepare    options:\\n      filters: [\"!^__init__$\"]\\n\\n::: nbdev_mkdocs.mkdocs.prepare\\n\\n'"
      ]
     },
     "metadata": {},
     "output_type": "display_data"
    }
   ],
   "source": [
    "class Car:\n",
    "    \"\"\"A class representing a car.\n",
    "\n",
    "    Attributes:\n",
    "        make: The make of the car.\n",
    "        model: The model of the car.\n",
    "        year: The year the car was made.\n",
    "        color: The color of the car.\n",
    "    \"\"\"\n",
    "    \n",
    "    SOME_CLASS_ATTRIBUTE = \"some class attribute\"\n",
    "    second_class_attribute = \"second_class_attribute\"\n",
    "\n",
    "    def __init__(self, make: str, model: str, year: int, color: str):\n",
    "        \"\"\"Initialize a new car.\n",
    "\n",
    "        Args:\n",
    "            make: The make of the car.\n",
    "            model: The model of the car.\n",
    "            year: The year the car was made.\n",
    "            color: The color of the car.\n",
    "        \"\"\"\n",
    "        self.make = make\n",
    "        self.model = model\n",
    "        self.year = year\n",
    "        self.color = color\n",
    "        self.is_running = False\n",
    "\n",
    "with mock_get_annotated_symbol_definition():\n",
    "    actual = get_formatted_docstring_for_symbol(Car)\n",
    "\n",
    "expected = \"\"\"::: nbdev_mkdocs.mkdocs.prepare    options:\n",
    "      filters: [\"!^__init__$\"]\n",
    "\n",
    "::: nbdev_mkdocs.mkdocs.prepare\n",
    "\n",
    "\"\"\"\n",
    "    \n",
    "display(actual)\n",
    "assert actual == expected"
   ]
  },
  {
   "cell_type": "code",
   "execution_count": null,
   "id": "cf62ab9c",
   "metadata": {},
   "outputs": [
    {
     "data": {
      "text/plain": [
       "'::: nbdev_mkdocs.mkdocs.prepare'"
      ]
     },
     "metadata": {},
     "output_type": "display_data"
    }
   ],
   "source": [
    "def fixture_function(\n",
    "    arg_1: str,\n",
    "    arg_2: Union[List[str], str],\n",
    "    arg_3: Optional[int],\n",
    "    arg_4: Optional[str] = None,\n",
    ") -> str:\n",
    "    \"\"\"This is a one line description for the function\n",
    "\n",
    "    Args:\n",
    "        arg_1: Argument 1\n",
    "        arg_2: Argument 2\n",
    "        arg_3: Argument 3\n",
    "        arg_4: Argument 4\n",
    "\n",
    "    Returns:\n",
    "        The concatinated string\n",
    "    \"\"\"\n",
    "    pass\n",
    "    \n",
    "get_module_source_value = \"\"\"\n",
    "def fixture_function(\n",
    "    arg_1: str,\n",
    "    arg_2: Union[List[str], str],\n",
    "    arg_3: Optional[int],\n",
    "    arg_4: Optional[str] = None,\n",
    ") -> str:\n",
    "    \\\"\\\"\\\"This is a one line description for the function\n",
    "\n",
    "    Args:\n",
    "        arg_1: Argument 1\n",
    "        arg_2: Argument 2\n",
    "        arg_3: Argument 3\n",
    "        arg_4: Argument 4\n",
    "\n",
    "    Returns:\n",
    "        The concatinated string\n",
    "    \\\"\\\"\\\"\n",
    "    pass\n",
    "\"\"\"\n",
    "\n",
    "expected = \"::: nbdev_mkdocs.mkdocs.prepare\"\n",
    "\n",
    "with mock_get_annotated_symbol_definition():\n",
    "    actual = get_formatted_docstring_for_symbol(fixture_function)\n",
    "display(actual)\n",
    "assert actual == expected"
   ]
  },
  {
   "cell_type": "code",
   "execution_count": null,
   "id": "3ca5c19e",
   "metadata": {},
   "outputs": [],
   "source": []
  }
 ],
 "metadata": {
  "kernelspec": {
   "display_name": "python3",
   "language": "python",
   "name": "python3"
  }
 },
 "nbformat": 4,
 "nbformat_minor": 5
}
