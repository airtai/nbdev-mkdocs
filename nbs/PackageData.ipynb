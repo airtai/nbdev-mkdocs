{
 "cells": [
  {
   "cell_type": "code",
   "execution_count": null,
   "id": "fbccfe7a",
   "metadata": {},
   "outputs": [],
   "source": [
    "# | default_exp _package_data\n"
   ]
  },
  {
   "cell_type": "code",
   "execution_count": null,
   "id": "5287b7e1",
   "metadata": {},
   "outputs": [],
   "source": [
    "# | export\n",
    "\n",
    "from typing import *\n",
    "\n",
    "from pathlib import Path\n"
   ]
  },
  {
   "cell_type": "code",
   "execution_count": null,
   "id": "74fafc5e",
   "metadata": {},
   "outputs": [],
   "source": [
    "# | export\n",
    "\n",
    "\n",
    "def get_root_data_path() -> Path:\n",
    "    \"\"\"Returns path to package_data in lib\n",
    "\n",
    "    Example:\n",
    "        ``` python\n",
    "        from nbdev_mkdocs._package_data import get_root_data_path\n",
    "\n",
    "        req_path = get_root_data_path() / \"requirements.txt\"\n",
    "        print(f\"Path is: {req_path.resolve()}\")\n",
    "        assert req_path.exists()\n",
    "\n",
    "        ```\n",
    "\n",
    "    \"\"\"\n",
    "    return Path(__file__).parent / \"package_data\"\n"
   ]
  },
  {
   "cell_type": "code",
   "execution_count": null,
   "id": "208a8e85",
   "metadata": {},
   "outputs": [
    {
     "data": {
      "text/plain": [
       "'Returns path to package_data in lib\\n\\n    Example:\\n        ``` python\\n        from nbdev_mkdocs._package_data import get_root_data_path\\n\\n        req_path = get_root_data_path() / \"requirements.txt\"\\n        print(f\"Path is: {req_path.resolve()}\")\\n        assert req_path.exists()\\n        \\n        ```\\n        \\n    '"
      ]
     },
     "execution_count": null,
     "metadata": {},
     "output_type": "execute_result"
    }
   ],
   "source": [
    "get_root_data_path.__doc__\n"
   ]
  },
  {
   "cell_type": "code",
   "execution_count": null,
   "id": "5a6d24cb",
   "metadata": {},
   "outputs": [],
   "source": [
    "from nbdev_mkdocs.docstring import run_examples_from_docstring\n"
   ]
  },
  {
   "cell_type": "code",
   "execution_count": null,
   "id": "3294d5af",
   "metadata": {},
   "outputs": [
    {
     "data": {
      "text/html": [
       "<pre style=\"white-space:pre;overflow-x:auto;line-height:normal;font-family:Menlo,'DejaVu Sans Mono',consolas,'Courier New',monospace;font-size:.68rem\">Example:\n",
       "<span style=\"color: #00ff00; text-decoration-color: #00ff00\">\u2500\u2500\u2500\u2500\u2500\u2500\u2500\u2500\u2500\u2500\u2500\u2500\u2500\u2500\u2500\u2500\u2500\u2500\u2500\u2500\u2500\u2500\u2500\u2500\u2500\u2500\u2500\u2500\u2500\u2500\u2500\u2500\u2500\u2500\u2500\u2500\u2500 </span>code<span style=\"color: #00ff00; text-decoration-color: #00ff00\"> \u2500\u2500\u2500\u2500\u2500\u2500\u2500\u2500\u2500\u2500\u2500\u2500\u2500\u2500\u2500\u2500\u2500\u2500\u2500\u2500\u2500\u2500\u2500\u2500\u2500\u2500\u2500\u2500\u2500\u2500\u2500\u2500\u2500\u2500\u2500\u2500\u2500</span>\n",
       "\n",
       "    from nbdev_mkdocs._package_data import get_root_data_path\n",
       "\n",
       "    req_path = <span style=\"color: #800080; text-decoration-color: #800080; font-weight: bold\">get_root_data_path</span><span style=\"font-weight: bold\">()</span> <span style=\"color: #800080; text-decoration-color: #800080\">/</span> <span style=\"color: #008000; text-decoration-color: #008000\">\"requirements.txt\"</span>\n",
       "    <span style=\"color: #800080; text-decoration-color: #800080; font-weight: bold\">print</span><span style=\"font-weight: bold\">(</span>f\"Path is: <span style=\"font-weight: bold\">{</span><span style=\"color: #800080; text-decoration-color: #800080; font-weight: bold\">req_path.resolve</span><span style=\"font-weight: bold\">()}</span>\"<span style=\"font-weight: bold\">)</span>\n",
       "    assert <span style=\"color: #800080; text-decoration-color: #800080; font-weight: bold\">req_path.exists</span><span style=\"font-weight: bold\">()</span>\n",
       "\n",
       "\n",
       "<span style=\"color: #00ff00; text-decoration-color: #00ff00\">\u2500\u2500\u2500\u2500\u2500\u2500\u2500\u2500\u2500\u2500\u2500\u2500\u2500\u2500\u2500\u2500\u2500\u2500\u2500\u2500\u2500\u2500\u2500\u2500\u2500\u2500\u2500\u2500\u2500\u2500\u2500\u2500\u2500\u2500\u2500\u2500 </span>stdout<span style=\"color: #00ff00; text-decoration-color: #00ff00\"> \u2500\u2500\u2500\u2500\u2500\u2500\u2500\u2500\u2500\u2500\u2500\u2500\u2500\u2500\u2500\u2500\u2500\u2500\u2500\u2500\u2500\u2500\u2500\u2500\u2500\u2500\u2500\u2500\u2500\u2500\u2500\u2500\u2500\u2500\u2500\u2500</span>\n",
       "Path is: \n",
       "<span style=\"color: #800080; text-decoration-color: #800080\">/root/.local/lib/python3.8/site-packages/nbdev_mkdocs/package_data/</span><span style=\"color: #ff00ff; text-decoration-color: #ff00ff\">requirements.</span>\n",
       "<span style=\"color: #ff00ff; text-decoration-color: #ff00ff\">txt</span>\n",
       "\n",
       "<span style=\"color: #00ff00; text-decoration-color: #00ff00\">\u2500\u2500\u2500\u2500\u2500\u2500\u2500\u2500\u2500\u2500\u2500\u2500\u2500\u2500\u2500\u2500\u2500\u2500\u2500\u2500\u2500\u2500\u2500\u2500\u2500\u2500\u2500\u2500\u2500\u2500\u2500\u2500\u2500\u2500\u2500\u2500 </span>stderr<span style=\"color: #00ff00; text-decoration-color: #00ff00\"> \u2500\u2500\u2500\u2500\u2500\u2500\u2500\u2500\u2500\u2500\u2500\u2500\u2500\u2500\u2500\u2500\u2500\u2500\u2500\u2500\u2500\u2500\u2500\u2500\u2500\u2500\u2500\u2500\u2500\u2500\u2500\u2500\u2500\u2500\u2500\u2500</span>\n",
       "\n",
       "</pre>\n"
      ],
      "text/plain": [
       "Example:\n",
       "\u001b[92m\u2500\u2500\u2500\u2500\u2500\u2500\u2500\u2500\u2500\u2500\u2500\u2500\u2500\u2500\u2500\u2500\u2500\u2500\u2500\u2500\u2500\u2500\u2500\u2500\u2500\u2500\u2500\u2500\u2500\u2500\u2500\u2500\u2500\u2500\u2500\u2500\u2500 \u001b[0mcode\u001b[92m \u2500\u2500\u2500\u2500\u2500\u2500\u2500\u2500\u2500\u2500\u2500\u2500\u2500\u2500\u2500\u2500\u2500\u2500\u2500\u2500\u2500\u2500\u2500\u2500\u2500\u2500\u2500\u2500\u2500\u2500\u2500\u2500\u2500\u2500\u2500\u2500\u2500\u001b[0m\n",
       "\n",
       "    from nbdev_mkdocs._package_data import get_root_data_path\n",
       "\n",
       "    req_path = \u001b[1;35mget_root_data_path\u001b[0m\u001b[1m(\u001b[0m\u001b[1m)\u001b[0m \u001b[35m/\u001b[0m \u001b[32m\"requirements.txt\"\u001b[0m\n",
       "    \u001b[1;35mprint\u001b[0m\u001b[1m(\u001b[0mf\"Path is: \u001b[1m{\u001b[0m\u001b[1;35mreq_path.resolve\u001b[0m\u001b[1m(\u001b[0m\u001b[1m)\u001b[0m\u001b[1m}\u001b[0m\"\u001b[1m)\u001b[0m\n",
       "    assert \u001b[1;35mreq_path.exists\u001b[0m\u001b[1m(\u001b[0m\u001b[1m)\u001b[0m\n",
       "\n",
       "\n",
       "\u001b[92m\u2500\u2500\u2500\u2500\u2500\u2500\u2500\u2500\u2500\u2500\u2500\u2500\u2500\u2500\u2500\u2500\u2500\u2500\u2500\u2500\u2500\u2500\u2500\u2500\u2500\u2500\u2500\u2500\u2500\u2500\u2500\u2500\u2500\u2500\u2500\u2500 \u001b[0mstdout\u001b[92m \u2500\u2500\u2500\u2500\u2500\u2500\u2500\u2500\u2500\u2500\u2500\u2500\u2500\u2500\u2500\u2500\u2500\u2500\u2500\u2500\u2500\u2500\u2500\u2500\u2500\u2500\u2500\u2500\u2500\u2500\u2500\u2500\u2500\u2500\u2500\u2500\u001b[0m\n",
       "Path is: \n",
       "\u001b[35m/root/.local/lib/python3.8/site-packages/nbdev_mkdocs/package_data/\u001b[0m\u001b[95mrequirements.\u001b[0m\n",
       "\u001b[95mtxt\u001b[0m\n",
       "\n",
       "\u001b[92m\u2500\u2500\u2500\u2500\u2500\u2500\u2500\u2500\u2500\u2500\u2500\u2500\u2500\u2500\u2500\u2500\u2500\u2500\u2500\u2500\u2500\u2500\u2500\u2500\u2500\u2500\u2500\u2500\u2500\u2500\u2500\u2500\u2500\u2500\u2500\u2500 \u001b[0mstderr\u001b[92m \u2500\u2500\u2500\u2500\u2500\u2500\u2500\u2500\u2500\u2500\u2500\u2500\u2500\u2500\u2500\u2500\u2500\u2500\u2500\u2500\u2500\u2500\u2500\u2500\u2500\u2500\u2500\u2500\u2500\u2500\u2500\u2500\u2500\u2500\u2500\u2500\u001b[0m\n",
       "\n"
      ]
     },
     "metadata": {},
     "output_type": "display_data"
    }
   ],
   "source": [
    "run_examples_from_docstring(get_root_data_path)\n"
   ]
  },
  {
   "cell_type": "code",
   "execution_count": null,
   "id": "7bdd7fc7",
   "metadata": {},
   "outputs": [],
   "source": []
  }
 ],
 "metadata": {
  "kernelspec": {
   "display_name": "Python 3",
   "language": "python",
   "name": "python3"
  }
 },
 "nbformat": 4,
 "nbformat_minor": 5
}