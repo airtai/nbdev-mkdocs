{
 "cells": [
  {
   "cell_type": "code",
   "execution_count": null,
   "id": "fbccfe7a",
   "metadata": {},
   "outputs": [],
   "source": [
    "# | default_exp package_data"
   ]
  },
  {
   "cell_type": "code",
   "execution_count": null,
   "id": "5287b7e1",
   "metadata": {},
   "outputs": [],
   "source": [
    "# | export\n",
    "\n",
    "from typing import *\n",
    "\n",
    "from pathlib import Path"
   ]
  },
  {
   "cell_type": "code",
   "execution_count": null,
   "id": "74fafc5e",
   "metadata": {},
   "outputs": [],
   "source": [
    "# | export\n",
    "\n",
    "\n",
    "def get_root_data_path() -> Path:\n",
    "    \"\"\"Returns path to package_data in lib\n",
    "\n",
    "    Example:\n",
    "        ``` python\n",
    "        from nbdev_mkdocs.package_data import get_root_data_path\n",
    "\n",
    "        req_path = get_root_data_path() / \"requirements.txt\"\n",
    "        print(f\"Path is: {req_path.resolve()}\")\n",
    "        assert req_path.exists()\n",
    "        \n",
    "        ```\n",
    "        \n",
    "    \"\"\"\n",
    "    return Path(__file__).parent / \"package_data\""
   ]
  },
  {
   "cell_type": "code",
   "execution_count": null,
   "id": "208a8e85",
   "metadata": {},
   "outputs": [
    {
     "data": {
      "text/plain": [
       "'Returns path to package_data in lib\\n\\n    Example:\\n        ``` python\\n        from nbdev_mkdocs.package_data import get_root_data_path\\n\\n        req_path = get_root_data_path() / \"requirements.txt\"\\n        print(f\"Path is: {req_path.resolve()}\")\\n        assert req_path.exists()\\n        \\n        ```\\n        \\n    '"
      ]
     },
     "execution_count": null,
     "metadata": {},
     "output_type": "execute_result"
    }
   ],
   "source": [
    "get_root_data_path.__doc__"
   ]
  },
  {
   "cell_type": "code",
   "execution_count": null,
   "id": "5a6d24cb",
   "metadata": {},
   "outputs": [],
   "source": [
    "from nbdev_mkdocs.docstring import run_examples_from_docstring"
   ]
  },
  {
   "cell_type": "code",
   "execution_count": null,
   "id": "3294d5af",
   "metadata": {},
   "outputs": [
    {
     "data": {
      "text/html": [
       "<pre style=\"white-space:pre;overflow-x:auto;line-height:normal;font-family:Menlo,'DejaVu Sans Mono',consolas,'Courier New',monospace\">╭─────────────────────────────────────────────────────────────────────────────────────────────────────────────────╮\n",
       "│ Example:                                                                                                        │\n",
       "│                                                                                                                 │\n",
       "│     from nbdev_mkdocs.package_data import get_root_data_path                                                    │\n",
       "│                                                                                                                 │\n",
       "│     req_path = get_root_data_path() / \"requirements.txt\"                                                        │\n",
       "│     print(f\"Path is: {req_path.resolve()}\")                                                                     │\n",
       "│     assert req_path.exists()                                                                                    │\n",
       "│                                                                                                                 │\n",
       "│                                                                                                                 │\n",
       "│ ╭────────────────────────────────────────────────── stdout ───────────────────────────────────────────────────╮ │\n",
       "│ │ Path is: /root/.local/lib/python3.8/site-packages/nbdev_mkdocs/package_data/requirements.txt                │ │\n",
       "│ │                                                                                                             │ │\n",
       "│ ╰─────────────────────────────────────────────────────────────────────────────────────────────────────────────╯ │\n",
       "│ ╭────────────────────────────────────────────────── stderr ───────────────────────────────────────────────────╮ │\n",
       "│ │                                                                                                             │ │\n",
       "│ ╰─────────────────────────────────────────────────────────────────────────────────────────────────────────────╯ │\n",
       "╰─────────────────────────────────────────────────────────────────────────────────────────────────────────────────╯\n",
       "</pre>\n"
      ],
      "text/plain": [
       "╭─────────────────────────────────────────────────────────────────────────────────────────────────────────────────╮\n",
       "│ Example:                                                                                                        │\n",
       "│                                                                                                                 │\n",
       "│     from nbdev_mkdocs.package_data import get_root_data_path                                                    │\n",
       "│                                                                                                                 │\n",
       "│     req_path = get_root_data_path() / \"requirements.txt\"                                                        │\n",
       "│     print(f\"Path is: {req_path.resolve()}\")                                                                     │\n",
       "│     assert req_path.exists()                                                                                    │\n",
       "│                                                                                                                 │\n",
       "│                                                                                                                 │\n",
       "│ ╭────────────────────────────────────────────────── stdout ───────────────────────────────────────────────────╮ │\n",
       "│ │ Path is: /root/.local/lib/python3.8/site-packages/nbdev_mkdocs/package_data/requirements.txt                │ │\n",
       "│ │                                                                                                             │ │\n",
       "│ ╰─────────────────────────────────────────────────────────────────────────────────────────────────────────────╯ │\n",
       "│ ╭────────────────────────────────────────────────── stderr ───────────────────────────────────────────────────╮ │\n",
       "│ │                                                                                                             │ │\n",
       "│ ╰─────────────────────────────────────────────────────────────────────────────────────────────────────────────╯ │\n",
       "╰─────────────────────────────────────────────────────────────────────────────────────────────────────────────────╯\n"
      ]
     },
     "metadata": {},
     "output_type": "display_data"
    }
   ],
   "source": [
    "run_examples_from_docstring(get_root_data_path)"
   ]
  },
  {
   "cell_type": "code",
   "execution_count": null,
   "id": "7bdd7fc7",
   "metadata": {},
   "outputs": [],
   "source": []
  }
 ],
 "metadata": {
  "kernelspec": {
   "display_name": "Python 3",
   "language": "python",
   "name": "python3"
  }
 },
 "nbformat": 4,
 "nbformat_minor": 5
}
