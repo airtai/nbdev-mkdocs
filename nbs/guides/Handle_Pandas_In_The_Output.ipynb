{
 "cells": [
  {
   "cell_type": "markdown",
   "id": "63611500",
   "metadata": {},
   "source": [
    "# Handling pandas in the output"
   ]
  },
  {
   "cell_type": "markdown",
   "id": "51d740c0",
   "metadata": {},
   "source": [
    "Pandas is a widely used data manipulation library in the data science community. One common use case is to display the results of a data analysis in a Pandas DataFrame.\n",
    "\n",
    "By default, the Pandas DataFrame output will appear unformatted in the documentation. For example, take a look at the sample below which displays the head of a dataframe."
   ]
  },
  {
   "cell_type": "code",
   "execution_count": null,
   "id": "993fdc17",
   "metadata": {},
   "outputs": [],
   "source": [
    "# | hide\n",
    "\n",
    "import warnings\n",
    "warnings.simplefilter(action='ignore', category=FutureWarning)"
   ]
  },
  {
   "cell_type": "code",
   "execution_count": null,
   "id": "d0fb1dc4",
   "metadata": {},
   "outputs": [
    {
     "ename": "ModuleNotFoundError",
     "evalue": "No module named 'pandas'",
     "output_type": "error",
     "traceback": [
      "\u001b[0;31m---------------------------------------------------------------------------\u001b[0m",
      "\u001b[0;31mModuleNotFoundError\u001b[0m                       Traceback (most recent call last)",
      "Cell \u001b[0;32mIn[2], line 1\u001b[0m\n\u001b[0;32m----> 1\u001b[0m \u001b[38;5;28;01mimport\u001b[39;00m \u001b[38;5;21;01mpandas\u001b[39;00m \u001b[38;5;28;01mas\u001b[39;00m \u001b[38;5;21;01mpd\u001b[39;00m\n\u001b[1;32m      3\u001b[0m df \u001b[38;5;241m=\u001b[39m pd\u001b[38;5;241m.\u001b[39mutil\u001b[38;5;241m.\u001b[39mtesting\u001b[38;5;241m.\u001b[39mmakeDataFrame()\n\u001b[1;32m      4\u001b[0m df\u001b[38;5;241m.\u001b[39mhead()\n",
      "\u001b[0;31mModuleNotFoundError\u001b[0m: No module named 'pandas'"
     ]
    }
   ],
   "source": [
    "import pandas as pd\n",
    "\n",
    "df = pd.util.testing.makeDataFrame()\n",
    "df.head()"
   ]
  },
  {
   "cell_type": "markdown",
   "id": "432f726c",
   "metadata": {},
   "source": [
    "The table appears to be plain and lacking the material design style."
   ]
  },
  {
   "cell_type": "markdown",
   "id": "60b6dae9",
   "metadata": {},
   "source": [
    "## Material styled table"
   ]
  },
  {
   "cell_type": "markdown",
   "id": "18d9980a",
   "metadata": {},
   "source": [
    "A simple solution to enhance the appearance of the Pandas DataFrame table is to use the `DataFrame.style` attribute while displaying the output."
   ]
  },
  {
   "cell_type": "code",
   "execution_count": null,
   "id": "30f6d803",
   "metadata": {},
   "outputs": [],
   "source": [
    "df.head().style"
   ]
  }
 ],
 "metadata": {
  "kernelspec": {
   "display_name": "Python 3 (ipykernel)",
   "language": "python",
   "name": "python3"
  }
 },
 "nbformat": 4,
 "nbformat_minor": 5
}
