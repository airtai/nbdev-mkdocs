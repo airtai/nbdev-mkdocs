{
 "cells": [
  {
   "cell_type": "markdown",
   "metadata": {},
   "source": [
    "# Getting Started"
   ]
  },
  {
   "cell_type": "markdown",
   "metadata": {},
   "source": [
    "**nbdev_mkdocs** is a nbdev extension that allows you to use Material for Mkdocs instead of Quarto to generate documentation from notebooks. "
   ]
  },
  {
   "cell_type": "markdown",
   "metadata": {},
   "source": [
    "## Installation\n",
    "**nbdev_mkdocs** is published as a Python package and can be installed with pip:\n",
    "\n",
    "``` py\n",
    "pip install nbdev_mkdocs\n",
    "```\n",
    "\n",
    "!!! note\n",
    "\n",
    "    **nbdev_mkdocs** must be installed into the same Python environment that you use for your project.\n",
    "\n",
    "If the installation was successful, you should now have the **nbdev_mkdocs** installed on your system. Run **nbdev_mkdocs --help** from the terminal to see the full list of available commands:"
   ]
  },
  {
   "cell_type": "code",
   "execution_count": 1,
   "metadata": {},
   "outputs": [
    {
     "name": "stdout",
     "output_type": "stream",
     "text": [
      "\u001b[1m                                                                                \u001b[0m\r\n",
      "\u001b[1m \u001b[0m\u001b[1;33mUsage: \u001b[0m\u001b[1mnbdev_mkdocs [OPTIONS] COMMAND [ARGS]...\u001b[0m\u001b[1m                               \u001b[0m\u001b[1m \u001b[0m\r\n",
      "\u001b[1m                                                                                \u001b[0m\r\n",
      "\u001b[2m╭─\u001b[0m\u001b[2m Options \u001b[0m\u001b[2m───────────────────────────────────────────────────────────────────\u001b[0m\u001b[2m─╮\u001b[0m\r\n",
      "\u001b[2m│\u001b[0m \u001b[1;36m-\u001b[0m\u001b[1;36m-install\u001b[0m\u001b[1;36m-completion\u001b[0m          Install completion for the current shell.      \u001b[2m│\u001b[0m\r\n",
      "\u001b[2m│\u001b[0m \u001b[1;36m-\u001b[0m\u001b[1;36m-show\u001b[0m\u001b[1;36m-completion\u001b[0m             Show completion for the current shell, to copy \u001b[2m│\u001b[0m\r\n",
      "\u001b[2m│\u001b[0m                               it or customize the installation.              \u001b[2m│\u001b[0m\r\n",
      "\u001b[2m│\u001b[0m \u001b[1;36m-\u001b[0m\u001b[1;36m-help\u001b[0m                        Show this message and exit.                    \u001b[2m│\u001b[0m\r\n",
      "\u001b[2m╰──────────────────────────────────────────────────────────────────────────────╯\u001b[0m\r\n",
      "\u001b[2m╭─\u001b[0m\u001b[2m Commands \u001b[0m\u001b[2m──────────────────────────────────────────────────────────────────\u001b[0m\u001b[2m─╮\u001b[0m\r\n",
      "\u001b[2m│\u001b[0m \u001b[1;36mnew    \u001b[0m\u001b[1;36m \u001b[0m Creates files in **mkdocs** subdirectory needed for other           \u001b[2m│\u001b[0m\r\n",
      "\u001b[2m│\u001b[0m \u001b[1;36m        \u001b[0m **nbdev_mkdocs** subcommands                                        \u001b[2m│\u001b[0m\r\n",
      "\u001b[2m│\u001b[0m \u001b[1;36mprepare\u001b[0m\u001b[1;36m \u001b[0m Prepares files in **mkdocs/docs** and then runs **mkdocs build**    \u001b[2m│\u001b[0m\r\n",
      "\u001b[2m│\u001b[0m \u001b[1;36m        \u001b[0m command on them                                                     \u001b[2m│\u001b[0m\r\n",
      "\u001b[2m│\u001b[0m \u001b[1;36mpreview\u001b[0m\u001b[1;36m \u001b[0m Prepares files in **mkdocs/docs** and then runs **mkdocs serve**    \u001b[2m│\u001b[0m\r\n",
      "\u001b[2m│\u001b[0m \u001b[1;36m        \u001b[0m command on them                                                     \u001b[2m│\u001b[0m\r\n",
      "\u001b[2m╰──────────────────────────────────────────────────────────────────────────────╯\u001b[0m\r\n",
      "\r\n"
     ]
    }
   ],
   "source": [
    "!nbdev_mkdocs --help"
   ]
  }
 ],
 "metadata": {
  "kernelspec": {
   "display_name": "Python 3",
   "language": "python",
   "name": "python3"
  },
  "language_info": {
   "codemirror_mode": {
    "name": "ipython",
    "version": 3
   },
   "file_extension": ".py",
   "mimetype": "text/x-python",
   "name": "python",
   "nbconvert_exporter": "python",
   "pygments_lexer": "ipython3",
   "version": "3.8.10"
  }
 },
 "nbformat": 4,
 "nbformat_minor": 4
}
