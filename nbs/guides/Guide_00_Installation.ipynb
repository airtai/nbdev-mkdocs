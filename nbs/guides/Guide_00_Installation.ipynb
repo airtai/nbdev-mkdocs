{
 "cells": [
  {
   "cell_type": "markdown",
   "metadata": {},
   "source": [
    "# Getting Started"
   ]
  },
  {
   "cell_type": "markdown",
   "metadata": {},
   "source": [
    "**nbdev_mkdocs** is a nbdev extension that allows you to use Material for Mkdocs instead of Quarto to generate documentation from notebooks. "
   ]
  },
  {
   "cell_type": "markdown",
   "metadata": {},
   "source": [
    "## Installation\n",
    "**nbdev_mkdocs** is published as a Python package and can be installed with pip:\n",
    "\n",
    "``` py\n",
    "pip install nbdev_mkdocs\n",
    "```\n",
    "\n",
    "!!! note\n",
    "\n",
    "    **nbdev_mkdocs** must be installed into the same Python environment that you use for your project.\n",
    "\n",
    "If the installation was successful, you should now have the **nbdev_mkdocs** installed on your system. Run the below command from the terminal to see the full list of available commands:"
   ]
  },
  {
   "cell_type": "markdown",
   "metadata": {},
   "source": [
    "``` shell\n",
    "nbdev_mkdocs --help\n",
    "```\n",
    "\n",
    "``` shell\n",
    "Usage: nbdev_mkdocs [OPTIONS] COMMAND [ARGS]...                                \n",
    "                                                                                \n",
    "╭─ Options ────────────────────────────────────────────────────────────────────╮\n",
    "│ --install-completion          Install completion for the current shell.      │\n",
    "│ --show-completion             Show completion for the current shell, to copy │\n",
    "│                               it or customize the installation.              │\n",
    "│ --help                        Show this message and exit.                    │\n",
    "╰──────────────────────────────────────────────────────────────────────────────╯\n",
    "╭─ Commands ───────────────────────────────────────────────────────────────────╮\n",
    "│ new      Creates files in **mkdocs** subdirectory needed for other           │\n",
    "│          **nbdev_mkdocs** subcommands                                        │\n",
    "│ prepare  Prepares files in **mkdocs/docs** and then runs **mkdocs build**    │\n",
    "│          command on them                                                     │\n",
    "│ preview  Prepares files in **mkdocs/docs** and then runs **mkdocs serve**    │\n",
    "│          command on them                                                     │\n",
    "╰──────────────────────────────────────────────────────────────────────────────╯\n",
    "```"
   ]
  }
 ],
 "metadata": {
  "kernelspec": {
   "display_name": "Python 3",
   "language": "python",
   "name": "python3"
  }
 },
 "nbformat": 4,
 "nbformat_minor": 4
}
