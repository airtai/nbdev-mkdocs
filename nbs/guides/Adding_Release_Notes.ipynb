{
 "cells": [
  {
   "cell_type": "markdown",
   "id": "d42e50e8",
   "metadata": {},
   "source": [
    "# Adding release notes"
   ]
  },
  {
   "cell_type": "markdown",
   "id": "41ee40fc",
   "metadata": {},
   "source": [
    "Material for nbdev uses `CHANGELOG.md` as release notes in the documentation. If the `CHANGELOG.md` file is not found in the project root directory, a default page under the `Releases` tab will be displayed, explaining how to generate the `CHANGELOG.md`, as shown below:\n",
    "\n",
    "![](images/releases_default.png)\n",
    "\n",
    "\n",
    "<!-- Just like the CLI menu, if the `CHANGELOG.md` file is not present in the project root directory, a default page will be displayed when you click on the `Releases` menu in the sidebar. Please click on the `Releases` menu and it should look like:\n",
    "\n",
    "![](images/releases_default.png)\n",
    " -->\n",
    " \n",
    "Let's follow the above steps and create a `CHANGELOG.md` file for our `nbdev_mkdocs_tutorial` project.\n",
    "\n",
    ":::{.callout-note}\n",
    "You'll need a GitHub <a href=\"https://docs.github.com/en/authentication/keeping-your-account-and-data-secure/creating-a-personal-access-token\" target=\"_blank\">personal access token</a> to generate the changelog. Please see the <a href=\"https://nbdev.fast.ai/api/release.html#setup\" target=\"_blank\">nbdev documentation</a> for more information on how to create and configure a new token.\n",
    ":::\n",
    "\n",
    "Now, copy your GitHub personal access token and paste it into a file called `token` in the root of your repository. To do so, run the following command from the project root directory:\n",
    "\n",
    ":::{.callout-note}\n",
    "\n",
    "    - In the following command replace {XXX} with your GitHub personal access token.\n",
    "\n",
    ":::\n",
    "\n",
    "```shell\n",
    "echo {XXX} > token\n",
    "```\n",
    "\n",
    "Also, ensure that the `token` file isn’t added to git, by running this in your terminal\n",
    "```shell\n",
    "echo token >> .gitignore\n",
    "```\n",
    "\n",
    "Now, run the following command from the project root directory to generate the changelog:\n",
    "\n",
    "```shell\n",
    "nbdev_changelog\n",
    "```\n",
    "\n",
    "The above command will generate the files `CHANGELOG.md` and `CHANGELOG.bak` in the project root directory. Run the following commands in the terminal to preview the changes in the browser:\n",
    "\n",
    "```shell\n",
    "nbdev_mkdocs preview\n",
    "```\n",
    "\n",
    "Now, please click on the `Releases` menu and the documentation should look like this:\n",
    "\n",
    "![](images/releases.png)\n"
   ]
  }
 ],
 "metadata": {
  "kernelspec": {
   "display_name": "python3",
   "language": "python",
   "name": "python3"
  }
 },
 "nbformat": 4,
 "nbformat_minor": 5
}
