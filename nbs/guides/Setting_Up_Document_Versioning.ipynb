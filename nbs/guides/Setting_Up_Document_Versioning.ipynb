{
 "cells": [
  {
   "cell_type": "markdown",
   "id": "b7d11471",
   "metadata": {},
   "source": [
    "# Setting up document versioning"
   ]
  },
  {
   "cell_type": "markdown",
   "id": "f089759c",
   "metadata": {},
   "source": [
    "Material for nbdev makes deploying multiple versions of your project documentation simple and convenient. It comes equipped with <a href=\"https://github.com/jimporter/mike\" target=\"_blank\">mike</a>, a Python tool that helps deploy multiple versions of your MkDocs docs to a Git branch, ideal for hosting on Github Pages."
   ]
  },
  {
   "cell_type": "markdown",
   "id": "bfe4220c",
   "metadata": {},
   "source": [
    "## Enabling document versioning\n",
    "\n",
    "Enabling document versioning in Material for nbdev is easy. Just add the `docs_versioning` flag to your `settings.ini` file with one of the following values:\n",
    "\n",
    "1. `docs_versioning=None` disables versioning.\n",
    "2. `docs_versioning=minor` deploys document in `<major>.<minor>` format and reads the version from the `settings.ini` file. Newer patch versions will replace previous minor versions (e.g. 1.0.1 replaces 1.0 and becomes the new 1.0 version).\n",
    "3. `docs_versioning=patch` deploys document in `<major>.<minor>.<patch>` format (e.g. 1.0.0, 1.0.1) and reads the version from the settings.ini file.\n",
    "\n",
    "We recommend setting `docs_versioning=minor` to limit the number of deployments while keeping all patch version changes. This also helps to keep your Git repository small.\n",
    "\n",
    "!!! note\n",
    "    \n",
    "    Regardless of whether `docs_versioning` is set to `minor` or `patch`, the documentation for the pre-release versions such as `1.0.0rc0` or `1.0.0dev` will be deployed as-is.\n",
    "\n",
    "Push the change to Git and wait for the `pages build and deployment` GitHub action to complete. After that, view the project documentation URL to see the latest changes. To access different versions, use the version selector in the header (a reference screenshot is provided below).\n",
    "\n",
    "![](images/doc_versioning.png)\n",
    "\n",
    "If you visit older or pre-release versions of the documentation, you'll see a friendly warning in the header like below. Clicking on `Click here to go to latest` link will redirect you to the latest version.\n",
    "\n",
    "![](images/doc_versioning_version_warning.png)\n",
    "\n",
    "!!! note\n",
    "\n",
    "    If you enable documentation versioning for the first time and deploy a pre-release candidate version, the version warning will appear in the header since there are no prior stable versions. To resolve this, please set the `default` flag to `dev` in the `mkdocs/mkdocs.yml` file like below.\n",
    "    \n",
    "    ```yaml\n",
    "    extra:\n",
    "      version:\n",
    "        provider: mike\n",
    "        default: dev\n",
    "    ```\n",
    "    \n",
    "    This will set the latest version to the pre-release version you're deploying. Please remove the `default` flag or set it to `latest` when deploying the stable version.\n"
   ]
  },
  {
   "cell_type": "markdown",
   "id": "fc71ddfb",
   "metadata": {},
   "source": [
    "## Deleting deployed pre-release documents\n",
    "\n",
    "To delete all the deployed pre-release document versions, run the following CLI command from the project root directory and follow the on-screen instructions:\n",
    "\n",
    "```bash\n",
    "nbdev_mkdocs delete-pre-release-docs\n",
    "```"
   ]
  },
  {
   "cell_type": "markdown",
   "id": "752f4aeb",
   "metadata": {},
   "source": [
    "For additional configurations for managing the deployed document versions, please check <a href=\"https://github.com/jimporter/mike\" target=\"_blank\">mike's</a> documentation."
   ]
  },
  {
   "cell_type": "code",
   "execution_count": null,
   "id": "869b5c23",
   "metadata": {},
   "outputs": [],
   "source": []
  }
 ],
 "metadata": {
  "kernelspec": {
   "display_name": "Python 3 (ipykernel)",
   "language": "python",
   "name": "python3"
  }
 },
 "nbformat": 4,
 "nbformat_minor": 5
}
