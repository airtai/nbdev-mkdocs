{
 "cells": [
  {
   "cell_type": "markdown",
   "id": "b7d11471",
   "metadata": {},
   "source": [
    "# Setting up document versioning"
   ]
  },
  {
   "cell_type": "markdown",
   "id": "f089759c",
   "metadata": {},
   "source": [
    "Material for nbdev makes deploying multiple versions of your project documentation simple and convenient. It comes equipped with <a href=\"https://github.com/jimporter/mike\" target=\"_blank\">mike</a>, a Python tool that helps deploy multiple versions of your MkDocs docs to a Git branch, ideal for hosting on Github Pages."
   ]
  },
  {
   "cell_type": "markdown",
   "id": "bfe4220c",
   "metadata": {},
   "source": [
    "## Enabling document versioning\n",
    "\n",
    "Enabling document versioning in Material for nbdev is easy. Just add the `docs_versioning` flag to your `settings.ini` file with one of the following values:\n",
    "\n",
    "1. `docs_versioning=None` disables versioning.\n",
    "2. `docs_versioning=minor` deploys document in `<major>.<minor>` format and reads the version from the `settings.ini` file. Newer patch versions will replace previous minor versions (e.g. 1.0.1 replaces 1.0 and becomes the new 1.0 version).\n",
    "3. `docs_versioning=patch` deploys document in `<major>.<minor>.<patch>` format (e.g. 1.0.0, 1.0.1) and reads the version from the settings.ini file.\n",
    "    \n",
    "We recommend `docs_versioning=minor` to limit deployments to `<major>.<minor>` format and keep all changes from patch versions. This also helps keep the size of your Git repo small.\n",
    "\n",
    "!!! note\n",
    "    \n",
    "    Regardless of whether `docs_versioning` is set to `minor` or `patch`, release candidate versions such as `1.0.0rc0` or `1.0.0dev` will be deployed as-is.\n"
   ]
  },
  {
   "cell_type": "markdown",
   "id": "f6bc69be",
   "metadata": {},
   "source": [
    "## Deploying a new document version\n",
    "\n",
    "After enabling document versioning in `settings.ini` file, build documentation using `nbdev_mkdocs docs` or `nbdev_mkdocs prepare`. This will configure the `.github/workflows/deploy.yaml` file with the necessary settings. Review and push the changes to Git. Once the deployment action is complete, check the project documentation URL to see the changes. To select the versions, use the version selector in the header; a reference screenshot is provided below.\n",
    "\n",
    "!!! note\n",
    "\n",
    "    When a user accesses the project documentation URL, they will be redirected to the default version, which is currently set as `latest`. If you wish to change it to another name, such as `stable`, edit the default value in the mkdocs.yml file prior to pushing your changes to Git.\n",
    "\n",
    "    ```yaml\n",
    "    extra:\n",
    "      version:\n",
    "        default: latest\n",
    "    ```\n",
    "    \n",
    "\n",
    "\n",
    "![](images/doc_versioning.png)"
   ]
  },
  {
   "cell_type": "markdown",
   "id": "fc71ddfb",
   "metadata": {},
   "source": [
    "## Deleting deployed release candidates\n",
    "\n",
    "Material for nbdev makes it easy to manage and delete deployed release candidate document versions. To delete all or selectively delete release candidate versions, use the `nbdev_mkdocs delete-doc-versions` command and follow the on-screen instructions. To view current configuration options, run the same command in the terminal.\n",
    "\n",
    "```bash\n",
    "nbdev_mkdocs delete-doc-versions --help\n",
    "```"
   ]
  },
  {
   "cell_type": "code",
   "execution_count": null,
   "id": "2fe7ed7b",
   "metadata": {},
   "outputs": [
    {
     "name": "stdout",
     "output_type": "stream",
     "text": [
      "\u001b[1m                                                                                \u001b[0m\r\n",
      "\u001b[1m \u001b[0m\u001b[1;33mUsage: \u001b[0m\u001b[1mnbdev_mkdocs delete-doc-versions [OPTIONS]\u001b[0m\u001b[1m                             \u001b[0m\u001b[1m \u001b[0m\r\n",
      "\u001b[1m                                                                                \u001b[0m\r\n",
      " Delete the deployed release candidate documentation versions.                  \r\n",
      "                                                                                \r\n",
      "\u001b[2m╭─\u001b[0m\u001b[2m Options \u001b[0m\u001b[2m───────────────────────────────────────────────────────────────────\u001b[0m\u001b[2m─╮\u001b[0m\r\n",
      "\u001b[2m│\u001b[0m \u001b[1;36m-\u001b[0m\u001b[1;36m-branch\u001b[0m       \u001b[1;32m-b\u001b[0m                 \u001b[1;33mTEXT\u001b[0m  The branch name to commit to         \u001b[2m│\u001b[0m\r\n",
      "\u001b[2m│\u001b[0m                                         \u001b[2m[default: gh-pages]         \u001b[0m         \u001b[2m│\u001b[0m\r\n",
      "\u001b[2m│\u001b[0m \u001b[1;36m-\u001b[0m\u001b[1;36m-remote\u001b[0m       \u001b[1;32m-r\u001b[0m                 \u001b[1;33mTEXT\u001b[0m  The origin name to push to           \u001b[2m│\u001b[0m\r\n",
      "\u001b[2m│\u001b[0m                                         \u001b[2m[default: origin]         \u001b[0m           \u001b[2m│\u001b[0m\r\n",
      "\u001b[2m│\u001b[0m \u001b[1;36m-\u001b[0m\u001b[1;36m-config\u001b[0m\u001b[1;36m-file\u001b[0m  \u001b[1;32m-F\u001b[0m                 \u001b[1;33mTEXT\u001b[0m  The MkDocs configuration file to use \u001b[2m│\u001b[0m\r\n",
      "\u001b[2m│\u001b[0m                                         \u001b[2m[default: mkdocs/mkdocs.yml]        \u001b[0m \u001b[2m│\u001b[0m\r\n",
      "\u001b[2m│\u001b[0m \u001b[1;36m-\u001b[0m\u001b[1;36m-rebase\u001b[0m           \u001b[1;35m-\u001b[0m\u001b[1;35m-no\u001b[0m\u001b[1;35m-rebase\u001b[0m    \u001b[1;33m    \u001b[0m  Rebase with remote brancj            \u001b[2m│\u001b[0m\r\n",
      "\u001b[2m│\u001b[0m                                         \u001b[2m[default: rebase]        \u001b[0m            \u001b[2m│\u001b[0m\r\n",
      "\u001b[2m│\u001b[0m \u001b[1;36m-\u001b[0m\u001b[1;36m-ignore\u001b[0m           \u001b[1;35m-\u001b[0m\u001b[1;35m-no\u001b[0m\u001b[1;35m-ignore\u001b[0m    \u001b[1;33m    \u001b[0m  Ignore remote status                 \u001b[2m│\u001b[0m\r\n",
      "\u001b[2m│\u001b[0m                                         \u001b[2m[default: no-ignore]\u001b[0m                 \u001b[2m│\u001b[0m\r\n",
      "\u001b[2m│\u001b[0m \u001b[1;36m-\u001b[0m\u001b[1;36m-prefix\u001b[0m                          \u001b[1;33mTEXT\u001b[0m  Subdirectory within {branch} where   \u001b[2m│\u001b[0m\r\n",
      "\u001b[2m│\u001b[0m                                         the docs are located                 \u001b[2m│\u001b[0m\r\n",
      "\u001b[2m│\u001b[0m                                         \u001b[2m[default: None]                     \u001b[0m \u001b[2m│\u001b[0m\r\n",
      "\u001b[2m│\u001b[0m \u001b[1;36m-\u001b[0m\u001b[1;36m-help\u001b[0m                            \u001b[1;33m    \u001b[0m  Show this message and exit.          \u001b[2m│\u001b[0m\r\n",
      "\u001b[2m╰──────────────────────────────────────────────────────────────────────────────╯\u001b[0m\r\n",
      "\r\n"
     ]
    }
   ],
   "source": [
    "# | echo: false\n",
    "\n",
    "!nbdev_mkdocs delete-doc-versions --help"
   ]
  },
  {
   "cell_type": "markdown",
   "id": "752f4aeb",
   "metadata": {},
   "source": [
    "For additional information and detailed options for managing the deployed versions, please refer to <a href=\"https://github.com/jimporter/mike\" target=\"_blank\">mike's</a> documentation."
   ]
  }
 ],
 "metadata": {
  "kernelspec": {
   "display_name": "Python 3 (ipykernel)",
   "language": "python",
   "name": "python3"
  }
 },
 "nbformat": 4,
 "nbformat_minor": 5
}
