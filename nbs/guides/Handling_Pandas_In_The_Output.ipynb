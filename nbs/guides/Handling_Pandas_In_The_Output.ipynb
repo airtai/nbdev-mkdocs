{
 "cells": [
  {
   "cell_type": "markdown",
   "id": "63611500",
   "metadata": {},
   "source": [
    "# Handling pandas in the output"
   ]
  },
  {
   "cell_type": "markdown",
   "id": "51d740c0",
   "metadata": {},
   "source": [
    "Pandas is a widely used data manipulation library in the data science community. One common use case is to display the results of a data analysis in a Pandas DataFrame.\n",
    "\n",
    "By default, the Pandas DataFrame output will appear unformatted in the documentation. For example, take a look at the sample below which displays the head of a dataframe."
   ]
  },
  {
   "cell_type": "code",
   "execution_count": null,
   "id": "993fdc17",
   "metadata": {},
   "outputs": [],
   "source": [
    "# | hide\n",
    "\n",
    "import warnings\n",
    "\n",
    "warnings.simplefilter(action=\"ignore\", category=FutureWarning)"
   ]
  },
  {
   "cell_type": "code",
   "execution_count": null,
   "id": "d0fb1dc4",
   "metadata": {},
   "outputs": [
    {
     "data": {
      "text/html": [
       "<div>\n",
       "<style scoped>\n",
       "    .dataframe tbody tr th:only-of-type {\n",
       "        vertical-align: middle;\n",
       "    }\n",
       "\n",
       "    .dataframe tbody tr th {\n",
       "        vertical-align: top;\n",
       "    }\n",
       "\n",
       "    .dataframe thead th {\n",
       "        text-align: right;\n",
       "    }\n",
       "</style>\n",
       "<table border=\"1\" class=\"dataframe\">\n",
       "  <thead>\n",
       "    <tr style=\"text-align: right;\">\n",
       "      <th></th>\n",
       "      <th>A</th>\n",
       "      <th>B</th>\n",
       "      <th>C</th>\n",
       "      <th>D</th>\n",
       "    </tr>\n",
       "  </thead>\n",
       "  <tbody>\n",
       "    <tr>\n",
       "      <th>rLc2n1qWZG</th>\n",
       "      <td>-0.965469</td>\n",
       "      <td>-1.142862</td>\n",
       "      <td>-1.427434</td>\n",
       "      <td>0.301794</td>\n",
       "    </tr>\n",
       "    <tr>\n",
       "      <th>G54tM9ysyl</th>\n",
       "      <td>-1.074022</td>\n",
       "      <td>-1.069067</td>\n",
       "      <td>-0.790344</td>\n",
       "      <td>-0.204448</td>\n",
       "    </tr>\n",
       "    <tr>\n",
       "      <th>LjjfJhQ1tb</th>\n",
       "      <td>-1.267221</td>\n",
       "      <td>-0.208394</td>\n",
       "      <td>1.101776</td>\n",
       "      <td>-0.705727</td>\n",
       "    </tr>\n",
       "    <tr>\n",
       "      <th>iLEBa0Mo1o</th>\n",
       "      <td>-0.725662</td>\n",
       "      <td>-0.331378</td>\n",
       "      <td>0.055890</td>\n",
       "      <td>-0.073847</td>\n",
       "    </tr>\n",
       "    <tr>\n",
       "      <th>I9gxbActLA</th>\n",
       "      <td>0.229448</td>\n",
       "      <td>0.121855</td>\n",
       "      <td>-0.534225</td>\n",
       "      <td>-0.990810</td>\n",
       "    </tr>\n",
       "  </tbody>\n",
       "</table>\n",
       "</div>"
      ],
      "text/plain": [
       "                   A         B         C         D\n",
       "rLc2n1qWZG -0.965469 -1.142862 -1.427434  0.301794\n",
       "G54tM9ysyl -1.074022 -1.069067 -0.790344 -0.204448\n",
       "LjjfJhQ1tb -1.267221 -0.208394  1.101776 -0.705727\n",
       "iLEBa0Mo1o -0.725662 -0.331378  0.055890 -0.073847\n",
       "I9gxbActLA  0.229448  0.121855 -0.534225 -0.990810"
      ]
     },
     "execution_count": null,
     "metadata": {},
     "output_type": "execute_result"
    }
   ],
   "source": [
    "import pandas as pd\n",
    "\n",
    "df = pd.util.testing.makeDataFrame()\n",
    "df.head()"
   ]
  },
  {
   "cell_type": "markdown",
   "id": "60b6dae9",
   "metadata": {},
   "source": [
    "## Material styled table"
   ]
  },
  {
   "cell_type": "markdown",
   "id": "18d9980a",
   "metadata": {},
   "source": [
    "A simple solution to enhance the appearance of the Pandas DataFrame table is to use the `DataFrame.style` attribute while displaying the output."
   ]
  },
  {
   "cell_type": "code",
   "execution_count": null,
   "id": "30f6d803",
   "metadata": {},
   "outputs": [
    {
     "data": {
      "text/html": [
       "<style type=\"text/css\">\n",
       "</style>\n",
       "<table id=\"T_9af12\">\n",
       "  <thead>\n",
       "    <tr>\n",
       "      <th class=\"blank level0\" >&nbsp;</th>\n",
       "      <th id=\"T_9af12_level0_col0\" class=\"col_heading level0 col0\" >A</th>\n",
       "      <th id=\"T_9af12_level0_col1\" class=\"col_heading level0 col1\" >B</th>\n",
       "      <th id=\"T_9af12_level0_col2\" class=\"col_heading level0 col2\" >C</th>\n",
       "      <th id=\"T_9af12_level0_col3\" class=\"col_heading level0 col3\" >D</th>\n",
       "    </tr>\n",
       "  </thead>\n",
       "  <tbody>\n",
       "    <tr>\n",
       "      <th id=\"T_9af12_level0_row0\" class=\"row_heading level0 row0\" >rLc2n1qWZG</th>\n",
       "      <td id=\"T_9af12_row0_col0\" class=\"data row0 col0\" >-0.965469</td>\n",
       "      <td id=\"T_9af12_row0_col1\" class=\"data row0 col1\" >-1.142862</td>\n",
       "      <td id=\"T_9af12_row0_col2\" class=\"data row0 col2\" >-1.427434</td>\n",
       "      <td id=\"T_9af12_row0_col3\" class=\"data row0 col3\" >0.301794</td>\n",
       "    </tr>\n",
       "    <tr>\n",
       "      <th id=\"T_9af12_level0_row1\" class=\"row_heading level0 row1\" >G54tM9ysyl</th>\n",
       "      <td id=\"T_9af12_row1_col0\" class=\"data row1 col0\" >-1.074022</td>\n",
       "      <td id=\"T_9af12_row1_col1\" class=\"data row1 col1\" >-1.069067</td>\n",
       "      <td id=\"T_9af12_row1_col2\" class=\"data row1 col2\" >-0.790344</td>\n",
       "      <td id=\"T_9af12_row1_col3\" class=\"data row1 col3\" >-0.204448</td>\n",
       "    </tr>\n",
       "    <tr>\n",
       "      <th id=\"T_9af12_level0_row2\" class=\"row_heading level0 row2\" >LjjfJhQ1tb</th>\n",
       "      <td id=\"T_9af12_row2_col0\" class=\"data row2 col0\" >-1.267221</td>\n",
       "      <td id=\"T_9af12_row2_col1\" class=\"data row2 col1\" >-0.208394</td>\n",
       "      <td id=\"T_9af12_row2_col2\" class=\"data row2 col2\" >1.101776</td>\n",
       "      <td id=\"T_9af12_row2_col3\" class=\"data row2 col3\" >-0.705727</td>\n",
       "    </tr>\n",
       "    <tr>\n",
       "      <th id=\"T_9af12_level0_row3\" class=\"row_heading level0 row3\" >iLEBa0Mo1o</th>\n",
       "      <td id=\"T_9af12_row3_col0\" class=\"data row3 col0\" >-0.725662</td>\n",
       "      <td id=\"T_9af12_row3_col1\" class=\"data row3 col1\" >-0.331378</td>\n",
       "      <td id=\"T_9af12_row3_col2\" class=\"data row3 col2\" >0.055890</td>\n",
       "      <td id=\"T_9af12_row3_col3\" class=\"data row3 col3\" >-0.073847</td>\n",
       "    </tr>\n",
       "    <tr>\n",
       "      <th id=\"T_9af12_level0_row4\" class=\"row_heading level0 row4\" >I9gxbActLA</th>\n",
       "      <td id=\"T_9af12_row4_col0\" class=\"data row4 col0\" >0.229448</td>\n",
       "      <td id=\"T_9af12_row4_col1\" class=\"data row4 col1\" >0.121855</td>\n",
       "      <td id=\"T_9af12_row4_col2\" class=\"data row4 col2\" >-0.534225</td>\n",
       "      <td id=\"T_9af12_row4_col3\" class=\"data row4 col3\" >-0.990810</td>\n",
       "    </tr>\n",
       "  </tbody>\n",
       "</table>\n"
      ],
      "text/plain": [
       "<pandas.io.formats.style.Styler>"
      ]
     },
     "execution_count": null,
     "metadata": {},
     "output_type": "execute_result"
    }
   ],
   "source": [
    "df.head().style"
   ]
  }
 ],
 "metadata": {
  "kernelspec": {
   "display_name": "Python 3 (ipykernel)",
   "language": "python",
   "name": "python3"
  }
 },
 "nbformat": 4,
 "nbformat_minor": 5
}
