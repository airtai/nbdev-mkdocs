{
 "cells": [
  {
   "cell_type": "markdown",
   "id": "63611500",
   "metadata": {},
   "source": [
    "# Handling pandas in the output"
   ]
  },
  {
   "cell_type": "markdown",
   "id": "51d740c0",
   "metadata": {},
   "source": [
    "Pandas is a widely used data manipulation library in the data science community. One common use case is to display the results of a data analysis in a Pandas DataFrame.\n",
    "\n",
    "By default, the Pandas DataFrame output will appear unformatted in the documentation. For example, take a look at the sample below which displays the head of a dataframe."
   ]
  },
  {
   "cell_type": "code",
   "execution_count": null,
   "id": "993fdc17",
   "metadata": {},
   "outputs": [],
   "source": [
    "# | hide\n",
    "\n",
    "import warnings\n",
    "\n",
    "warnings.simplefilter(action=\"ignore\", category=FutureWarning)"
   ]
  },
  {
   "cell_type": "code",
   "execution_count": null,
   "id": "d0fb1dc4",
   "metadata": {},
   "outputs": [
    {
     "data": {
      "text/html": [
       "<div>\n",
       "<style scoped>\n",
       "    .dataframe tbody tr th:only-of-type {\n",
       "        vertical-align: middle;\n",
       "    }\n",
       "\n",
       "    .dataframe tbody tr th {\n",
       "        vertical-align: top;\n",
       "    }\n",
       "\n",
       "    .dataframe thead th {\n",
       "        text-align: right;\n",
       "    }\n",
       "</style>\n",
       "<table border=\"1\" class=\"dataframe\">\n",
       "  <thead>\n",
       "    <tr style=\"text-align: right;\">\n",
       "      <th></th>\n",
       "      <th>A</th>\n",
       "      <th>B</th>\n",
       "      <th>C</th>\n",
       "      <th>D</th>\n",
       "    </tr>\n",
       "  </thead>\n",
       "  <tbody>\n",
       "    <tr>\n",
       "      <th>ivg9ixSxDo</th>\n",
       "      <td>1.264618</td>\n",
       "      <td>0.203053</td>\n",
       "      <td>-2.442362</td>\n",
       "      <td>-0.516247</td>\n",
       "    </tr>\n",
       "    <tr>\n",
       "      <th>bRNJF1RHWH</th>\n",
       "      <td>-0.787963</td>\n",
       "      <td>0.854282</td>\n",
       "      <td>-0.869654</td>\n",
       "      <td>-0.728221</td>\n",
       "    </tr>\n",
       "    <tr>\n",
       "      <th>vliKOHWXsI</th>\n",
       "      <td>0.258019</td>\n",
       "      <td>0.483411</td>\n",
       "      <td>0.763769</td>\n",
       "      <td>-0.492340</td>\n",
       "    </tr>\n",
       "    <tr>\n",
       "      <th>SYL8OXVAJn</th>\n",
       "      <td>-2.283325</td>\n",
       "      <td>1.527951</td>\n",
       "      <td>-0.377158</td>\n",
       "      <td>0.842766</td>\n",
       "    </tr>\n",
       "    <tr>\n",
       "      <th>RJodiV7XBV</th>\n",
       "      <td>0.424837</td>\n",
       "      <td>0.597266</td>\n",
       "      <td>-1.109220</td>\n",
       "      <td>-0.957034</td>\n",
       "    </tr>\n",
       "  </tbody>\n",
       "</table>\n",
       "</div>"
      ],
      "text/plain": [
       "                   A         B         C         D\n",
       "ivg9ixSxDo  1.264618  0.203053 -2.442362 -0.516247\n",
       "bRNJF1RHWH -0.787963  0.854282 -0.869654 -0.728221\n",
       "vliKOHWXsI  0.258019  0.483411  0.763769 -0.492340\n",
       "SYL8OXVAJn -2.283325  1.527951 -0.377158  0.842766\n",
       "RJodiV7XBV  0.424837  0.597266 -1.109220 -0.957034"
      ]
     },
     "execution_count": null,
     "metadata": {},
     "output_type": "execute_result"
    }
   ],
   "source": [
    "import pandas as pd\n",
    "\n",
    "df = pd._testing.makeDataFrame()\n",
    "df.head()"
   ]
  },
  {
   "cell_type": "markdown",
   "id": "60b6dae9",
   "metadata": {},
   "source": [
    "## Material styled table"
   ]
  },
  {
   "cell_type": "markdown",
   "id": "18d9980a",
   "metadata": {},
   "source": [
    "A simple solution to enhance the appearance of the Pandas DataFrame table is to use the `DataFrame.style` attribute while displaying the output."
   ]
  },
  {
   "cell_type": "code",
   "execution_count": null,
   "id": "30f6d803",
   "metadata": {},
   "outputs": [
    {
     "data": {
      "text/html": [
       "<style type=\"text/css\">\n",
       "</style>\n",
       "<table id=\"T_fa8e4\">\n",
       "  <thead>\n",
       "    <tr>\n",
       "      <th class=\"blank level0\" >&nbsp;</th>\n",
       "      <th id=\"T_fa8e4_level0_col0\" class=\"col_heading level0 col0\" >A</th>\n",
       "      <th id=\"T_fa8e4_level0_col1\" class=\"col_heading level0 col1\" >B</th>\n",
       "      <th id=\"T_fa8e4_level0_col2\" class=\"col_heading level0 col2\" >C</th>\n",
       "      <th id=\"T_fa8e4_level0_col3\" class=\"col_heading level0 col3\" >D</th>\n",
       "    </tr>\n",
       "  </thead>\n",
       "  <tbody>\n",
       "    <tr>\n",
       "      <th id=\"T_fa8e4_level0_row0\" class=\"row_heading level0 row0\" >ivg9ixSxDo</th>\n",
       "      <td id=\"T_fa8e4_row0_col0\" class=\"data row0 col0\" >1.264618</td>\n",
       "      <td id=\"T_fa8e4_row0_col1\" class=\"data row0 col1\" >0.203053</td>\n",
       "      <td id=\"T_fa8e4_row0_col2\" class=\"data row0 col2\" >-2.442362</td>\n",
       "      <td id=\"T_fa8e4_row0_col3\" class=\"data row0 col3\" >-0.516247</td>\n",
       "    </tr>\n",
       "    <tr>\n",
       "      <th id=\"T_fa8e4_level0_row1\" class=\"row_heading level0 row1\" >bRNJF1RHWH</th>\n",
       "      <td id=\"T_fa8e4_row1_col0\" class=\"data row1 col0\" >-0.787963</td>\n",
       "      <td id=\"T_fa8e4_row1_col1\" class=\"data row1 col1\" >0.854282</td>\n",
       "      <td id=\"T_fa8e4_row1_col2\" class=\"data row1 col2\" >-0.869654</td>\n",
       "      <td id=\"T_fa8e4_row1_col3\" class=\"data row1 col3\" >-0.728221</td>\n",
       "    </tr>\n",
       "    <tr>\n",
       "      <th id=\"T_fa8e4_level0_row2\" class=\"row_heading level0 row2\" >vliKOHWXsI</th>\n",
       "      <td id=\"T_fa8e4_row2_col0\" class=\"data row2 col0\" >0.258019</td>\n",
       "      <td id=\"T_fa8e4_row2_col1\" class=\"data row2 col1\" >0.483411</td>\n",
       "      <td id=\"T_fa8e4_row2_col2\" class=\"data row2 col2\" >0.763769</td>\n",
       "      <td id=\"T_fa8e4_row2_col3\" class=\"data row2 col3\" >-0.492340</td>\n",
       "    </tr>\n",
       "    <tr>\n",
       "      <th id=\"T_fa8e4_level0_row3\" class=\"row_heading level0 row3\" >SYL8OXVAJn</th>\n",
       "      <td id=\"T_fa8e4_row3_col0\" class=\"data row3 col0\" >-2.283325</td>\n",
       "      <td id=\"T_fa8e4_row3_col1\" class=\"data row3 col1\" >1.527951</td>\n",
       "      <td id=\"T_fa8e4_row3_col2\" class=\"data row3 col2\" >-0.377158</td>\n",
       "      <td id=\"T_fa8e4_row3_col3\" class=\"data row3 col3\" >0.842766</td>\n",
       "    </tr>\n",
       "    <tr>\n",
       "      <th id=\"T_fa8e4_level0_row4\" class=\"row_heading level0 row4\" >RJodiV7XBV</th>\n",
       "      <td id=\"T_fa8e4_row4_col0\" class=\"data row4 col0\" >0.424837</td>\n",
       "      <td id=\"T_fa8e4_row4_col1\" class=\"data row4 col1\" >0.597266</td>\n",
       "      <td id=\"T_fa8e4_row4_col2\" class=\"data row4 col2\" >-1.109220</td>\n",
       "      <td id=\"T_fa8e4_row4_col3\" class=\"data row4 col3\" >-0.957034</td>\n",
       "    </tr>\n",
       "  </tbody>\n",
       "</table>\n"
      ],
      "text/plain": [
       "<pandas.io.formats.style.Styler>"
      ]
     },
     "execution_count": null,
     "metadata": {},
     "output_type": "execute_result"
    }
   ],
   "source": [
    "df.head().style"
   ]
  }
 ],
 "metadata": {
  "kernelspec": {
   "display_name": "python3",
   "language": "python",
   "name": "python3"
  }
 },
 "nbformat": 4,
 "nbformat_minor": 5
}
