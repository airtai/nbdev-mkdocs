{
 "cells": [
  {
   "cell_type": "markdown",
   "id": "63611500",
   "metadata": {},
   "source": [
    "# Handling pandas in the output"
   ]
  },
  {
   "cell_type": "markdown",
   "id": "51d740c0",
   "metadata": {},
   "source": [
    "Pandas is a widely used data manipulation library in the data science community. One common use case is to display the results of a data analysis in a Pandas DataFrame.\n",
    "\n",
    "By default, the Pandas DataFrame output will appear unformatted in the documentation. For example, take a look at the sample below which displays the head of a dataframe."
   ]
  },
  {
   "cell_type": "code",
   "execution_count": null,
   "id": "993fdc17",
   "metadata": {},
   "outputs": [],
   "source": [
    "# | hide\n",
    "\n",
    "import warnings\n",
    "\n",
    "warnings.simplefilter(action=\"ignore\", category=FutureWarning)"
   ]
  },
  {
   "cell_type": "code",
   "execution_count": null,
   "id": "d0fb1dc4",
   "metadata": {},
   "outputs": [
    {
     "name": "stderr",
     "output_type": "stream",
     "text": [
      "/Users/harishm/.pyenv/versions/3.10.4/lib/python3.10/site-packages/pandas/compat/__init__.py:124: UserWarning: Could not import the lzma module. Your installed Python is incomplete. Attempting to use lzma compression will result in a RuntimeError.\n",
      "  warnings.warn(msg)\n"
     ]
    },
    {
     "data": {
      "text/html": [
       "<div>\n",
       "<style scoped>\n",
       "    .dataframe tbody tr th:only-of-type {\n",
       "        vertical-align: middle;\n",
       "    }\n",
       "\n",
       "    .dataframe tbody tr th {\n",
       "        vertical-align: top;\n",
       "    }\n",
       "\n",
       "    .dataframe thead th {\n",
       "        text-align: right;\n",
       "    }\n",
       "</style>\n",
       "<table border=\"1\" class=\"dataframe\">\n",
       "  <thead>\n",
       "    <tr style=\"text-align: right;\">\n",
       "      <th></th>\n",
       "      <th>A</th>\n",
       "      <th>B</th>\n",
       "      <th>C</th>\n",
       "      <th>D</th>\n",
       "    </tr>\n",
       "  </thead>\n",
       "  <tbody>\n",
       "    <tr>\n",
       "      <th>CEX5vOEZ8L</th>\n",
       "      <td>0.871330</td>\n",
       "      <td>0.053811</td>\n",
       "      <td>-1.239818</td>\n",
       "      <td>-1.835587</td>\n",
       "    </tr>\n",
       "    <tr>\n",
       "      <th>1WBdLtSLB2</th>\n",
       "      <td>-0.740417</td>\n",
       "      <td>1.674745</td>\n",
       "      <td>-0.640703</td>\n",
       "      <td>-0.503440</td>\n",
       "    </tr>\n",
       "    <tr>\n",
       "      <th>utikYTOwRR</th>\n",
       "      <td>-0.076731</td>\n",
       "      <td>-0.479891</td>\n",
       "      <td>-0.389481</td>\n",
       "      <td>0.275758</td>\n",
       "    </tr>\n",
       "    <tr>\n",
       "      <th>HfGJWwjBnA</th>\n",
       "      <td>0.846709</td>\n",
       "      <td>-0.891535</td>\n",
       "      <td>1.336702</td>\n",
       "      <td>-2.084105</td>\n",
       "    </tr>\n",
       "    <tr>\n",
       "      <th>GWke3cwOID</th>\n",
       "      <td>-0.369382</td>\n",
       "      <td>0.519347</td>\n",
       "      <td>1.605516</td>\n",
       "      <td>0.215863</td>\n",
       "    </tr>\n",
       "  </tbody>\n",
       "</table>\n",
       "</div>"
      ],
      "text/plain": [
       "                   A         B         C         D\n",
       "CEX5vOEZ8L  0.871330  0.053811 -1.239818 -1.835587\n",
       "1WBdLtSLB2 -0.740417  1.674745 -0.640703 -0.503440\n",
       "utikYTOwRR -0.076731 -0.479891 -0.389481  0.275758\n",
       "HfGJWwjBnA  0.846709 -0.891535  1.336702 -2.084105\n",
       "GWke3cwOID -0.369382  0.519347  1.605516  0.215863"
      ]
     },
     "execution_count": null,
     "metadata": {},
     "output_type": "execute_result"
    }
   ],
   "source": [
    "from pandas.util.testing import makeDataFrame\n",
    "\n",
    "df = makeDataFrame()\n",
    "df.head()"
   ]
  },
  {
   "cell_type": "markdown",
   "id": "60b6dae9",
   "metadata": {},
   "source": [
    "## Material styled table"
   ]
  },
  {
   "cell_type": "markdown",
   "id": "18d9980a",
   "metadata": {},
   "source": [
    "A simple solution to enhance the appearance of the Pandas DataFrame table is to use the `DataFrame.style` attribute while displaying the output."
   ]
  },
  {
   "cell_type": "code",
   "execution_count": null,
   "id": "30f6d803",
   "metadata": {},
   "outputs": [
    {
     "data": {
      "text/html": [
       "<style type=\"text/css\">\n",
       "</style>\n",
       "<table id=\"T_5faa9_\">\n",
       "  <thead>\n",
       "    <tr>\n",
       "      <th class=\"blank level0\" >&nbsp;</th>\n",
       "      <th class=\"col_heading level0 col0\" >A</th>\n",
       "      <th class=\"col_heading level0 col1\" >B</th>\n",
       "      <th class=\"col_heading level0 col2\" >C</th>\n",
       "      <th class=\"col_heading level0 col3\" >D</th>\n",
       "    </tr>\n",
       "  </thead>\n",
       "  <tbody>\n",
       "    <tr>\n",
       "      <th id=\"T_5faa9_level0_row0\" class=\"row_heading level0 row0\" >CEX5vOEZ8L</th>\n",
       "      <td id=\"T_5faa9_row0_col0\" class=\"data row0 col0\" >0.871330</td>\n",
       "      <td id=\"T_5faa9_row0_col1\" class=\"data row0 col1\" >0.053811</td>\n",
       "      <td id=\"T_5faa9_row0_col2\" class=\"data row0 col2\" >-1.239818</td>\n",
       "      <td id=\"T_5faa9_row0_col3\" class=\"data row0 col3\" >-1.835587</td>\n",
       "    </tr>\n",
       "    <tr>\n",
       "      <th id=\"T_5faa9_level0_row1\" class=\"row_heading level0 row1\" >1WBdLtSLB2</th>\n",
       "      <td id=\"T_5faa9_row1_col0\" class=\"data row1 col0\" >-0.740417</td>\n",
       "      <td id=\"T_5faa9_row1_col1\" class=\"data row1 col1\" >1.674745</td>\n",
       "      <td id=\"T_5faa9_row1_col2\" class=\"data row1 col2\" >-0.640703</td>\n",
       "      <td id=\"T_5faa9_row1_col3\" class=\"data row1 col3\" >-0.503440</td>\n",
       "    </tr>\n",
       "    <tr>\n",
       "      <th id=\"T_5faa9_level0_row2\" class=\"row_heading level0 row2\" >utikYTOwRR</th>\n",
       "      <td id=\"T_5faa9_row2_col0\" class=\"data row2 col0\" >-0.076731</td>\n",
       "      <td id=\"T_5faa9_row2_col1\" class=\"data row2 col1\" >-0.479891</td>\n",
       "      <td id=\"T_5faa9_row2_col2\" class=\"data row2 col2\" >-0.389481</td>\n",
       "      <td id=\"T_5faa9_row2_col3\" class=\"data row2 col3\" >0.275758</td>\n",
       "    </tr>\n",
       "    <tr>\n",
       "      <th id=\"T_5faa9_level0_row3\" class=\"row_heading level0 row3\" >HfGJWwjBnA</th>\n",
       "      <td id=\"T_5faa9_row3_col0\" class=\"data row3 col0\" >0.846709</td>\n",
       "      <td id=\"T_5faa9_row3_col1\" class=\"data row3 col1\" >-0.891535</td>\n",
       "      <td id=\"T_5faa9_row3_col2\" class=\"data row3 col2\" >1.336702</td>\n",
       "      <td id=\"T_5faa9_row3_col3\" class=\"data row3 col3\" >-2.084105</td>\n",
       "    </tr>\n",
       "    <tr>\n",
       "      <th id=\"T_5faa9_level0_row4\" class=\"row_heading level0 row4\" >GWke3cwOID</th>\n",
       "      <td id=\"T_5faa9_row4_col0\" class=\"data row4 col0\" >-0.369382</td>\n",
       "      <td id=\"T_5faa9_row4_col1\" class=\"data row4 col1\" >0.519347</td>\n",
       "      <td id=\"T_5faa9_row4_col2\" class=\"data row4 col2\" >1.605516</td>\n",
       "      <td id=\"T_5faa9_row4_col3\" class=\"data row4 col3\" >0.215863</td>\n",
       "    </tr>\n",
       "  </tbody>\n",
       "</table>\n"
      ],
      "text/plain": [
       "<pandas.io.formats.style.Styler>"
      ]
     },
     "execution_count": null,
     "metadata": {},
     "output_type": "execute_result"
    }
   ],
   "source": [
    "df.head().style"
   ]
  }
 ],
 "metadata": {
  "kernelspec": {
   "display_name": "python3",
   "language": "python",
   "name": "python3"
  }
 },
 "nbformat": 4,
 "nbformat_minor": 5
}
