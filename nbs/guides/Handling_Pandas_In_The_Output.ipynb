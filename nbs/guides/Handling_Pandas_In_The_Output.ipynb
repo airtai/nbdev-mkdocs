{
 "cells": [
  {
   "cell_type": "markdown",
   "id": "63611500",
   "metadata": {},
   "source": [
    "# Handling pandas in the output"
   ]
  },
  {
   "cell_type": "markdown",
   "id": "51d740c0",
   "metadata": {},
   "source": [
    "Pandas is a widely used data manipulation library in the data science community. One common use case is to display the results of a data analysis in a Pandas DataFrame.\n",
    "\n",
    "By default, the Pandas DataFrame output will appear unformatted in the documentation. For example, take a look at the sample below which displays the head of a dataframe."
   ]
  },
  {
   "cell_type": "code",
   "execution_count": null,
   "id": "993fdc17",
   "metadata": {},
   "outputs": [],
   "source": [
    "# | hide\n",
    "\n",
    "import warnings\n",
    "\n",
    "warnings.simplefilter(action=\"ignore\", category=FutureWarning)"
   ]
  },
  {
   "cell_type": "code",
   "execution_count": null,
   "id": "d0fb1dc4",
   "metadata": {},
   "outputs": [
    {
     "data": {
      "text/html": [
       "<div>\n",
       "<style scoped>\n",
       "    .dataframe tbody tr th:only-of-type {\n",
       "        vertical-align: middle;\n",
       "    }\n",
       "\n",
       "    .dataframe tbody tr th {\n",
       "        vertical-align: top;\n",
       "    }\n",
       "\n",
       "    .dataframe thead th {\n",
       "        text-align: right;\n",
       "    }\n",
       "</style>\n",
       "<table border=\"1\" class=\"dataframe\">\n",
       "  <thead>\n",
       "    <tr style=\"text-align: right;\">\n",
       "      <th></th>\n",
       "      <th>A</th>\n",
       "      <th>B</th>\n",
       "      <th>C</th>\n",
       "      <th>D</th>\n",
       "    </tr>\n",
       "  </thead>\n",
       "  <tbody>\n",
       "    <tr>\n",
       "      <th>vtQ4AqzUmR</th>\n",
       "      <td>-0.366719</td>\n",
       "      <td>0.728404</td>\n",
       "      <td>0.625120</td>\n",
       "      <td>2.480765</td>\n",
       "    </tr>\n",
       "    <tr>\n",
       "      <th>qiHhTHAHNH</th>\n",
       "      <td>-0.359968</td>\n",
       "      <td>-0.599540</td>\n",
       "      <td>1.594778</td>\n",
       "      <td>0.921716</td>\n",
       "    </tr>\n",
       "    <tr>\n",
       "      <th>LOqytDK7SY</th>\n",
       "      <td>-0.627586</td>\n",
       "      <td>0.935781</td>\n",
       "      <td>-1.592791</td>\n",
       "      <td>0.024485</td>\n",
       "    </tr>\n",
       "    <tr>\n",
       "      <th>WOG0u390DM</th>\n",
       "      <td>0.105248</td>\n",
       "      <td>-0.062309</td>\n",
       "      <td>0.878165</td>\n",
       "      <td>1.072234</td>\n",
       "    </tr>\n",
       "    <tr>\n",
       "      <th>eOrtbW98MM</th>\n",
       "      <td>-1.400879</td>\n",
       "      <td>-0.260574</td>\n",
       "      <td>-0.369980</td>\n",
       "      <td>1.760192</td>\n",
       "    </tr>\n",
       "  </tbody>\n",
       "</table>\n",
       "</div>"
      ],
      "text/plain": [
       "                   A         B         C         D\n",
       "vtQ4AqzUmR -0.366719  0.728404  0.625120  2.480765\n",
       "qiHhTHAHNH -0.359968 -0.599540  1.594778  0.921716\n",
       "LOqytDK7SY -0.627586  0.935781 -1.592791  0.024485\n",
       "WOG0u390DM  0.105248 -0.062309  0.878165  1.072234\n",
       "eOrtbW98MM -1.400879 -0.260574 -0.369980  1.760192"
      ]
     },
     "execution_count": null,
     "metadata": {},
     "output_type": "execute_result"
    }
   ],
   "source": [
    "import pandas as pd\n",
    "\n",
    "df = pd.util.testing.makeDataFrame()\n",
    "df.head()"
   ]
  },
  {
   "cell_type": "markdown",
   "id": "60b6dae9",
   "metadata": {},
   "source": [
    "## Material styled table"
   ]
  },
  {
   "cell_type": "markdown",
   "id": "18d9980a",
   "metadata": {},
   "source": [
    "A simple solution to enhance the appearance of the Pandas DataFrame table is to use the `DataFrame.style` attribute while displaying the output."
   ]
  },
  {
   "cell_type": "code",
   "execution_count": null,
   "id": "30f6d803",
   "metadata": {},
   "outputs": [
    {
     "data": {
      "text/html": [
       "<style type=\"text/css\">\n",
       "</style>\n",
       "<table id=\"T_f71c6_\">\n",
       "  <thead>\n",
       "    <tr>\n",
       "      <th class=\"blank level0\" >&nbsp;</th>\n",
       "      <th class=\"col_heading level0 col0\" >A</th>\n",
       "      <th class=\"col_heading level0 col1\" >B</th>\n",
       "      <th class=\"col_heading level0 col2\" >C</th>\n",
       "      <th class=\"col_heading level0 col3\" >D</th>\n",
       "    </tr>\n",
       "  </thead>\n",
       "  <tbody>\n",
       "    <tr>\n",
       "      <th id=\"T_f71c6_level0_row0\" class=\"row_heading level0 row0\" >vtQ4AqzUmR</th>\n",
       "      <td id=\"T_f71c6_row0_col0\" class=\"data row0 col0\" >-0.366719</td>\n",
       "      <td id=\"T_f71c6_row0_col1\" class=\"data row0 col1\" >0.728404</td>\n",
       "      <td id=\"T_f71c6_row0_col2\" class=\"data row0 col2\" >0.625120</td>\n",
       "      <td id=\"T_f71c6_row0_col3\" class=\"data row0 col3\" >2.480765</td>\n",
       "    </tr>\n",
       "    <tr>\n",
       "      <th id=\"T_f71c6_level0_row1\" class=\"row_heading level0 row1\" >qiHhTHAHNH</th>\n",
       "      <td id=\"T_f71c6_row1_col0\" class=\"data row1 col0\" >-0.359968</td>\n",
       "      <td id=\"T_f71c6_row1_col1\" class=\"data row1 col1\" >-0.599540</td>\n",
       "      <td id=\"T_f71c6_row1_col2\" class=\"data row1 col2\" >1.594778</td>\n",
       "      <td id=\"T_f71c6_row1_col3\" class=\"data row1 col3\" >0.921716</td>\n",
       "    </tr>\n",
       "    <tr>\n",
       "      <th id=\"T_f71c6_level0_row2\" class=\"row_heading level0 row2\" >LOqytDK7SY</th>\n",
       "      <td id=\"T_f71c6_row2_col0\" class=\"data row2 col0\" >-0.627586</td>\n",
       "      <td id=\"T_f71c6_row2_col1\" class=\"data row2 col1\" >0.935781</td>\n",
       "      <td id=\"T_f71c6_row2_col2\" class=\"data row2 col2\" >-1.592791</td>\n",
       "      <td id=\"T_f71c6_row2_col3\" class=\"data row2 col3\" >0.024485</td>\n",
       "    </tr>\n",
       "    <tr>\n",
       "      <th id=\"T_f71c6_level0_row3\" class=\"row_heading level0 row3\" >WOG0u390DM</th>\n",
       "      <td id=\"T_f71c6_row3_col0\" class=\"data row3 col0\" >0.105248</td>\n",
       "      <td id=\"T_f71c6_row3_col1\" class=\"data row3 col1\" >-0.062309</td>\n",
       "      <td id=\"T_f71c6_row3_col2\" class=\"data row3 col2\" >0.878165</td>\n",
       "      <td id=\"T_f71c6_row3_col3\" class=\"data row3 col3\" >1.072234</td>\n",
       "    </tr>\n",
       "    <tr>\n",
       "      <th id=\"T_f71c6_level0_row4\" class=\"row_heading level0 row4\" >eOrtbW98MM</th>\n",
       "      <td id=\"T_f71c6_row4_col0\" class=\"data row4 col0\" >-1.400879</td>\n",
       "      <td id=\"T_f71c6_row4_col1\" class=\"data row4 col1\" >-0.260574</td>\n",
       "      <td id=\"T_f71c6_row4_col2\" class=\"data row4 col2\" >-0.369980</td>\n",
       "      <td id=\"T_f71c6_row4_col3\" class=\"data row4 col3\" >1.760192</td>\n",
       "    </tr>\n",
       "  </tbody>\n",
       "</table>\n"
      ],
      "text/plain": [
       "<pandas.io.formats.style.Styler>"
      ]
     },
     "execution_count": null,
     "metadata": {},
     "output_type": "execute_result"
    }
   ],
   "source": [
    "df.head().style"
   ]
  }
 ],
 "metadata": {
  "kernelspec": {
   "display_name": "python3",
   "language": "python",
   "name": "python3"
  }
 },
 "nbformat": 4,
 "nbformat_minor": 5
}
