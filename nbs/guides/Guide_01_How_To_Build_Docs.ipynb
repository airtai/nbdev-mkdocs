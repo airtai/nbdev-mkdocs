{
 "cells": [
  {
   "cell_type": "markdown",
   "metadata": {},
   "source": [
    "# Build documentation"
   ]
  },
  {
   "cell_type": "markdown",
   "metadata": {},
   "source": [
    "## Initialize\n",
    "\n",
    "After you've installed **nbdev_mkdocs**, you can bootstrap your project documentation using the **nbdev_mkdocs** executable. Navigate to the project root directory and run the below command:\n",
    "\n",
    "```python\n",
    "nbdev_mkdocs new\n",
    "```\n",
    "\n",
    "Using information from the project's settings.ini file, the above command creates files and directories required to build the documentation and saves it in the **mkdocs** subdirectory.\n",
    "\n",
    "\n",
    "### Configuration\n",
    "\n",
    "The Material for Mkdocs uses a configuration file called **mkdocs.yml** to build the site, which can be found inside the **mkdocs** directory. It is currently set to the initial values. However, you can edit the file and change the colours, fonts, icons, and so on. \n",
    "\n",
    "!!! example\n",
    "\n",
    "    For example, to change the site's favicon, copy the new favicon inside the **mkdocs/docs/images** directory and update the following line in mkdocs.yml:\n",
    "\n",
    "    ``` yaml\n",
    "    favicon: images/{new_favicon_name.ico}\n",
    "    ```\n",
    "\n",
    "\n",
    "For more advanced configuration options, please check this [link](https://squidfunk.github.io/mkdocs-material/setup/changing-the-colors/)"
   ]
  }
 ],
 "metadata": {
  "kernelspec": {
   "display_name": "Python 3",
   "language": "python",
   "name": "python3"
  }
 },
 "nbformat": 4,
 "nbformat_minor": 4
}
