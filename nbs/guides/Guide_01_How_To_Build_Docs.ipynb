{
 "cells": [
  {
   "cell_type": "markdown",
   "metadata": {},
   "source": [
    "# Build documentation"
   ]
  },
  {
   "cell_type": "markdown",
   "metadata": {},
   "source": [
    "## Setup\n",
    "\n",
    "After you've installed **nbdev_mkdocs**, you can bootstrap your project documentation using the **nbdev_mkdocs** executable. Navigate to the project root directory and run the following command:\n",
    "\n",
    "```python\n",
    "nbdev_mkdocs new\n",
    "```\n",
    "\n",
    "Using information from the project's settings.ini file, the above command creates files and directories required to build the documentation and saves it in the **mkdocs** subdirectory.\n",
    "\n",
    "\n",
    "### Configuration\n",
    "\n",
    "The Material for Mkdocs uses a configuration file called **mkdocs.yml** to build the site, which can be found inside the **mkdocs** directory. It is currently set to the initial values. However, you can edit the file and change the colours, fonts, icons, and so on. \n",
    "\n",
    "!!! example\n",
    "\n",
    "    For example, to change the site's favicon, copy the new favicon inside the **mkdocs/docs/images** directory and update the following line in mkdocs.yml:\n",
    "\n",
    "    ``` yaml\n",
    "    favicon: images/{new_favicon_name.ico}\n",
    "    ```\n",
    "\n",
    "\n",
    "For more advanced configuration options, please click [here](https://squidfunk.github.io/mkdocs-material/setup/changing-the-colors/)"
   ]
  },
  {
   "cell_type": "markdown",
   "metadata": {},
   "source": [
    "## Build and prepare\n",
    "\n",
    "After you've configured the mkdocs settings, the next step is to build the documentation. Run the following command from the project's root directory:\n",
    "\n",
    "```python\n",
    "nbdev_mkdocs prepare\n",
    "```\n",
    "\n",
    "!!! info \"Long story short\"\n",
    "    \n",
    "    Running the the above command will do the following tasks:\n",
    "\n",
    "    - Creates markdown files from the source files and saves them to the **mkdocs/docs/** directory.\n",
    "    - Builds the documentation from the markdown files in the **mkdocs/docs/** directory and saves the resulting HTML files to the **mkdocs/site** directory."
   ]
  },
  {
   "cell_type": "markdown",
   "metadata": {},
   "source": [
    "Now, for a more detailed explanation, when the above command is executed, the following two tasks are carried out:\n",
    "\n",
    "### Generating the necessary markdown files\n",
    "\n",
    "- Converts the **nbs/index.ipynb** file and the notebooks in the **nbs/guides/** directory to markdown and saves them to the **mkdocs/docs** and **mkdocs/docs/guides** directories.\n",
    "- Creates the markdown files for the python library and saves them in the **mkdocs/docs/API** directory.\n",
    "- Creates the markdown files for all the CLI commands specified in the project's settings.ini file and saves them in the **mkdocs/docs/CLI** directory.\n",
    "- Finally, the CHANGELOG.md and CNAME files are copied to the **mkdocs/docs/** directory, and the site navigation file is created and saved to **mkdocs/docs/SUMMARY.md**.\n",
    "    \n"
   ]
  },
  {
   "cell_type": "markdown",
   "metadata": {},
   "source": [
    "### Building the site\n",
    "- After copying the necessary markdown files to the **mkdocs/docs** directory, the static site is built from the markdown files and saved to the **mkdocs/site** directory."
   ]
  },
  {
   "cell_type": "markdown",
   "metadata": {},
   "source": [
    "## Preview\n",
    "\n",
    "Internally, nbdev_mkdocs uses mkdocs, which includes a dev-server that allows you to preview your documentation as you work on it. \n",
    "\n",
    "Once the documentation has been successfully built, run the following command to start a local server \n",
    "\n",
    "```python\n",
    "nbdev_mkdocs preview\n",
    "```\n",
    "\n",
    "By default, the webpage will be served at http://0.0.0.0:4000. However, you can specify which port to use by passing the **--port** argument to the **nbdev_mkdocs preview** command."
   ]
  }
 ],
 "metadata": {
  "kernelspec": {
   "display_name": "Python 3",
   "language": "python",
   "name": "python3"
  }
 },
 "nbformat": 4,
 "nbformat_minor": 4
}
