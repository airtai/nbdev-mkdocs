{
 "cells": [
  {
   "cell_type": "markdown",
   "id": "d42e50e8",
   "metadata": {},
   "source": [
    "# Customizing the sidebar"
   ]
  },
  {
   "cell_type": "markdown",
   "id": "d587a610",
   "metadata": {},
   "source": [
    "## Rename menu items\n",
    "\n",
    "You can change the names of the `API`, `CLI`, and `Releases` menu items by editing the `mkdocs/summary_template.txt` file. This file is used to define the structure of your project's documentation.\n",
    "\n",
    "Now, lets change the name `API` to `Reference` in the sidebar. Please run the following command from the root directory of your project to open the file:\n",
    "\n",
    "```shell\n",
    "vi mkdocs/summary_template.txt\n",
    "```\n",
    "\n",
    "and replace the below line from `- API` to `- Reference`. \n",
    "\n",
    "\n",
    "After making the change, the file will look like this:\n",
    "```shell\n",
    "{sidebar}\n",
    "- Reference\n",
    "{api}\n",
    "- CLI\n",
    "{cli}\n",
    "- [Releases]{changelog}\n",
    "```\n",
    "\n",
    "Save the file, stop the server and re-run the `nbdev_mkdocs preview` command to preview your changes.\n",
    "\n",
    "Now, the documentation should look like this:\n",
    "\n",
    "![](images/sidebar_1.png)\n"
   ]
  },
  {
   "cell_type": "markdown",
   "id": "49f70152",
   "metadata": {},
   "source": [
    "## Remove menu items\n",
    "\n",
    "You can also remove items from the side navigation in your project documentation. For example, let's say you want to remove the CLI menu. You can do this by modifying the same file. \n",
    "\n",
    "Please run the following command from the root directory of your project to open the file:\n",
    "\n",
    "```shell\n",
    "vi mkdocs/summary_template.txt\n",
    "```\n",
    "\n",
    "and delete the below lines\n",
    "\n",
    "```\n",
    "- CLI\n",
    "{cli}\n",
    "```\n",
    "\n",
    "After making the change, the file will look like this:\n",
    "```shell\n",
    "{sidebar}\n",
    "- Reference\n",
    "{api}\n",
    "- [Releases]{changelog}\n",
    "```\n",
    "\n",
    "Save the file, stop the server and re-run the `nbdev_mkdocs preview` command to preview your changes.\n",
    "\n",
    "Now, the documentation should look like this:\n",
    "\n",
    "![](images/sidebar_2.png)"
   ]
  }
 ],
 "metadata": {
  "kernelspec": {
   "display_name": "Python 3 (ipykernel)",
   "language": "python",
   "name": "python3"
  }
 },
 "nbformat": 4,
 "nbformat_minor": 5
}
