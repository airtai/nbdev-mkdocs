{
 "cells": [
  {
   "cell_type": "code",
   "execution_count": null,
   "metadata": {},
   "outputs": [],
   "source": [
    "# | default_exp cli"
   ]
  },
  {
   "cell_type": "markdown",
   "metadata": {},
   "source": [
    "# Generate_Docs_CLI\n",
    "> CLI commands to generate documentaion"
   ]
  },
  {
   "cell_type": "code",
   "execution_count": null,
   "metadata": {},
   "outputs": [],
   "source": [
    "# | export\n",
    "\n",
    "from typing import *\n",
    "import typer\n",
    "\n",
    "import types\n",
    "\n",
    "import pkgutil\n",
    "from pathlib import Path\n",
    "import shutil\n",
    "import os\n",
    "import importlib"
   ]
  },
  {
   "cell_type": "code",
   "execution_count": null,
   "metadata": {},
   "outputs": [],
   "source": [
    "import tempfile\n",
    "from typer.testing import CliRunner"
   ]
  },
  {
   "cell_type": "code",
   "execution_count": null,
   "metadata": {},
   "outputs": [],
   "source": [
    "runner = CliRunner()"
   ]
  },
  {
   "cell_type": "code",
   "execution_count": null,
   "metadata": {},
   "outputs": [],
   "source": [
    "# | export\n",
    "\n",
    "app = typer.Typer(help=\"CLI commands for generating mkdocs-material documentation\")"
   ]
  },
  {
   "cell_type": "markdown",
   "metadata": {},
   "source": [
    "## Generate summary"
   ]
  },
  {
   "cell_type": "code",
   "execution_count": null,
   "metadata": {},
   "outputs": [],
   "source": [
    "# | export\n",
    "\n",
    "\n",
    "def list_submodules(package_name: types.ModuleType) -> List[str]:\n",
    "    def _list_submodules(list_name, package_name):\n",
    "        for loader, module_name, is_pkg in pkgutil.walk_packages(\n",
    "            package_name.__path__, package_name.__name__ + \".\"\n",
    "        ):\n",
    "            if (\n",
    "                not module_name.split(\".\")[1].startswith(\"_\")\n",
    "                and not module_name.split(\".\")[1] == \"mkdocs\"\n",
    "            ):\n",
    "                list_name.append(module_name)\n",
    "                module_name = __import__(module_name, fromlist=\"dummylist\")\n",
    "                if is_pkg:\n",
    "                    _list_submodules(list_name, module_name)\n",
    "\n",
    "    all_modules: List[str] = []\n",
    "    _list_submodules(all_modules, package_name)\n",
    "\n",
    "    return sorted(set(all_modules))"
   ]
  },
  {
   "cell_type": "code",
   "execution_count": null,
   "metadata": {},
   "outputs": [
    {
     "data": {
      "text/plain": [
       "['nbdev_mkdocs.cli',\n",
       " 'nbdev_mkdocs.docstring',\n",
       " 'nbdev_mkdocs.docstring.helpers']"
      ]
     },
     "execution_count": null,
     "metadata": {},
     "output_type": "execute_result"
    }
   ],
   "source": [
    "import nbdev_mkdocs\n",
    "\n",
    "airt_modules = list_submodules(nbdev_mkdocs)\n",
    "airt_modules"
   ]
  },
  {
   "cell_type": "code",
   "execution_count": null,
   "metadata": {},
   "outputs": [],
   "source": [
    "# | export\n",
    "\n",
    "\n",
    "def get_exported_symbols(submodules: List[str]) -> Dict[str, List[str]]:\n",
    "    modules = {name: __import__(name, fromlist=\"dummylist\") for name in submodules}\n",
    "    return {\n",
    "        name: module.__all__\n",
    "        for name, module in modules.items()\n",
    "        if hasattr(module, \"__all__\")\n",
    "    }"
   ]
  },
  {
   "cell_type": "code",
   "execution_count": null,
   "metadata": {},
   "outputs": [
    {
     "data": {
      "text/plain": [
       "{'nbdev_mkdocs.cli': ['app',\n",
       "  'list_submodules',\n",
       "  'get_exported_symbols',\n",
       "  'generate_nav_tree',\n",
       "  'build_api_docs'],\n",
       " 'nbdev_mkdocs.docstring.helpers': ['run_examples_from_docstring']}"
      ]
     },
     "execution_count": null,
     "metadata": {},
     "output_type": "execute_result"
    }
   ],
   "source": [
    "symbols = get_exported_symbols(airt_modules)\n",
    "symbols"
   ]
  },
  {
   "cell_type": "code",
   "execution_count": null,
   "metadata": {},
   "outputs": [],
   "source": [
    "# | export\n",
    "\n",
    "\n",
    "def generate_nav_tree(level, summary, m, all_modules):\n",
    "    \"\"\"Function to generate multi-level natigation in the docs\"\"\"\n",
    "    base_module = \".\".join(m.split(\".\")[: -(level - 1)])\n",
    "    sub_module_1 = \".\".join(m.split(\".\")[2 : -(level - 2)]) if level > 2 else None\n",
    "    sub_module_2 = \".\".join(m.split(\".\")[3 : -(level - 3)]) if level > 3 else None\n",
    "    leaf_sub_module = m.split(\".\")[-1]\n",
    "\n",
    "    if base_module not in all_modules:\n",
    "        all_modules.add(base_module)\n",
    "        _indent = \"    \" * (2) if level == 3 else \"    \"\n",
    "        summary = summary + f\"{_indent}- {base_module}\\n\"\n",
    "\n",
    "    if (sub_module_1) and (sub_module_1 not in all_modules):\n",
    "        all_modules.add(sub_module_1)\n",
    "        _indent = \"    \" * (3) if level == 3 else \"    \" * (2)\n",
    "        summary = summary + f\"{_indent}- {sub_module_1}\\n\"\n",
    "\n",
    "    if (sub_module_2) and (sub_module_2 not in all_modules):\n",
    "        all_modules.add(sub_module_2)\n",
    "        summary = summary + f\"{'    '*(level-1)}- {sub_module_2}\\n\"\n",
    "\n",
    "    summary = summary + f\"{'    '*level}- {leaf_sub_module}\\n\"\n",
    "\n",
    "    return summary, all_modules"
   ]
  },
  {
   "cell_type": "code",
   "execution_count": null,
   "metadata": {},
   "outputs": [],
   "source": [
    "# | export\n",
    "\n",
    "_summary = \"\"\"\n",
    "- [Home](index.md)\n",
    "\"\"\"\n",
    "\n",
    "# typer\n",
    "# def build_api_docs(module = airt, summary: str = _summary, docs_path: Path = Path(\"docs\")):\n",
    "def build_api_docs(\n",
    "    module: str = typer.Argument(..., help=\"The module name to generate docs\"),\n",
    "    docs_path: str = typer.Option(default=\"docs\"),\n",
    "):\n",
    "    _docs_path = Path(str(docs_path))  # type: ignore\n",
    "\n",
    "    #     module = airt\n",
    "    # nosemgrep: python.lang.security.audit.non-literal-import.non-literal-import\n",
    "    imported_module = importlib.import_module(module)\n",
    "    summary = _summary\n",
    "\n",
    "    submodules = list_submodules(imported_module)\n",
    "    symbols = get_exported_symbols(submodules)\n",
    "\n",
    "    if not _docs_path.exists():\n",
    "        raise ValueError(f\"{_docs_path=}, {os.getcwd()=}\")\n",
    "\n",
    "    shutil.rmtree(_docs_path / \"API\", ignore_errors=True)\n",
    "\n",
    "    summary = summary + f\"- API\\n\"\n",
    "    all_modules: Set[str] = set()\n",
    "\n",
    "    for m, sx in symbols.items():\n",
    "\n",
    "        level = len(m.split(\".\")) - 1\n",
    "\n",
    "        parts = m.split(\".\")[-1:]\n",
    "        path_link = \"API/\" + \"/\".join(parts)\n",
    "        path = _docs_path / path_link\n",
    "\n",
    "        if level == 1:\n",
    "            summary = summary + f\"{'    '*(level)}- {m}\\n\"\n",
    "        else:\n",
    "            summary, all_modules = generate_nav_tree(level, summary, m, all_modules)\n",
    "\n",
    "        path.mkdir(exist_ok=True, parents=True)\n",
    "\n",
    "        for s in sx:\n",
    "            summary = summary + f\"{'    '*(level+1)}- [{s}]({path_link}/{s}.md)\\n\"\n",
    "            fname = s + \".md\"\n",
    "\n",
    "            with open(path / fname, mode=\"w\") as f:\n",
    "                print(f\"Writing {Path(path_link) / fname}\")\n",
    "                f.write(f\"#{s}\\n::: {m}.{s}\\n\")\n",
    "\n",
    "    #     summary = summary + \"- [Release](RELEASE.md)\"\n",
    "\n",
    "    with open(_docs_path / \"SUMMARY.md\", mode=\"w\") as f:\n",
    "        f.write(summary)\n",
    "\n",
    "    return summary\n",
    "\n",
    "\n",
    "# print(build_api_docs(docs_path = \"../docs\"))"
   ]
  },
  {
   "cell_type": "code",
   "execution_count": null,
   "metadata": {},
   "outputs": [
    {
     "name": "stdout",
     "output_type": "stream",
     "text": [
      "Writing API/cli/app.md\n",
      "Writing API/cli/list_submodules.md\n",
      "Writing API/cli/get_exported_symbols.md\n",
      "Writing API/cli/generate_nav_tree.md\n",
      "Writing API/cli/build_api_docs.md\n",
      "Writing API/helpers/run_examples_from_docstring.md\n"
     ]
    }
   ],
   "source": [
    "with tempfile.TemporaryDirectory() as d:\n",
    "    docs_path = Path(d) / \"docs\"\n",
    "    docs_path.mkdir(parents=True)\n",
    "    #     shutil.copytree(\"../docs\", docs_path)\n",
    "    build_api_docs(module=\"nbdev_mkdocs\", docs_path=docs_path)\n",
    "\n",
    "#     !cat {docs_path}/SUMMARY.md"
   ]
  },
  {
   "cell_type": "code",
   "execution_count": null,
   "metadata": {},
   "outputs": [
    {
     "data": {
      "text/plain": [
       "<function __main__.build_api_docs(module: str = <typer.models.ArgumentInfo object>, docs_path: str = <typer.models.OptionInfo object>)>"
      ]
     },
     "execution_count": null,
     "metadata": {},
     "output_type": "execute_result"
    }
   ],
   "source": [
    "# | export\n",
    "\n",
    "\n",
    "app.command()(build_api_docs)"
   ]
  },
  {
   "cell_type": "code",
   "execution_count": null,
   "metadata": {},
   "outputs": [
    {
     "data": {
      "text/html": [
       "<pre style=\"white-space:pre;overflow-x:auto;line-height:normal;font-family:Menlo,'DejaVu Sans Mono',consolas,'Courier New',monospace\"><span style=\"font-weight: bold\">                                                                                                                   </span>\n",
       "<span style=\"font-weight: bold\"> </span><span style=\"color: #808000; text-decoration-color: #808000; font-weight: bold\">Usage: </span><span style=\"font-weight: bold\">build-api-docs [OPTIONS] MODULE                                                                            </span>\n",
       "<span style=\"font-weight: bold\">                                                                                                                   </span>\n",
       "</pre>\n"
      ],
      "text/plain": [
       "\u001b[1m                                                                                                                   \u001b[0m\n",
       "\u001b[1m \u001b[0m\u001b[1;33mUsage: \u001b[0m\u001b[1mbuild-api-docs [OPTIONS] MODULE\u001b[0m\u001b[1m                                                                           \u001b[0m\u001b[1m \u001b[0m\n",
       "\u001b[1m                                                                                                                   \u001b[0m\n"
      ]
     },
     "metadata": {},
     "output_type": "display_data"
    },
    {
     "data": {
      "text/html": [
       "<pre style=\"white-space:pre;overflow-x:auto;line-height:normal;font-family:Menlo,'DejaVu Sans Mono',consolas,'Courier New',monospace\"><span style=\"color: #7f7f7f; text-decoration-color: #7f7f7f\">╭─ Arguments ─────────────────────────────────────────────────────────────────────────────────────────────────────╮</span>\n",
       "<span style=\"color: #7f7f7f; text-decoration-color: #7f7f7f\">│</span> <span style=\"color: #800000; text-decoration-color: #800000\">*</span>    module      <span style=\"color: #808000; text-decoration-color: #808000; font-weight: bold\">TEXT</span>  The module name to generate docs <span style=\"color: #7f7f7f; text-decoration-color: #7f7f7f\">[default: None]</span> <span style=\"color: #bf7f7f; text-decoration-color: #bf7f7f\">[required]</span>                              <span style=\"color: #7f7f7f; text-decoration-color: #7f7f7f\">│</span>\n",
       "<span style=\"color: #7f7f7f; text-decoration-color: #7f7f7f\">╰─────────────────────────────────────────────────────────────────────────────────────────────────────────────────╯</span>\n",
       "</pre>\n"
      ],
      "text/plain": [
       "\u001b[2m╭─\u001b[0m\u001b[2m Arguments \u001b[0m\u001b[2m────────────────────────────────────────────────────────────────────────────────────────────────────\u001b[0m\u001b[2m─╮\u001b[0m\n",
       "\u001b[2m│\u001b[0m \u001b[31m*\u001b[0m    module      \u001b[1;33mTEXT\u001b[0m  The module name to generate docs \u001b[2m[default: None]\u001b[0m \u001b[2;31m[required]\u001b[0m                              \u001b[2m│\u001b[0m\n",
       "\u001b[2m╰─────────────────────────────────────────────────────────────────────────────────────────────────────────────────╯\u001b[0m\n"
      ]
     },
     "metadata": {},
     "output_type": "display_data"
    },
    {
     "data": {
      "text/html": [
       "<pre style=\"white-space:pre;overflow-x:auto;line-height:normal;font-family:Menlo,'DejaVu Sans Mono',consolas,'Courier New',monospace\"><span style=\"color: #7f7f7f; text-decoration-color: #7f7f7f\">╭─ Options ───────────────────────────────────────────────────────────────────────────────────────────────────────╮</span>\n",
       "<span style=\"color: #7f7f7f; text-decoration-color: #7f7f7f\">│</span> <span style=\"color: #008080; text-decoration-color: #008080; font-weight: bold\">--docs-path</span>                 <span style=\"color: #808000; text-decoration-color: #808000; font-weight: bold\">TEXT</span>  <span style=\"color: #7f7f7f; text-decoration-color: #7f7f7f\">[default: docs]</span>                                                               <span style=\"color: #7f7f7f; text-decoration-color: #7f7f7f\">│</span>\n",
       "<span style=\"color: #7f7f7f; text-decoration-color: #7f7f7f\">│</span> <span style=\"color: #008080; text-decoration-color: #008080; font-weight: bold\">--install-completion</span>        <span style=\"color: #808000; text-decoration-color: #808000; font-weight: bold\">    </span>  Install completion for the current shell.                                     <span style=\"color: #7f7f7f; text-decoration-color: #7f7f7f\">│</span>\n",
       "<span style=\"color: #7f7f7f; text-decoration-color: #7f7f7f\">│</span> <span style=\"color: #008080; text-decoration-color: #008080; font-weight: bold\">--show-completion</span>           <span style=\"color: #808000; text-decoration-color: #808000; font-weight: bold\">    </span>  Show completion for the current shell, to copy it or customize the            <span style=\"color: #7f7f7f; text-decoration-color: #7f7f7f\">│</span>\n",
       "<span style=\"color: #7f7f7f; text-decoration-color: #7f7f7f\">│</span>                                   installation.                                                                 <span style=\"color: #7f7f7f; text-decoration-color: #7f7f7f\">│</span>\n",
       "<span style=\"color: #7f7f7f; text-decoration-color: #7f7f7f\">│</span> <span style=\"color: #008080; text-decoration-color: #008080; font-weight: bold\">--help</span>                      <span style=\"color: #808000; text-decoration-color: #808000; font-weight: bold\">    </span>  Show this message and exit.                                                   <span style=\"color: #7f7f7f; text-decoration-color: #7f7f7f\">│</span>\n",
       "<span style=\"color: #7f7f7f; text-decoration-color: #7f7f7f\">╰─────────────────────────────────────────────────────────────────────────────────────────────────────────────────╯</span>\n",
       "</pre>\n"
      ],
      "text/plain": [
       "\u001b[2m╭─\u001b[0m\u001b[2m Options \u001b[0m\u001b[2m──────────────────────────────────────────────────────────────────────────────────────────────────────\u001b[0m\u001b[2m─╮\u001b[0m\n",
       "\u001b[2m│\u001b[0m \u001b[1;36m-\u001b[0m\u001b[1;36m-docs\u001b[0m\u001b[1;36m-path\u001b[0m                 \u001b[1;33mTEXT\u001b[0m  \u001b[2m[default: docs]\u001b[0m                                                               \u001b[2m│\u001b[0m\n",
       "\u001b[2m│\u001b[0m \u001b[1;36m-\u001b[0m\u001b[1;36m-install\u001b[0m\u001b[1;36m-completion\u001b[0m        \u001b[1;33m    \u001b[0m  Install completion for the current shell.                                     \u001b[2m│\u001b[0m\n",
       "\u001b[2m│\u001b[0m \u001b[1;36m-\u001b[0m\u001b[1;36m-show\u001b[0m\u001b[1;36m-completion\u001b[0m           \u001b[1;33m    \u001b[0m  Show completion for the current shell, to copy it or customize the            \u001b[2m│\u001b[0m\n",
       "\u001b[2m│\u001b[0m                                   installation.                                                                 \u001b[2m│\u001b[0m\n",
       "\u001b[2m│\u001b[0m \u001b[1;36m-\u001b[0m\u001b[1;36m-help\u001b[0m                      \u001b[1;33m    \u001b[0m  Show this message and exit.                                                   \u001b[2m│\u001b[0m\n",
       "\u001b[2m╰─────────────────────────────────────────────────────────────────────────────────────────────────────────────────╯\u001b[0m\n"
      ]
     },
     "metadata": {},
     "output_type": "display_data"
    },
    {
     "name": "stdout",
     "output_type": "stream",
     "text": [
      "\n",
      "\n"
     ]
    }
   ],
   "source": [
    "result = runner.invoke(app, [\"--help\"])\n",
    "\n",
    "print(result.stdout)"
   ]
  },
  {
   "cell_type": "code",
   "execution_count": null,
   "metadata": {},
   "outputs": [],
   "source": []
  }
 ],
 "metadata": {
  "kernelspec": {
   "display_name": "Python 3",
   "language": "python",
   "name": "python3"
  }
 },
 "nbformat": 4,
 "nbformat_minor": 2
}
